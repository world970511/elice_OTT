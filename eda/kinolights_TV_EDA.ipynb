{
  "nbformat": 4,
  "nbformat_minor": 0,
  "metadata": {
    "colab": {
      "name": "kinolights_TV_EDA",
      "provenance": [],
      "collapsed_sections": [],
      "mount_file_id": "1KSk80LTtEfRXxGh-_0_yhfDkAcKP3Uaa",
      "authorship_tag": "ABX9TyOS/0HnUUoDTWbr2exUxe08",
      "include_colab_link": true
    },
    "kernelspec": {
      "name": "python3",
      "display_name": "Python 3"
    },
    "language_info": {
      "name": "python"
    },
    "accelerator": "GPU"
  },
  "cells": [
    {
      "cell_type": "markdown",
      "metadata": {
        "id": "view-in-github",
        "colab_type": "text"
      },
      "source": [
        "<a href=\"https://colab.research.google.com/github/world970511/elice_OTT/blob/master/eda/kinolights_TV_EDA.ipynb\" target=\"_parent\"><img src=\"https://colab.research.google.com/assets/colab-badge.svg\" alt=\"Open In Colab\"/></a>"
      ]
    },
    {
      "cell_type": "markdown",
      "source": [
        "\n",
        "#**OTT 서비스 (TV) 분석**"
      ],
      "metadata": {
        "id": "Yj4cO1WoGJ02"
      }
    },
    {
      "cell_type": "code",
      "execution_count": null,
      "metadata": {
        "id": "1EzInUZhkBhR"
      },
      "outputs": [],
      "source": [
        "import pandas as pd\n",
        "import numpy as np\n",
        "import re\n",
        "import urllib.request"
      ]
    },
    {
      "cell_type": "code",
      "source": [
        "!pip install plotly"
      ],
      "metadata": {
        "id": "xGjm0YrwWqfJ",
        "colab": {
          "base_uri": "https://localhost:8080/"
        },
        "outputId": "ee3062a3-70d8-4f04-cb05-35de833f42f7"
      },
      "execution_count": null,
      "outputs": [
        {
          "output_type": "stream",
          "name": "stdout",
          "text": [
            "Requirement already satisfied: plotly in /usr/local/lib/python3.7/dist-packages (4.4.1)\n",
            "Requirement already satisfied: six in /usr/local/lib/python3.7/dist-packages (from plotly) (1.15.0)\n",
            "Requirement already satisfied: retrying>=1.3.3 in /usr/local/lib/python3.7/dist-packages (from plotly) (1.3.3)\n"
          ]
        }
      ]
    },
    {
      "cell_type": "markdown",
      "source": [
        "##**데이터 전처리**"
      ],
      "metadata": {
        "id": "kmS-lO-kGXV7"
      }
    },
    {
      "cell_type": "code",
      "source": [
        "#데이터 다운로드\n",
        "urllib.request.urlretrieve(\"https://raw.githubusercontent.com/world970511/elice_OTT/master/dataset/kinolight_all_data.csv\",\n",
        "                        filename=\"OTT.csv\")\n",
        "data = pd.read_csv('OTT.csv',encoding='utf-8')\n",
        "tv_data=data.loc[data.kind == 'TV'] # kind가 tv인 것만 사용\n",
        "tv_data.info"
      ],
      "metadata": {
        "id": "ddc2h_f7Gek9",
        "colab": {
          "base_uri": "https://localhost:8080/"
        },
        "outputId": "fed2c237-7278-47b7-b9f4-c75629da0db6"
      },
      "execution_count": null,
      "outputs": [
        {
          "output_type": "execute_result",
          "data": {
            "text/plain": [
              "<bound method DataFrame.info of                                     title  ...          provider\n",
              "0                  고요의 바다(The Silent Sea)  ...          ['넷플릭스']\n",
              "2                           설강화(Snowdrop)  ...          ['디즈니+']\n",
              "7             그 해 우리는(Our Beloved Summer)  ...   ['넷플릭스', '웨이브']\n",
              "9           불가살(Bulgasal: Immortal Souls)  ...    ['넷플릭스', '티빙']\n",
              "12              옷소매 붉은 끝동(The Red Sleeve)  ...  ['웨이브', '쿠팡플레이']\n",
              "...                                   ...  ...               ...\n",
              "27311  미니의 리본 가게 시즌 3(Minnie's Bow-Toons)  ...          ['디즈니+']\n",
              "27312         만능 수리공 매니 시즌 1(Handy Manny)  ...          ['디즈니+']\n",
              "27313         만능 수리공 매니 시즌 2(Handy Manny)  ...          ['디즈니+']\n",
              "27314          아기를 부탁해! 토츠 시즌 2(T.O.T.S.)  ...          ['디즈니+']\n",
              "27315            실험실의 비밀친구 시즌 3(Lab Rats)  ...          ['디즈니+']\n",
              "\n",
              "[11428 rows x 10 columns]>"
            ]
          },
          "metadata": {},
          "execution_count": 3
        }
      ]
    },
    {
      "cell_type": "code",
      "source": [
        "#중복제거 및 기타 제거\n",
        "li=['genre','country','cast','director','provider',]\n",
        "\n",
        "for i in li:\n",
        "  tv_data[i]=tv_data[i].apply(lambda x:re.sub(r'\\([^)]*\\)', '',x.replace('[','').replace(']','').replace(\"'\",'').replace(\"'\",'')))\n",
        "  tv_data[i]=tv_data[i].apply(lambda x:re.sub(r' ', '',x))\n",
        "  tv_data[i]=tv_data[i].apply(lambda x: ','.join(set(x.strip().split(','))))\n",
        "\n",
        "tv_data.head(5)"
      ],
      "metadata": {
        "id": "oYCga7FSLE88",
        "colab": {
          "base_uri": "https://localhost:8080/",
          "height": 533
        },
        "outputId": "8efc80ba-c4d0-4666-a068-8430d14bdc03"
      },
      "execution_count": null,
      "outputs": [
        {
          "output_type": "stream",
          "name": "stderr",
          "text": [
            "/usr/local/lib/python3.7/dist-packages/ipykernel_launcher.py:5: SettingWithCopyWarning: \n",
            "A value is trying to be set on a copy of a slice from a DataFrame.\n",
            "Try using .loc[row_indexer,col_indexer] = value instead\n",
            "\n",
            "See the caveats in the documentation: https://pandas.pydata.org/pandas-docs/stable/user_guide/indexing.html#returning-a-view-versus-a-copy\n",
            "  \"\"\"\n",
            "/usr/local/lib/python3.7/dist-packages/ipykernel_launcher.py:6: SettingWithCopyWarning: \n",
            "A value is trying to be set on a copy of a slice from a DataFrame.\n",
            "Try using .loc[row_indexer,col_indexer] = value instead\n",
            "\n",
            "See the caveats in the documentation: https://pandas.pydata.org/pandas-docs/stable/user_guide/indexing.html#returning-a-view-versus-a-copy\n",
            "  \n",
            "/usr/local/lib/python3.7/dist-packages/ipykernel_launcher.py:7: SettingWithCopyWarning: \n",
            "A value is trying to be set on a copy of a slice from a DataFrame.\n",
            "Try using .loc[row_indexer,col_indexer] = value instead\n",
            "\n",
            "See the caveats in the documentation: https://pandas.pydata.org/pandas-docs/stable/user_guide/indexing.html#returning-a-view-versus-a-copy\n",
            "  import sys\n"
          ]
        },
        {
          "output_type": "execute_result",
          "data": {
            "text/html": [
              "\n",
              "  <div id=\"df-d597ad4b-3e28-4b46-b68e-afece70d9204\">\n",
              "    <div class=\"colab-df-container\">\n",
              "      <div>\n",
              "<style scoped>\n",
              "    .dataframe tbody tr th:only-of-type {\n",
              "        vertical-align: middle;\n",
              "    }\n",
              "\n",
              "    .dataframe tbody tr th {\n",
              "        vertical-align: top;\n",
              "    }\n",
              "\n",
              "    .dataframe thead th {\n",
              "        text-align: right;\n",
              "    }\n",
              "</style>\n",
              "<table border=\"1\" class=\"dataframe\">\n",
              "  <thead>\n",
              "    <tr style=\"text-align: right;\">\n",
              "      <th></th>\n",
              "      <th>title</th>\n",
              "      <th>year</th>\n",
              "      <th>kind</th>\n",
              "      <th>KMRB</th>\n",
              "      <th>genre</th>\n",
              "      <th>country</th>\n",
              "      <th>cast</th>\n",
              "      <th>director</th>\n",
              "      <th>runtime(min)</th>\n",
              "      <th>provider</th>\n",
              "    </tr>\n",
              "  </thead>\n",
              "  <tbody>\n",
              "    <tr>\n",
              "      <th>0</th>\n",
              "      <td>고요의 바다(The Silent Sea)</td>\n",
              "      <td>2021.0</td>\n",
              "      <td>TV</td>\n",
              "      <td>15세이상관람가</td>\n",
              "      <td>SF,스릴러</td>\n",
              "      <td>한국</td>\n",
              "      <td>김선영,이준,배두나,이무생,이성욱,공유,허성태</td>\n",
              "      <td>최항용</td>\n",
              "      <td>NaN</td>\n",
              "      <td>넷플릭스</td>\n",
              "    </tr>\n",
              "    <tr>\n",
              "      <th>2</th>\n",
              "      <td>설강화(Snowdrop)</td>\n",
              "      <td>2021.0</td>\n",
              "      <td>TV</td>\n",
              "      <td>15세이상관람가</td>\n",
              "      <td>드라마</td>\n",
              "      <td>한국</td>\n",
              "      <td>정유진,지수,김혜윤,윤세아,장승조,정해인,유인나</td>\n",
              "      <td>조현탁</td>\n",
              "      <td>NaN</td>\n",
              "      <td>디즈니+</td>\n",
              "    </tr>\n",
              "    <tr>\n",
              "      <th>7</th>\n",
              "      <td>그 해 우리는(Our Beloved Summer)</td>\n",
              "      <td>2021.0</td>\n",
              "      <td>TV</td>\n",
              "      <td>15세이상관람가</td>\n",
              "      <td>멜로/로맨스</td>\n",
              "      <td>한국</td>\n",
              "      <td>박진주,김다미,최우식,김성철,노정의,조복래</td>\n",
              "      <td>김윤진,이단</td>\n",
              "      <td>NaN</td>\n",
              "      <td>웨이브,넷플릭스</td>\n",
              "    </tr>\n",
              "    <tr>\n",
              "      <th>9</th>\n",
              "      <td>불가살(Bulgasal: Immortal Souls)</td>\n",
              "      <td>2021.0</td>\n",
              "      <td>TV</td>\n",
              "      <td>15세이상관람가</td>\n",
              "      <td>드라마</td>\n",
              "      <td>한국</td>\n",
              "      <td>이준,권나라,공승연,김우석,정진영,박명신,이진욱</td>\n",
              "      <td>장영우</td>\n",
              "      <td>NaN</td>\n",
              "      <td>넷플릭스,티빙</td>\n",
              "    </tr>\n",
              "    <tr>\n",
              "      <th>12</th>\n",
              "      <td>옷소매 붉은 끝동(The Red Sleeve)</td>\n",
              "      <td>2021.0</td>\n",
              "      <td>TV</td>\n",
              "      <td>15세이상관람가</td>\n",
              "      <td>드라마</td>\n",
              "      <td>한국</td>\n",
              "      <td>장혜진,강훈,이덕화,장희진,박지영,준호,이세영</td>\n",
              "      <td>정지인</td>\n",
              "      <td>NaN</td>\n",
              "      <td>웨이브,쿠팡플레이</td>\n",
              "    </tr>\n",
              "  </tbody>\n",
              "</table>\n",
              "</div>\n",
              "      <button class=\"colab-df-convert\" onclick=\"convertToInteractive('df-d597ad4b-3e28-4b46-b68e-afece70d9204')\"\n",
              "              title=\"Convert this dataframe to an interactive table.\"\n",
              "              style=\"display:none;\">\n",
              "        \n",
              "  <svg xmlns=\"http://www.w3.org/2000/svg\" height=\"24px\"viewBox=\"0 0 24 24\"\n",
              "       width=\"24px\">\n",
              "    <path d=\"M0 0h24v24H0V0z\" fill=\"none\"/>\n",
              "    <path d=\"M18.56 5.44l.94 2.06.94-2.06 2.06-.94-2.06-.94-.94-2.06-.94 2.06-2.06.94zm-11 1L8.5 8.5l.94-2.06 2.06-.94-2.06-.94L8.5 2.5l-.94 2.06-2.06.94zm10 10l.94 2.06.94-2.06 2.06-.94-2.06-.94-.94-2.06-.94 2.06-2.06.94z\"/><path d=\"M17.41 7.96l-1.37-1.37c-.4-.4-.92-.59-1.43-.59-.52 0-1.04.2-1.43.59L10.3 9.45l-7.72 7.72c-.78.78-.78 2.05 0 2.83L4 21.41c.39.39.9.59 1.41.59.51 0 1.02-.2 1.41-.59l7.78-7.78 2.81-2.81c.8-.78.8-2.07 0-2.86zM5.41 20L4 18.59l7.72-7.72 1.47 1.35L5.41 20z\"/>\n",
              "  </svg>\n",
              "      </button>\n",
              "      \n",
              "  <style>\n",
              "    .colab-df-container {\n",
              "      display:flex;\n",
              "      flex-wrap:wrap;\n",
              "      gap: 12px;\n",
              "    }\n",
              "\n",
              "    .colab-df-convert {\n",
              "      background-color: #E8F0FE;\n",
              "      border: none;\n",
              "      border-radius: 50%;\n",
              "      cursor: pointer;\n",
              "      display: none;\n",
              "      fill: #1967D2;\n",
              "      height: 32px;\n",
              "      padding: 0 0 0 0;\n",
              "      width: 32px;\n",
              "    }\n",
              "\n",
              "    .colab-df-convert:hover {\n",
              "      background-color: #E2EBFA;\n",
              "      box-shadow: 0px 1px 2px rgba(60, 64, 67, 0.3), 0px 1px 3px 1px rgba(60, 64, 67, 0.15);\n",
              "      fill: #174EA6;\n",
              "    }\n",
              "\n",
              "    [theme=dark] .colab-df-convert {\n",
              "      background-color: #3B4455;\n",
              "      fill: #D2E3FC;\n",
              "    }\n",
              "\n",
              "    [theme=dark] .colab-df-convert:hover {\n",
              "      background-color: #434B5C;\n",
              "      box-shadow: 0px 1px 3px 1px rgba(0, 0, 0, 0.15);\n",
              "      filter: drop-shadow(0px 1px 2px rgba(0, 0, 0, 0.3));\n",
              "      fill: #FFFFFF;\n",
              "    }\n",
              "  </style>\n",
              "\n",
              "      <script>\n",
              "        const buttonEl =\n",
              "          document.querySelector('#df-d597ad4b-3e28-4b46-b68e-afece70d9204 button.colab-df-convert');\n",
              "        buttonEl.style.display =\n",
              "          google.colab.kernel.accessAllowed ? 'block' : 'none';\n",
              "\n",
              "        async function convertToInteractive(key) {\n",
              "          const element = document.querySelector('#df-d597ad4b-3e28-4b46-b68e-afece70d9204');\n",
              "          const dataTable =\n",
              "            await google.colab.kernel.invokeFunction('convertToInteractive',\n",
              "                                                     [key], {});\n",
              "          if (!dataTable) return;\n",
              "\n",
              "          const docLinkHtml = 'Like what you see? Visit the ' +\n",
              "            '<a target=\"_blank\" href=https://colab.research.google.com/notebooks/data_table.ipynb>data table notebook</a>'\n",
              "            + ' to learn more about interactive tables.';\n",
              "          element.innerHTML = '';\n",
              "          dataTable['output_type'] = 'display_data';\n",
              "          await google.colab.output.renderOutput(dataTable, element);\n",
              "          const docLink = document.createElement('div');\n",
              "          docLink.innerHTML = docLinkHtml;\n",
              "          element.appendChild(docLink);\n",
              "        }\n",
              "      </script>\n",
              "    </div>\n",
              "  </div>\n",
              "  "
            ],
            "text/plain": [
              "                            title    year kind  ... director runtime(min)   provider\n",
              "0          고요의 바다(The Silent Sea)  2021.0   TV  ...      최항용          NaN       넷플릭스\n",
              "2                   설강화(Snowdrop)  2021.0   TV  ...      조현탁          NaN       디즈니+\n",
              "7     그 해 우리는(Our Beloved Summer)  2021.0   TV  ...   김윤진,이단          NaN   웨이브,넷플릭스\n",
              "9   불가살(Bulgasal: Immortal Souls)  2021.0   TV  ...      장영우          NaN    넷플릭스,티빙\n",
              "12      옷소매 붉은 끝동(The Red Sleeve)  2021.0   TV  ...      정지인          NaN  웨이브,쿠팡플레이\n",
              "\n",
              "[5 rows x 10 columns]"
            ]
          },
          "metadata": {},
          "execution_count": 4
        }
      ]
    },
    {
      "cell_type": "code",
      "source": [
        "#불필요한 행 제거\n",
        "tv_data= tv_data[tv_data['title']!='title']\n",
        "\n",
        "#년도 정수형으로 변경\n",
        "tv_data['year']=tv_data['year'].astype('float').astype('Int64')\n",
        "\n",
        "#제작미정,시사/교양,기타(장르가 아니라 country로 가있음;;) 정리\n",
        "# 제작미정인 경우 풀릴 예정인 곳과 아닌 곳이 있고 양이 너무 많아서 그냥 장르로 변경함\n",
        "def r_ch(s,i):\n",
        "  li=s.split(',')\n",
        "  if i in li: \n",
        "    li.remove(i)\n",
        "  return ','.join (li)\n",
        "\n",
        "\n",
        "def add_ch(s,i):\n",
        "  li=s.split(',')\n",
        "  if i not in li: li+=[i]\n",
        "  return ','.join (li)\n",
        "\n",
        "li=['미정','시사/교양','기타']\n",
        "for i in li:\n",
        "    d=tv_data.loc[tv_data[\"country\"].str.contains(i)]\n",
        "    tv_data=tv_data.loc[tv_data[\"country\"].str.contains(i)==False]\n",
        "\n",
        "    d['country']=d['country'].apply(lambda x:r_ch(x,i))\n",
        "    d['genre']=d['genre'].apply(lambda x:add_ch(x,i))\n",
        "\n",
        "    tv_data=pd.concat([tv_data,d])\n",
        "\n",
        "tv_data"
      ],
      "metadata": {
        "id": "cMaLNrWNLFDy",
        "colab": {
          "base_uri": "https://localhost:8080/",
          "height": 624
        },
        "outputId": "3a7e7905-eaef-434d-8fa3-864f95245750"
      },
      "execution_count": null,
      "outputs": [
        {
          "output_type": "execute_result",
          "data": {
            "text/html": [
              "\n",
              "  <div id=\"df-6d07d47c-918d-41a0-832f-7eefe5fe170e\">\n",
              "    <div class=\"colab-df-container\">\n",
              "      <div>\n",
              "<style scoped>\n",
              "    .dataframe tbody tr th:only-of-type {\n",
              "        vertical-align: middle;\n",
              "    }\n",
              "\n",
              "    .dataframe tbody tr th {\n",
              "        vertical-align: top;\n",
              "    }\n",
              "\n",
              "    .dataframe thead th {\n",
              "        text-align: right;\n",
              "    }\n",
              "</style>\n",
              "<table border=\"1\" class=\"dataframe\">\n",
              "  <thead>\n",
              "    <tr style=\"text-align: right;\">\n",
              "      <th></th>\n",
              "      <th>title</th>\n",
              "      <th>year</th>\n",
              "      <th>kind</th>\n",
              "      <th>KMRB</th>\n",
              "      <th>genre</th>\n",
              "      <th>country</th>\n",
              "      <th>cast</th>\n",
              "      <th>director</th>\n",
              "      <th>runtime(min)</th>\n",
              "      <th>provider</th>\n",
              "    </tr>\n",
              "  </thead>\n",
              "  <tbody>\n",
              "    <tr>\n",
              "      <th>0</th>\n",
              "      <td>고요의 바다(The Silent Sea)</td>\n",
              "      <td>2021</td>\n",
              "      <td>TV</td>\n",
              "      <td>15세이상관람가</td>\n",
              "      <td>SF,스릴러</td>\n",
              "      <td>한국</td>\n",
              "      <td>김선영,이준,배두나,이무생,이성욱,공유,허성태</td>\n",
              "      <td>최항용</td>\n",
              "      <td>NaN</td>\n",
              "      <td>넷플릭스</td>\n",
              "    </tr>\n",
              "    <tr>\n",
              "      <th>2</th>\n",
              "      <td>설강화(Snowdrop)</td>\n",
              "      <td>2021</td>\n",
              "      <td>TV</td>\n",
              "      <td>15세이상관람가</td>\n",
              "      <td>드라마</td>\n",
              "      <td>한국</td>\n",
              "      <td>정유진,지수,김혜윤,윤세아,장승조,정해인,유인나</td>\n",
              "      <td>조현탁</td>\n",
              "      <td>NaN</td>\n",
              "      <td>디즈니+</td>\n",
              "    </tr>\n",
              "    <tr>\n",
              "      <th>7</th>\n",
              "      <td>그 해 우리는(Our Beloved Summer)</td>\n",
              "      <td>2021</td>\n",
              "      <td>TV</td>\n",
              "      <td>15세이상관람가</td>\n",
              "      <td>멜로/로맨스</td>\n",
              "      <td>한국</td>\n",
              "      <td>박진주,김다미,최우식,김성철,노정의,조복래</td>\n",
              "      <td>김윤진,이단</td>\n",
              "      <td>NaN</td>\n",
              "      <td>웨이브,넷플릭스</td>\n",
              "    </tr>\n",
              "    <tr>\n",
              "      <th>9</th>\n",
              "      <td>불가살(Bulgasal: Immortal Souls)</td>\n",
              "      <td>2021</td>\n",
              "      <td>TV</td>\n",
              "      <td>15세이상관람가</td>\n",
              "      <td>드라마</td>\n",
              "      <td>한국</td>\n",
              "      <td>이준,권나라,공승연,김우석,정진영,박명신,이진욱</td>\n",
              "      <td>장영우</td>\n",
              "      <td>NaN</td>\n",
              "      <td>넷플릭스,티빙</td>\n",
              "    </tr>\n",
              "    <tr>\n",
              "      <th>12</th>\n",
              "      <td>옷소매 붉은 끝동(The Red Sleeve)</td>\n",
              "      <td>2021</td>\n",
              "      <td>TV</td>\n",
              "      <td>15세이상관람가</td>\n",
              "      <td>드라마</td>\n",
              "      <td>한국</td>\n",
              "      <td>장혜진,강훈,이덕화,장희진,박지영,준호,이세영</td>\n",
              "      <td>정지인</td>\n",
              "      <td>NaN</td>\n",
              "      <td>웨이브,쿠팡플레이</td>\n",
              "    </tr>\n",
              "    <tr>\n",
              "      <th>...</th>\n",
              "      <td>...</td>\n",
              "      <td>...</td>\n",
              "      <td>...</td>\n",
              "      <td>...</td>\n",
              "      <td>...</td>\n",
              "      <td>...</td>\n",
              "      <td>...</td>\n",
              "      <td>...</td>\n",
              "      <td>...</td>\n",
              "      <td>...</td>\n",
              "    </tr>\n",
              "    <tr>\n",
              "      <th>23867</th>\n",
              "      <td>삼총사 시즌 3(The Musketeers Season 3)</td>\n",
              "      <td>2016</td>\n",
              "      <td>TV</td>\n",
              "      <td>NaN</td>\n",
              "      <td>드라마,어드벤처,기타</td>\n",
              "      <td>영국</td>\n",
              "      <td></td>\n",
              "      <td></td>\n",
              "      <td>NaN</td>\n",
              "      <td>웨이브</td>\n",
              "    </tr>\n",
              "    <tr>\n",
              "      <th>25022</th>\n",
              "      <td>JOB룡 이십끼()</td>\n",
              "      <td>2020</td>\n",
              "      <td>TV</td>\n",
              "      <td>NaN</td>\n",
              "      <td>예능,기타</td>\n",
              "      <td>한국</td>\n",
              "      <td>유민상</td>\n",
              "      <td></td>\n",
              "      <td>NaN</td>\n",
              "      <td>웨이브,왓챠</td>\n",
              "    </tr>\n",
              "    <tr>\n",
              "      <th>26598</th>\n",
              "      <td>빌로우 덱: 지중해의 요티 시즌 2(Below Deck Mediterranean)</td>\n",
              "      <td>2017</td>\n",
              "      <td>TV</td>\n",
              "      <td>NaN</td>\n",
              "      <td>예능,기타</td>\n",
              "      <td>미국</td>\n",
              "      <td></td>\n",
              "      <td></td>\n",
              "      <td>NaN</td>\n",
              "      <td>넷플릭스</td>\n",
              "    </tr>\n",
              "    <tr>\n",
              "      <th>23607</th>\n",
              "      <td>쉘위워크(Shall We Walk?)</td>\n",
              "      <td>2017</td>\n",
              "      <td>TV</td>\n",
              "      <td>NaN</td>\n",
              "      <td>예능,시사/교양,기타</td>\n",
              "      <td>한국</td>\n",
              "      <td>이하늬,이제훈</td>\n",
              "      <td></td>\n",
              "      <td>NaN</td>\n",
              "      <td>티빙</td>\n",
              "    </tr>\n",
              "    <tr>\n",
              "      <th>23686</th>\n",
              "      <td>TV정보쇼 오!아시스()</td>\n",
              "      <td>2018</td>\n",
              "      <td>TV</td>\n",
              "      <td>NaN</td>\n",
              "      <td>예능,시사/교양,기타</td>\n",
              "      <td>한국</td>\n",
              "      <td>신현준,이지애</td>\n",
              "      <td></td>\n",
              "      <td>NaN</td>\n",
              "      <td>티빙</td>\n",
              "    </tr>\n",
              "  </tbody>\n",
              "</table>\n",
              "<p>11428 rows × 10 columns</p>\n",
              "</div>\n",
              "      <button class=\"colab-df-convert\" onclick=\"convertToInteractive('df-6d07d47c-918d-41a0-832f-7eefe5fe170e')\"\n",
              "              title=\"Convert this dataframe to an interactive table.\"\n",
              "              style=\"display:none;\">\n",
              "        \n",
              "  <svg xmlns=\"http://www.w3.org/2000/svg\" height=\"24px\"viewBox=\"0 0 24 24\"\n",
              "       width=\"24px\">\n",
              "    <path d=\"M0 0h24v24H0V0z\" fill=\"none\"/>\n",
              "    <path d=\"M18.56 5.44l.94 2.06.94-2.06 2.06-.94-2.06-.94-.94-2.06-.94 2.06-2.06.94zm-11 1L8.5 8.5l.94-2.06 2.06-.94-2.06-.94L8.5 2.5l-.94 2.06-2.06.94zm10 10l.94 2.06.94-2.06 2.06-.94-2.06-.94-.94-2.06-.94 2.06-2.06.94z\"/><path d=\"M17.41 7.96l-1.37-1.37c-.4-.4-.92-.59-1.43-.59-.52 0-1.04.2-1.43.59L10.3 9.45l-7.72 7.72c-.78.78-.78 2.05 0 2.83L4 21.41c.39.39.9.59 1.41.59.51 0 1.02-.2 1.41-.59l7.78-7.78 2.81-2.81c.8-.78.8-2.07 0-2.86zM5.41 20L4 18.59l7.72-7.72 1.47 1.35L5.41 20z\"/>\n",
              "  </svg>\n",
              "      </button>\n",
              "      \n",
              "  <style>\n",
              "    .colab-df-container {\n",
              "      display:flex;\n",
              "      flex-wrap:wrap;\n",
              "      gap: 12px;\n",
              "    }\n",
              "\n",
              "    .colab-df-convert {\n",
              "      background-color: #E8F0FE;\n",
              "      border: none;\n",
              "      border-radius: 50%;\n",
              "      cursor: pointer;\n",
              "      display: none;\n",
              "      fill: #1967D2;\n",
              "      height: 32px;\n",
              "      padding: 0 0 0 0;\n",
              "      width: 32px;\n",
              "    }\n",
              "\n",
              "    .colab-df-convert:hover {\n",
              "      background-color: #E2EBFA;\n",
              "      box-shadow: 0px 1px 2px rgba(60, 64, 67, 0.3), 0px 1px 3px 1px rgba(60, 64, 67, 0.15);\n",
              "      fill: #174EA6;\n",
              "    }\n",
              "\n",
              "    [theme=dark] .colab-df-convert {\n",
              "      background-color: #3B4455;\n",
              "      fill: #D2E3FC;\n",
              "    }\n",
              "\n",
              "    [theme=dark] .colab-df-convert:hover {\n",
              "      background-color: #434B5C;\n",
              "      box-shadow: 0px 1px 3px 1px rgba(0, 0, 0, 0.15);\n",
              "      filter: drop-shadow(0px 1px 2px rgba(0, 0, 0, 0.3));\n",
              "      fill: #FFFFFF;\n",
              "    }\n",
              "  </style>\n",
              "\n",
              "      <script>\n",
              "        const buttonEl =\n",
              "          document.querySelector('#df-6d07d47c-918d-41a0-832f-7eefe5fe170e button.colab-df-convert');\n",
              "        buttonEl.style.display =\n",
              "          google.colab.kernel.accessAllowed ? 'block' : 'none';\n",
              "\n",
              "        async function convertToInteractive(key) {\n",
              "          const element = document.querySelector('#df-6d07d47c-918d-41a0-832f-7eefe5fe170e');\n",
              "          const dataTable =\n",
              "            await google.colab.kernel.invokeFunction('convertToInteractive',\n",
              "                                                     [key], {});\n",
              "          if (!dataTable) return;\n",
              "\n",
              "          const docLinkHtml = 'Like what you see? Visit the ' +\n",
              "            '<a target=\"_blank\" href=https://colab.research.google.com/notebooks/data_table.ipynb>data table notebook</a>'\n",
              "            + ' to learn more about interactive tables.';\n",
              "          element.innerHTML = '';\n",
              "          dataTable['output_type'] = 'display_data';\n",
              "          await google.colab.output.renderOutput(dataTable, element);\n",
              "          const docLink = document.createElement('div');\n",
              "          docLink.innerHTML = docLinkHtml;\n",
              "          element.appendChild(docLink);\n",
              "        }\n",
              "      </script>\n",
              "    </div>\n",
              "  </div>\n",
              "  "
            ],
            "text/plain": [
              "                                               title  ...   provider\n",
              "0                             고요의 바다(The Silent Sea)  ...       넷플릭스\n",
              "2                                      설강화(Snowdrop)  ...       디즈니+\n",
              "7                        그 해 우리는(Our Beloved Summer)  ...   웨이브,넷플릭스\n",
              "9                      불가살(Bulgasal: Immortal Souls)  ...    넷플릭스,티빙\n",
              "12                         옷소매 붉은 끝동(The Red Sleeve)  ...  웨이브,쿠팡플레이\n",
              "...                                              ...  ...        ...\n",
              "23867              삼총사 시즌 3(The Musketeers Season 3)  ...        웨이브\n",
              "25022                                     JOB룡 이십끼()  ...     웨이브,왓챠\n",
              "26598  빌로우 덱: 지중해의 요티 시즌 2(Below Deck Mediterranean)  ...       넷플릭스\n",
              "23607                           쉘위워크(Shall We Walk?)  ...         티빙\n",
              "23686                                  TV정보쇼 오!아시스()  ...         티빙\n",
              "\n",
              "[11428 rows x 10 columns]"
            ]
          },
          "metadata": {},
          "execution_count": 5
        }
      ]
    },
    {
      "cell_type": "markdown",
      "source": [
        "##**데이터셋**\n",
        "- 키노라이츠(https://m.kinolights.com/) 12월 28일 기준 인기순으로 크롤링한 데이터(tv쇼만)\n",
        "- title, year, kind, KMRB, genre, country, cast, director, runtime(min), provider 으로 구성\n",
        "-provider: '쿠팡플레이', '왓챠', '라프텔', '아마존프라임비디오', '티빙', '웨이브', '넷플릭스', '네이버시리즈온', '디즈니+', 'AppleTV+', 'seezn'\n",
        "- 총 11428개 데이터\n"
      ],
      "metadata": {
        "id": "3BAzbaQmZYYw"
      }
    },
    {
      "cell_type": "code",
      "source": [
        "tv_data.info()\n",
        "#info"
      ],
      "metadata": {
        "id": "sWMaewV6dHJ5",
        "colab": {
          "base_uri": "https://localhost:8080/"
        },
        "outputId": "4adbb077-15bb-487a-c3dd-bc4588b2cc4e"
      },
      "execution_count": null,
      "outputs": [
        {
          "output_type": "stream",
          "name": "stdout",
          "text": [
            "<class 'pandas.core.frame.DataFrame'>\n",
            "Int64Index: 11428 entries, 0 to 23686\n",
            "Data columns (total 10 columns):\n",
            " #   Column        Non-Null Count  Dtype \n",
            "---  ------        --------------  ----- \n",
            " 0   title         11428 non-null  object\n",
            " 1   year          11410 non-null  Int64 \n",
            " 2   kind          11428 non-null  object\n",
            " 3   KMRB          10783 non-null  object\n",
            " 4   genre         11428 non-null  object\n",
            " 5   country       11428 non-null  object\n",
            " 6   cast          11428 non-null  object\n",
            " 7   director      11428 non-null  object\n",
            " 8   runtime(min)  1084 non-null   object\n",
            " 9   provider      11428 non-null  object\n",
            "dtypes: Int64(1), object(9)\n",
            "memory usage: 993.3+ KB\n"
          ]
        }
      ]
    },
    {
      "cell_type": "code",
      "source": [
        "tv_data.tail()"
      ],
      "metadata": {
        "id": "Xs6l3kTVkHrz",
        "colab": {
          "base_uri": "https://localhost:8080/",
          "height": 206
        },
        "outputId": "8d87857a-4afe-4b77-9802-7bb0cfbd7ec9"
      },
      "execution_count": null,
      "outputs": [
        {
          "output_type": "execute_result",
          "data": {
            "text/html": [
              "\n",
              "  <div id=\"df-e6161fd8-11ad-4386-8f51-ba84477b0396\">\n",
              "    <div class=\"colab-df-container\">\n",
              "      <div>\n",
              "<style scoped>\n",
              "    .dataframe tbody tr th:only-of-type {\n",
              "        vertical-align: middle;\n",
              "    }\n",
              "\n",
              "    .dataframe tbody tr th {\n",
              "        vertical-align: top;\n",
              "    }\n",
              "\n",
              "    .dataframe thead th {\n",
              "        text-align: right;\n",
              "    }\n",
              "</style>\n",
              "<table border=\"1\" class=\"dataframe\">\n",
              "  <thead>\n",
              "    <tr style=\"text-align: right;\">\n",
              "      <th></th>\n",
              "      <th>title</th>\n",
              "      <th>year</th>\n",
              "      <th>kind</th>\n",
              "      <th>KMRB</th>\n",
              "      <th>genre</th>\n",
              "      <th>country</th>\n",
              "      <th>cast</th>\n",
              "      <th>director</th>\n",
              "      <th>runtime(min)</th>\n",
              "      <th>provider</th>\n",
              "    </tr>\n",
              "  </thead>\n",
              "  <tbody>\n",
              "    <tr>\n",
              "      <th>23867</th>\n",
              "      <td>삼총사 시즌 3(The Musketeers Season 3)</td>\n",
              "      <td>2016</td>\n",
              "      <td>TV</td>\n",
              "      <td>NaN</td>\n",
              "      <td>드라마,어드벤처,기타</td>\n",
              "      <td>영국</td>\n",
              "      <td></td>\n",
              "      <td></td>\n",
              "      <td>NaN</td>\n",
              "      <td>웨이브</td>\n",
              "    </tr>\n",
              "    <tr>\n",
              "      <th>25022</th>\n",
              "      <td>JOB룡 이십끼()</td>\n",
              "      <td>2020</td>\n",
              "      <td>TV</td>\n",
              "      <td>NaN</td>\n",
              "      <td>예능,기타</td>\n",
              "      <td>한국</td>\n",
              "      <td>유민상</td>\n",
              "      <td></td>\n",
              "      <td>NaN</td>\n",
              "      <td>웨이브,왓챠</td>\n",
              "    </tr>\n",
              "    <tr>\n",
              "      <th>26598</th>\n",
              "      <td>빌로우 덱: 지중해의 요티 시즌 2(Below Deck Mediterranean)</td>\n",
              "      <td>2017</td>\n",
              "      <td>TV</td>\n",
              "      <td>NaN</td>\n",
              "      <td>예능,기타</td>\n",
              "      <td>미국</td>\n",
              "      <td></td>\n",
              "      <td></td>\n",
              "      <td>NaN</td>\n",
              "      <td>넷플릭스</td>\n",
              "    </tr>\n",
              "    <tr>\n",
              "      <th>23607</th>\n",
              "      <td>쉘위워크(Shall We Walk?)</td>\n",
              "      <td>2017</td>\n",
              "      <td>TV</td>\n",
              "      <td>NaN</td>\n",
              "      <td>예능,시사/교양,기타</td>\n",
              "      <td>한국</td>\n",
              "      <td>이하늬,이제훈</td>\n",
              "      <td></td>\n",
              "      <td>NaN</td>\n",
              "      <td>티빙</td>\n",
              "    </tr>\n",
              "    <tr>\n",
              "      <th>23686</th>\n",
              "      <td>TV정보쇼 오!아시스()</td>\n",
              "      <td>2018</td>\n",
              "      <td>TV</td>\n",
              "      <td>NaN</td>\n",
              "      <td>예능,시사/교양,기타</td>\n",
              "      <td>한국</td>\n",
              "      <td>신현준,이지애</td>\n",
              "      <td></td>\n",
              "      <td>NaN</td>\n",
              "      <td>티빙</td>\n",
              "    </tr>\n",
              "  </tbody>\n",
              "</table>\n",
              "</div>\n",
              "      <button class=\"colab-df-convert\" onclick=\"convertToInteractive('df-e6161fd8-11ad-4386-8f51-ba84477b0396')\"\n",
              "              title=\"Convert this dataframe to an interactive table.\"\n",
              "              style=\"display:none;\">\n",
              "        \n",
              "  <svg xmlns=\"http://www.w3.org/2000/svg\" height=\"24px\"viewBox=\"0 0 24 24\"\n",
              "       width=\"24px\">\n",
              "    <path d=\"M0 0h24v24H0V0z\" fill=\"none\"/>\n",
              "    <path d=\"M18.56 5.44l.94 2.06.94-2.06 2.06-.94-2.06-.94-.94-2.06-.94 2.06-2.06.94zm-11 1L8.5 8.5l.94-2.06 2.06-.94-2.06-.94L8.5 2.5l-.94 2.06-2.06.94zm10 10l.94 2.06.94-2.06 2.06-.94-2.06-.94-.94-2.06-.94 2.06-2.06.94z\"/><path d=\"M17.41 7.96l-1.37-1.37c-.4-.4-.92-.59-1.43-.59-.52 0-1.04.2-1.43.59L10.3 9.45l-7.72 7.72c-.78.78-.78 2.05 0 2.83L4 21.41c.39.39.9.59 1.41.59.51 0 1.02-.2 1.41-.59l7.78-7.78 2.81-2.81c.8-.78.8-2.07 0-2.86zM5.41 20L4 18.59l7.72-7.72 1.47 1.35L5.41 20z\"/>\n",
              "  </svg>\n",
              "      </button>\n",
              "      \n",
              "  <style>\n",
              "    .colab-df-container {\n",
              "      display:flex;\n",
              "      flex-wrap:wrap;\n",
              "      gap: 12px;\n",
              "    }\n",
              "\n",
              "    .colab-df-convert {\n",
              "      background-color: #E8F0FE;\n",
              "      border: none;\n",
              "      border-radius: 50%;\n",
              "      cursor: pointer;\n",
              "      display: none;\n",
              "      fill: #1967D2;\n",
              "      height: 32px;\n",
              "      padding: 0 0 0 0;\n",
              "      width: 32px;\n",
              "    }\n",
              "\n",
              "    .colab-df-convert:hover {\n",
              "      background-color: #E2EBFA;\n",
              "      box-shadow: 0px 1px 2px rgba(60, 64, 67, 0.3), 0px 1px 3px 1px rgba(60, 64, 67, 0.15);\n",
              "      fill: #174EA6;\n",
              "    }\n",
              "\n",
              "    [theme=dark] .colab-df-convert {\n",
              "      background-color: #3B4455;\n",
              "      fill: #D2E3FC;\n",
              "    }\n",
              "\n",
              "    [theme=dark] .colab-df-convert:hover {\n",
              "      background-color: #434B5C;\n",
              "      box-shadow: 0px 1px 3px 1px rgba(0, 0, 0, 0.15);\n",
              "      filter: drop-shadow(0px 1px 2px rgba(0, 0, 0, 0.3));\n",
              "      fill: #FFFFFF;\n",
              "    }\n",
              "  </style>\n",
              "\n",
              "      <script>\n",
              "        const buttonEl =\n",
              "          document.querySelector('#df-e6161fd8-11ad-4386-8f51-ba84477b0396 button.colab-df-convert');\n",
              "        buttonEl.style.display =\n",
              "          google.colab.kernel.accessAllowed ? 'block' : 'none';\n",
              "\n",
              "        async function convertToInteractive(key) {\n",
              "          const element = document.querySelector('#df-e6161fd8-11ad-4386-8f51-ba84477b0396');\n",
              "          const dataTable =\n",
              "            await google.colab.kernel.invokeFunction('convertToInteractive',\n",
              "                                                     [key], {});\n",
              "          if (!dataTable) return;\n",
              "\n",
              "          const docLinkHtml = 'Like what you see? Visit the ' +\n",
              "            '<a target=\"_blank\" href=https://colab.research.google.com/notebooks/data_table.ipynb>data table notebook</a>'\n",
              "            + ' to learn more about interactive tables.';\n",
              "          element.innerHTML = '';\n",
              "          dataTable['output_type'] = 'display_data';\n",
              "          await google.colab.output.renderOutput(dataTable, element);\n",
              "          const docLink = document.createElement('div');\n",
              "          docLink.innerHTML = docLinkHtml;\n",
              "          element.appendChild(docLink);\n",
              "        }\n",
              "      </script>\n",
              "    </div>\n",
              "  </div>\n",
              "  "
            ],
            "text/plain": [
              "                                               title  ...  provider\n",
              "23867              삼총사 시즌 3(The Musketeers Season 3)  ...       웨이브\n",
              "25022                                     JOB룡 이십끼()  ...    웨이브,왓챠\n",
              "26598  빌로우 덱: 지중해의 요티 시즌 2(Below Deck Mediterranean)  ...      넷플릭스\n",
              "23607                           쉘위워크(Shall We Walk?)  ...        티빙\n",
              "23686                                  TV정보쇼 오!아시스()  ...        티빙\n",
              "\n",
              "[5 rows x 10 columns]"
            ]
          },
          "metadata": {},
          "execution_count": 7
        }
      ]
    },
    {
      "cell_type": "code",
      "source": [
        "#데이터에 적힌 provider 개수\n",
        "\n",
        "provider_list=[]\n",
        "li=tv_data['provider'].apply(lambda x: x.split(','))\n",
        "for i in li:\n",
        "    if i not in provider_list:\n",
        "      provider_list+=i\n",
        "provider_list=list(set(provider_list))\n",
        "print(provider_list)"
      ],
      "metadata": {
        "id": "4z4lL9HQkwbo",
        "colab": {
          "base_uri": "https://localhost:8080/"
        },
        "outputId": "e1945eb6-5cce-400c-f911-7102013837a5"
      },
      "execution_count": null,
      "outputs": [
        {
          "output_type": "stream",
          "name": "stdout",
          "text": [
            "['디즈니+', '네이버시리즈온', '넷플릭스', '티빙', '왓챠', 'AppleTV+', '웨이브', '아마존프라임비디오', 'seezn', '쿠팡플레이', '라프텔']\n"
          ]
        }
      ]
    },
    {
      "cell_type": "markdown",
      "source": [
        "##**분석**"
      ],
      "metadata": {
        "id": "UA2ftXrPkRR4"
      }
    },
    {
      "cell_type": "markdown",
      "source": [
        "###**각 플랫폼 당 tv콘텐츠 개수**"
      ],
      "metadata": {
        "id": "0l8pDiGrh4V3"
      }
    },
    {
      "cell_type": "code",
      "source": [
        "#독점 및 오리지널 표시\n",
        "\n",
        "tv_data['provider']=tv_data['provider'].apply(lambda x: x.split(','))#provider 리스트 전환\n",
        "tv_data.loc[:,'origin']=tv_data['provider'].apply(lambda x: True if len(x)==1 else False)#독점 여부\n",
        "tv_data['provider']=tv_data['provider'].apply(lambda x: ','.join(x))#provider 다시 문자열 전환"
      ],
      "metadata": {
        "id": "nAXv0MwG6WxH"
      },
      "execution_count": null,
      "outputs": []
    },
    {
      "cell_type": "code",
      "source": [
        "tv_data.info"
      ],
      "metadata": {
        "id": "a0V6g4p2ak_a",
        "colab": {
          "base_uri": "https://localhost:8080/"
        },
        "outputId": "a2ec104b-1b71-4a80-a6ed-76bf1023428d"
      },
      "execution_count": null,
      "outputs": [
        {
          "output_type": "execute_result",
          "data": {
            "text/plain": [
              "<bound method DataFrame.info of                                                title  year  ...   provider origin\n",
              "0                             고요의 바다(The Silent Sea)  2021  ...       넷플릭스   True\n",
              "2                                      설강화(Snowdrop)  2021  ...       디즈니+   True\n",
              "7                        그 해 우리는(Our Beloved Summer)  2021  ...   웨이브,넷플릭스  False\n",
              "9                      불가살(Bulgasal: Immortal Souls)  2021  ...    넷플릭스,티빙  False\n",
              "12                         옷소매 붉은 끝동(The Red Sleeve)  2021  ...  웨이브,쿠팡플레이  False\n",
              "...                                              ...   ...  ...        ...    ...\n",
              "23867              삼총사 시즌 3(The Musketeers Season 3)  2016  ...        웨이브   True\n",
              "25022                                     JOB룡 이십끼()  2020  ...     웨이브,왓챠  False\n",
              "26598  빌로우 덱: 지중해의 요티 시즌 2(Below Deck Mediterranean)  2017  ...       넷플릭스   True\n",
              "23607                           쉘위워크(Shall We Walk?)  2017  ...         티빙   True\n",
              "23686                                  TV정보쇼 오!아시스()  2018  ...         티빙   True\n",
              "\n",
              "[11428 rows x 11 columns]>"
            ]
          },
          "metadata": {},
          "execution_count": 10
        }
      ]
    },
    {
      "cell_type": "code",
      "source": [
        "#개별 플랫폼 관련 데이터 전체 저장\n",
        "for i in provider_list:\n",
        "  tv_data.loc[tv_data[\"provider\"].str.contains(i)].to_csv('/content/drive/MyDrive/project/엘리스 OTT 분석/data/'+i+'_all.csv',mode='w', index=False)"
      ],
      "metadata": {
        "id": "oNkX66DtiCg-"
      },
      "execution_count": null,
      "outputs": []
    },
    {
      "cell_type": "code",
      "source": [
        "#시각화 라이브러리 호출\n",
        "import plotly.express as px\n",
        "\n",
        "#신규 데이터프레임\n",
        "df= pd.DataFrame(columns=['provider','독점/오리지널','count','percent'])\n",
        "for i in provider_list:\n",
        "  d=tv_data.loc[tv_data[\"provider\"].str.contains(i)]\n",
        "  df.loc[len(df)]=[i,False,len(d[d['origin']==False]),len(d[d['origin']==False])*100/len(d)]\n",
        "  df.loc[len(df)]=[i,True,len(d[d['origin']==True]),len(d[d['origin']==True])*100/len(d)]\n",
        "\n",
        "#시각화 \n",
        "fig = px.bar(df, x=\"provider\", y=\"count\",hover_data=['percent'], color=\"독점/오리지널\", title=\"독점/오리지널 표기\")\n",
        "fig.show()"
      ],
      "metadata": {
        "id": "jlFyreoAchi8",
        "colab": {
          "base_uri": "https://localhost:8080/",
          "height": 542
        },
        "outputId": "bee7e065-50c0-4268-80c5-5acb11282f45"
      },
      "execution_count": null,
      "outputs": [
        {
          "output_type": "display_data",
          "data": {
            "text/html": [
              "<html>\n",
              "<head><meta charset=\"utf-8\" /></head>\n",
              "<body>\n",
              "    <div>\n",
              "            <script src=\"https://cdnjs.cloudflare.com/ajax/libs/mathjax/2.7.5/MathJax.js?config=TeX-AMS-MML_SVG\"></script><script type=\"text/javascript\">if (window.MathJax) {MathJax.Hub.Config({SVG: {font: \"STIX-Web\"}});}</script>\n",
              "                <script type=\"text/javascript\">window.PlotlyConfig = {MathJaxConfig: 'local'};</script>\n",
              "        <script src=\"https://cdn.plot.ly/plotly-latest.min.js\"></script>    \n",
              "            <div id=\"1e9b95a7-26a5-44b2-875c-1aebf88fd706\" class=\"plotly-graph-div\" style=\"height:525px; width:100%;\"></div>\n",
              "            <script type=\"text/javascript\">\n",
              "                \n",
              "                    window.PLOTLYENV=window.PLOTLYENV || {};\n",
              "                    \n",
              "                if (document.getElementById(\"1e9b95a7-26a5-44b2-875c-1aebf88fd706\")) {\n",
              "                    Plotly.newPlot(\n",
              "                        '1e9b95a7-26a5-44b2-875c-1aebf88fd706',\n",
              "                        [{\"alignmentgroup\": \"True\", \"customdata\": [[13.88888888888889], [0.0], [18.80916030534351], [63.186972957255016], [75.10917030567686], [0.0], [66.72305461575641], [22.22222222222222], [94.7242206235012], [81.17647058823529], [79.06614785992218]], \"hoverlabel\": {\"namelength\": 0}, \"hovertemplate\": \"\\ub3c5\\uc810/\\uc624\\ub9ac\\uc9c0\\ub110=False<br>provider=%{x}<br>count=%{y}<br>percent=%{customdata[0]}\", \"legendgroup\": \"\\ub3c5\\uc810/\\uc624\\ub9ac\\uc9c0\\ub110=False\", \"marker\": {\"color\": \"#636efa\"}, \"name\": \"\\ub3c5\\uc810/\\uc624\\ub9ac\\uc9c0\\ub110=False\", \"offsetgroup\": \"\\ub3c5\\uc810/\\uc624\\ub9ac\\uc9c0\\ub110=False\", \"orientation\": \"v\", \"showlegend\": true, \"textposition\": \"auto\", \"type\": \"bar\", \"x\": [\"\\ub514\\uc988\\ub2c8+\", \"\\ub124\\uc774\\ubc84\\uc2dc\\ub9ac\\uc988\\uc628\", \"\\ub137\\ud50c\\ub9ad\\uc2a4\", \"\\ud2f0\\ube59\", \"\\uc653\\ucc60\", \"AppleTV+\", \"\\uc6e8\\uc774\\ube0c\", \"\\uc544\\ub9c8\\uc874\\ud504\\ub77c\\uc784\\ube44\\ub514\\uc624\", \"seezn\", \"\\ucfe0\\ud321\\ud50c\\ub808\\uc774\", \"\\ub77c\\ud504\\ud154\"], \"xaxis\": \"x\", \"y\": [100, 0, 616, 2173, 3096, 0, 2761, 62, 395, 483, 1016], \"yaxis\": \"y\"}, {\"alignmentgroup\": \"True\", \"customdata\": [[86.11111111111111], [100.0], [81.19083969465649], [36.813027042744984], [24.890829694323145], [100.0], [33.2769453842436], [77.77777777777777], [5.275779376498801], [18.823529411764707], [20.93385214007782]], \"hoverlabel\": {\"namelength\": 0}, \"hovertemplate\": \"\\ub3c5\\uc810/\\uc624\\ub9ac\\uc9c0\\ub110=True<br>provider=%{x}<br>count=%{y}<br>percent=%{customdata[0]}\", \"legendgroup\": \"\\ub3c5\\uc810/\\uc624\\ub9ac\\uc9c0\\ub110=True\", \"marker\": {\"color\": \"#EF553B\"}, \"name\": \"\\ub3c5\\uc810/\\uc624\\ub9ac\\uc9c0\\ub110=True\", \"offsetgroup\": \"\\ub3c5\\uc810/\\uc624\\ub9ac\\uc9c0\\ub110=True\", \"orientation\": \"v\", \"showlegend\": true, \"textposition\": \"auto\", \"type\": \"bar\", \"x\": [\"\\ub514\\uc988\\ub2c8+\", \"\\ub124\\uc774\\ubc84\\uc2dc\\ub9ac\\uc988\\uc628\", \"\\ub137\\ud50c\\ub9ad\\uc2a4\", \"\\ud2f0\\ube59\", \"\\uc653\\ucc60\", \"AppleTV+\", \"\\uc6e8\\uc774\\ube0c\", \"\\uc544\\ub9c8\\uc874\\ud504\\ub77c\\uc784\\ube44\\ub514\\uc624\", \"seezn\", \"\\ucfe0\\ud321\\ud50c\\ub808\\uc774\", \"\\ub77c\\ud504\\ud154\"], \"xaxis\": \"x\", \"y\": [620, 4, 2659, 1266, 1026, 40, 1377, 217, 22, 112, 269], \"yaxis\": \"y\"}],\n",
              "                        {\"barmode\": \"relative\", \"legend\": {\"tracegroupgap\": 0}, \"template\": {\"data\": {\"bar\": [{\"error_x\": {\"color\": \"#2a3f5f\"}, \"error_y\": {\"color\": \"#2a3f5f\"}, \"marker\": {\"line\": {\"color\": \"#E5ECF6\", \"width\": 0.5}}, \"type\": \"bar\"}], \"barpolar\": [{\"marker\": {\"line\": {\"color\": \"#E5ECF6\", \"width\": 0.5}}, \"type\": \"barpolar\"}], \"carpet\": [{\"aaxis\": {\"endlinecolor\": \"#2a3f5f\", \"gridcolor\": \"white\", \"linecolor\": \"white\", \"minorgridcolor\": \"white\", \"startlinecolor\": \"#2a3f5f\"}, \"baxis\": {\"endlinecolor\": \"#2a3f5f\", \"gridcolor\": \"white\", \"linecolor\": \"white\", \"minorgridcolor\": \"white\", \"startlinecolor\": \"#2a3f5f\"}, \"type\": \"carpet\"}], \"choropleth\": [{\"colorbar\": {\"outlinewidth\": 0, \"ticks\": \"\"}, \"type\": \"choropleth\"}], \"contour\": [{\"colorbar\": {\"outlinewidth\": 0, \"ticks\": \"\"}, \"colorscale\": [[0.0, \"#0d0887\"], [0.1111111111111111, \"#46039f\"], [0.2222222222222222, \"#7201a8\"], [0.3333333333333333, \"#9c179e\"], [0.4444444444444444, \"#bd3786\"], [0.5555555555555556, \"#d8576b\"], [0.6666666666666666, \"#ed7953\"], [0.7777777777777778, \"#fb9f3a\"], [0.8888888888888888, \"#fdca26\"], [1.0, \"#f0f921\"]], \"type\": \"contour\"}], \"contourcarpet\": [{\"colorbar\": {\"outlinewidth\": 0, \"ticks\": \"\"}, \"type\": \"contourcarpet\"}], \"heatmap\": [{\"colorbar\": {\"outlinewidth\": 0, \"ticks\": \"\"}, \"colorscale\": [[0.0, \"#0d0887\"], [0.1111111111111111, \"#46039f\"], [0.2222222222222222, \"#7201a8\"], [0.3333333333333333, \"#9c179e\"], [0.4444444444444444, \"#bd3786\"], [0.5555555555555556, \"#d8576b\"], [0.6666666666666666, \"#ed7953\"], [0.7777777777777778, \"#fb9f3a\"], [0.8888888888888888, \"#fdca26\"], [1.0, \"#f0f921\"]], \"type\": \"heatmap\"}], \"heatmapgl\": [{\"colorbar\": {\"outlinewidth\": 0, \"ticks\": \"\"}, \"colorscale\": [[0.0, \"#0d0887\"], [0.1111111111111111, \"#46039f\"], [0.2222222222222222, \"#7201a8\"], [0.3333333333333333, \"#9c179e\"], [0.4444444444444444, \"#bd3786\"], [0.5555555555555556, \"#d8576b\"], [0.6666666666666666, \"#ed7953\"], [0.7777777777777778, \"#fb9f3a\"], [0.8888888888888888, \"#fdca26\"], [1.0, \"#f0f921\"]], \"type\": \"heatmapgl\"}], \"histogram\": [{\"marker\": {\"colorbar\": {\"outlinewidth\": 0, \"ticks\": \"\"}}, \"type\": \"histogram\"}], \"histogram2d\": [{\"colorbar\": {\"outlinewidth\": 0, \"ticks\": \"\"}, \"colorscale\": [[0.0, \"#0d0887\"], [0.1111111111111111, \"#46039f\"], [0.2222222222222222, \"#7201a8\"], [0.3333333333333333, \"#9c179e\"], [0.4444444444444444, \"#bd3786\"], [0.5555555555555556, \"#d8576b\"], [0.6666666666666666, \"#ed7953\"], [0.7777777777777778, \"#fb9f3a\"], [0.8888888888888888, \"#fdca26\"], [1.0, \"#f0f921\"]], \"type\": \"histogram2d\"}], \"histogram2dcontour\": [{\"colorbar\": {\"outlinewidth\": 0, \"ticks\": \"\"}, \"colorscale\": [[0.0, \"#0d0887\"], [0.1111111111111111, \"#46039f\"], [0.2222222222222222, \"#7201a8\"], [0.3333333333333333, \"#9c179e\"], [0.4444444444444444, \"#bd3786\"], [0.5555555555555556, \"#d8576b\"], [0.6666666666666666, \"#ed7953\"], [0.7777777777777778, \"#fb9f3a\"], [0.8888888888888888, \"#fdca26\"], [1.0, \"#f0f921\"]], \"type\": \"histogram2dcontour\"}], \"mesh3d\": [{\"colorbar\": {\"outlinewidth\": 0, \"ticks\": \"\"}, \"type\": \"mesh3d\"}], \"parcoords\": [{\"line\": {\"colorbar\": {\"outlinewidth\": 0, \"ticks\": \"\"}}, \"type\": \"parcoords\"}], \"pie\": [{\"automargin\": true, \"type\": \"pie\"}], \"scatter\": [{\"marker\": {\"colorbar\": {\"outlinewidth\": 0, \"ticks\": \"\"}}, \"type\": \"scatter\"}], \"scatter3d\": [{\"line\": {\"colorbar\": {\"outlinewidth\": 0, \"ticks\": \"\"}}, \"marker\": {\"colorbar\": {\"outlinewidth\": 0, \"ticks\": \"\"}}, \"type\": \"scatter3d\"}], \"scattercarpet\": [{\"marker\": {\"colorbar\": {\"outlinewidth\": 0, \"ticks\": \"\"}}, \"type\": \"scattercarpet\"}], \"scattergeo\": [{\"marker\": {\"colorbar\": {\"outlinewidth\": 0, \"ticks\": \"\"}}, \"type\": \"scattergeo\"}], \"scattergl\": [{\"marker\": {\"colorbar\": {\"outlinewidth\": 0, \"ticks\": \"\"}}, \"type\": \"scattergl\"}], \"scattermapbox\": [{\"marker\": {\"colorbar\": {\"outlinewidth\": 0, \"ticks\": \"\"}}, \"type\": \"scattermapbox\"}], \"scatterpolar\": [{\"marker\": {\"colorbar\": {\"outlinewidth\": 0, \"ticks\": \"\"}}, \"type\": \"scatterpolar\"}], \"scatterpolargl\": [{\"marker\": {\"colorbar\": {\"outlinewidth\": 0, \"ticks\": \"\"}}, \"type\": \"scatterpolargl\"}], \"scatterternary\": [{\"marker\": {\"colorbar\": {\"outlinewidth\": 0, \"ticks\": \"\"}}, \"type\": \"scatterternary\"}], \"surface\": [{\"colorbar\": {\"outlinewidth\": 0, \"ticks\": \"\"}, \"colorscale\": [[0.0, \"#0d0887\"], [0.1111111111111111, \"#46039f\"], [0.2222222222222222, \"#7201a8\"], [0.3333333333333333, \"#9c179e\"], [0.4444444444444444, \"#bd3786\"], [0.5555555555555556, \"#d8576b\"], [0.6666666666666666, \"#ed7953\"], [0.7777777777777778, \"#fb9f3a\"], [0.8888888888888888, \"#fdca26\"], [1.0, \"#f0f921\"]], \"type\": \"surface\"}], \"table\": [{\"cells\": {\"fill\": {\"color\": \"#EBF0F8\"}, \"line\": {\"color\": \"white\"}}, \"header\": {\"fill\": {\"color\": \"#C8D4E3\"}, \"line\": {\"color\": \"white\"}}, \"type\": \"table\"}]}, \"layout\": {\"annotationdefaults\": {\"arrowcolor\": \"#2a3f5f\", \"arrowhead\": 0, \"arrowwidth\": 1}, \"coloraxis\": {\"colorbar\": {\"outlinewidth\": 0, \"ticks\": \"\"}}, \"colorscale\": {\"diverging\": [[0, \"#8e0152\"], [0.1, \"#c51b7d\"], [0.2, \"#de77ae\"], [0.3, \"#f1b6da\"], [0.4, \"#fde0ef\"], [0.5, \"#f7f7f7\"], [0.6, \"#e6f5d0\"], [0.7, \"#b8e186\"], [0.8, \"#7fbc41\"], [0.9, \"#4d9221\"], [1, \"#276419\"]], \"sequential\": [[0.0, \"#0d0887\"], [0.1111111111111111, \"#46039f\"], [0.2222222222222222, \"#7201a8\"], [0.3333333333333333, \"#9c179e\"], [0.4444444444444444, \"#bd3786\"], [0.5555555555555556, \"#d8576b\"], [0.6666666666666666, \"#ed7953\"], [0.7777777777777778, \"#fb9f3a\"], [0.8888888888888888, \"#fdca26\"], [1.0, \"#f0f921\"]], \"sequentialminus\": [[0.0, \"#0d0887\"], [0.1111111111111111, \"#46039f\"], [0.2222222222222222, \"#7201a8\"], [0.3333333333333333, \"#9c179e\"], [0.4444444444444444, \"#bd3786\"], [0.5555555555555556, \"#d8576b\"], [0.6666666666666666, \"#ed7953\"], [0.7777777777777778, \"#fb9f3a\"], [0.8888888888888888, \"#fdca26\"], [1.0, \"#f0f921\"]]}, \"colorway\": [\"#636efa\", \"#EF553B\", \"#00cc96\", \"#ab63fa\", \"#FFA15A\", \"#19d3f3\", \"#FF6692\", \"#B6E880\", \"#FF97FF\", \"#FECB52\"], \"font\": {\"color\": \"#2a3f5f\"}, \"geo\": {\"bgcolor\": \"white\", \"lakecolor\": \"white\", \"landcolor\": \"#E5ECF6\", \"showlakes\": true, \"showland\": true, \"subunitcolor\": \"white\"}, \"hoverlabel\": {\"align\": \"left\"}, \"hovermode\": \"closest\", \"mapbox\": {\"style\": \"light\"}, \"paper_bgcolor\": \"white\", \"plot_bgcolor\": \"#E5ECF6\", \"polar\": {\"angularaxis\": {\"gridcolor\": \"white\", \"linecolor\": \"white\", \"ticks\": \"\"}, \"bgcolor\": \"#E5ECF6\", \"radialaxis\": {\"gridcolor\": \"white\", \"linecolor\": \"white\", \"ticks\": \"\"}}, \"scene\": {\"xaxis\": {\"backgroundcolor\": \"#E5ECF6\", \"gridcolor\": \"white\", \"gridwidth\": 2, \"linecolor\": \"white\", \"showbackground\": true, \"ticks\": \"\", \"zerolinecolor\": \"white\"}, \"yaxis\": {\"backgroundcolor\": \"#E5ECF6\", \"gridcolor\": \"white\", \"gridwidth\": 2, \"linecolor\": \"white\", \"showbackground\": true, \"ticks\": \"\", \"zerolinecolor\": \"white\"}, \"zaxis\": {\"backgroundcolor\": \"#E5ECF6\", \"gridcolor\": \"white\", \"gridwidth\": 2, \"linecolor\": \"white\", \"showbackground\": true, \"ticks\": \"\", \"zerolinecolor\": \"white\"}}, \"shapedefaults\": {\"line\": {\"color\": \"#2a3f5f\"}}, \"ternary\": {\"aaxis\": {\"gridcolor\": \"white\", \"linecolor\": \"white\", \"ticks\": \"\"}, \"baxis\": {\"gridcolor\": \"white\", \"linecolor\": \"white\", \"ticks\": \"\"}, \"bgcolor\": \"#E5ECF6\", \"caxis\": {\"gridcolor\": \"white\", \"linecolor\": \"white\", \"ticks\": \"\"}}, \"title\": {\"x\": 0.05}, \"xaxis\": {\"automargin\": true, \"gridcolor\": \"white\", \"linecolor\": \"white\", \"ticks\": \"\", \"title\": {\"standoff\": 15}, \"zerolinecolor\": \"white\", \"zerolinewidth\": 2}, \"yaxis\": {\"automargin\": true, \"gridcolor\": \"white\", \"linecolor\": \"white\", \"ticks\": \"\", \"title\": {\"standoff\": 15}, \"zerolinecolor\": \"white\", \"zerolinewidth\": 2}}}, \"title\": {\"text\": \"\\ub3c5\\uc810/\\uc624\\ub9ac\\uc9c0\\ub110 \\ud45c\\uae30\"}, \"xaxis\": {\"anchor\": \"y\", \"domain\": [0.0, 1.0], \"title\": {\"text\": \"provider\"}}, \"yaxis\": {\"anchor\": \"x\", \"domain\": [0.0, 1.0], \"title\": {\"text\": \"count\"}}},\n",
              "                        {\"responsive\": true}\n",
              "                    ).then(function(){\n",
              "                            \n",
              "var gd = document.getElementById('1e9b95a7-26a5-44b2-875c-1aebf88fd706');\n",
              "var x = new MutationObserver(function (mutations, observer) {{\n",
              "        var display = window.getComputedStyle(gd).display;\n",
              "        if (!display || display === 'none') {{\n",
              "            console.log([gd, 'removed!']);\n",
              "            Plotly.purge(gd);\n",
              "            observer.disconnect();\n",
              "        }}\n",
              "}});\n",
              "\n",
              "// Listen for the removal of the full notebook cells\n",
              "var notebookContainer = gd.closest('#notebook-container');\n",
              "if (notebookContainer) {{\n",
              "    x.observe(notebookContainer, {childList: true});\n",
              "}}\n",
              "\n",
              "// Listen for the clearing of the current output cell\n",
              "var outputEl = gd.closest('.output');\n",
              "if (outputEl) {{\n",
              "    x.observe(outputEl, {childList: true});\n",
              "}}\n",
              "\n",
              "                        })\n",
              "                };\n",
              "                \n",
              "            </script>\n",
              "        </div>\n",
              "</body>\n",
              "</html>"
            ]
          },
          "metadata": {}
        }
      ]
    },
    {
      "cell_type": "markdown",
      "source": [
        "###**각 플랫폼 별 KMRB(관람가)**\n",
        "- 전 연령대 관람가능 콘텐츠/성인용 콘텐츠의 양 파악"
      ],
      "metadata": {
        "id": "gTaysqdz69Bi"
      }
    },
    {
      "cell_type": "code",
      "source": [
        "#KMRB가 NaN인 항목 제거\n",
        "kmrb=tv_data\n",
        "print('제거 이전:',len(kmrb))\n",
        "kmrb = kmrb.dropna(subset = ['KMRB'], how = 'any', axis=0)\n",
        "print('제거 이후:',len(kmrb))"
      ],
      "metadata": {
        "id": "42Jb7nYJ7Njy",
        "colab": {
          "base_uri": "https://localhost:8080/"
        },
        "outputId": "8742d722-80d2-4fc8-8a50-22aeafcd549d"
      },
      "execution_count": null,
      "outputs": [
        {
          "output_type": "stream",
          "name": "stdout",
          "text": [
            "제거 이전: 11428\n",
            "제거 이후: 10783\n"
          ]
        }
      ]
    },
    {
      "cell_type": "code",
      "source": [
        "#kmrb 리스트\n",
        "kmrb_list=[]\n",
        "li=kmrb['KMRB']\n",
        "for i in li:\n",
        "    if i not in kmrb_list:\n",
        "      kmrb_list.append(i)\n",
        "kmrb_list=list(set(kmrb_list))\n",
        "print(kmrb_list)"
      ],
      "metadata": {
        "id": "Qn13Lf3F_fPa",
        "colab": {
          "base_uri": "https://localhost:8080/"
        },
        "outputId": "d2fdb0f4-c7af-4d7d-c333-37d13624c248"
      },
      "execution_count": null,
      "outputs": [
        {
          "output_type": "stream",
          "name": "stdout",
          "text": [
            "['전체관람가', '12세이상관람가', '15세이상관람가', '청소년관람불가']\n"
          ]
        }
      ]
    },
    {
      "cell_type": "code",
      "source": [
        "#시각화 라이브러리 호출\n",
        "import plotly.express as px\n",
        "\n",
        "#신규 데이터프레임\n",
        "df2= pd.DataFrame(columns=['provider','관람가','count','percent'])\n",
        "\n",
        "for i in provider_list:\n",
        "  d=kmrb.loc[kmrb[\"provider\"].str.contains(i)]\n",
        "  for i2 in kmrb_list:\n",
        "      df2.loc[len(df2)]=[i,i2,len(d[d['KMRB']==i2]),len(d[d['KMRB']==i2])*100/len(d)]\n",
        "\n",
        "#시각화 \n",
        "fig = px.bar(df2, x=\"provider\", y=\"count\",hover_data=['percent'], color=\"관람가\", title=\"콘텐츠 관람가\")\n",
        "fig.show()"
      ],
      "metadata": {
        "id": "HTlqC-FeBXV7",
        "colab": {
          "base_uri": "https://localhost:8080/",
          "height": 542
        },
        "outputId": "6714305d-2827-4b1e-b020-ad40829a99e1"
      },
      "execution_count": null,
      "outputs": [
        {
          "output_type": "display_data",
          "data": {
            "text/html": [
              "<html>\n",
              "<head><meta charset=\"utf-8\" /></head>\n",
              "<body>\n",
              "    <div>\n",
              "            <script src=\"https://cdnjs.cloudflare.com/ajax/libs/mathjax/2.7.5/MathJax.js?config=TeX-AMS-MML_SVG\"></script><script type=\"text/javascript\">if (window.MathJax) {MathJax.Hub.Config({SVG: {font: \"STIX-Web\"}});}</script>\n",
              "                <script type=\"text/javascript\">window.PlotlyConfig = {MathJaxConfig: 'local'};</script>\n",
              "        <script src=\"https://cdn.plot.ly/plotly-latest.min.js\"></script>    \n",
              "            <div id=\"54957616-df96-4e8a-b237-17191da3965d\" class=\"plotly-graph-div\" style=\"height:525px; width:100%;\"></div>\n",
              "            <script type=\"text/javascript\">\n",
              "                \n",
              "                    window.PLOTLYENV=window.PLOTLYENV || {};\n",
              "                    \n",
              "                if (document.getElementById(\"54957616-df96-4e8a-b237-17191da3965d\")) {\n",
              "                    Plotly.newPlot(\n",
              "                        '54957616-df96-4e8a-b237-17191da3965d',\n",
              "                        [{\"alignmentgroup\": \"True\", \"customdata\": [[38.611111111111114], [0.0], [14.990803188228082], [8.88614625115705], [22.869955156950674], [5.714285714285714], [6.954743032472513], [0.8403361344537815], [3.350515463917526], [27.81954887218045], [23.04]], \"hoverlabel\": {\"namelength\": 0}, \"hovertemplate\": \"\\uad00\\ub78c\\uac00=\\uc804\\uccb4\\uad00\\ub78c\\uac00<br>provider=%{x}<br>count=%{y}<br>percent=%{customdata[0]}\", \"legendgroup\": \"\\uad00\\ub78c\\uac00=\\uc804\\uccb4\\uad00\\ub78c\\uac00\", \"marker\": {\"color\": \"#636efa\"}, \"name\": \"\\uad00\\ub78c\\uac00=\\uc804\\uccb4\\uad00\\ub78c\\uac00\", \"offsetgroup\": \"\\uad00\\ub78c\\uac00=\\uc804\\uccb4\\uad00\\ub78c\\uac00\", \"orientation\": \"v\", \"showlegend\": true, \"textposition\": \"auto\", \"type\": \"bar\", \"x\": [\"\\ub514\\uc988\\ub2c8+\", \"\\ub124\\uc774\\ubc84\\uc2dc\\ub9ac\\uc988\\uc628\", \"\\ub137\\ud50c\\ub9ad\\uc2a4\", \"\\ud2f0\\ube59\", \"\\uc653\\ucc60\", \"AppleTV+\", \"\\uc6e8\\uc774\\ube0c\", \"\\uc544\\ub9c8\\uc874\\ud504\\ub77c\\uc784\\ube44\\ub514\\uc624\", \"seezn\", \"\\ucfe0\\ud321\\ud50c\\ub808\\uc774\", \"\\ub77c\\ud504\\ud154\"], \"xaxis\": \"x\", \"y\": [278, 0, 489, 288, 918, 2, 272, 1, 13, 148, 288], \"yaxis\": \"y\"}, {\"alignmentgroup\": \"True\", \"customdata\": [[11.805555555555555], [0.0], [10.177805027590436], [8.36161678494292], [7.224713502740409], [22.857142857142858], [7.13372538992585], [0.8403361344537815], [6.185567010309279], [7.706766917293233], [12.24]], \"hoverlabel\": {\"namelength\": 0}, \"hovertemplate\": \"\\uad00\\ub78c\\uac00=12\\uc138\\uc774\\uc0c1\\uad00\\ub78c\\uac00<br>provider=%{x}<br>count=%{y}<br>percent=%{customdata[0]}\", \"legendgroup\": \"\\uad00\\ub78c\\uac00=12\\uc138\\uc774\\uc0c1\\uad00\\ub78c\\uac00\", \"marker\": {\"color\": \"#EF553B\"}, \"name\": \"\\uad00\\ub78c\\uac00=12\\uc138\\uc774\\uc0c1\\uad00\\ub78c\\uac00\", \"offsetgroup\": \"\\uad00\\ub78c\\uac00=12\\uc138\\uc774\\uc0c1\\uad00\\ub78c\\uac00\", \"orientation\": \"v\", \"showlegend\": true, \"textposition\": \"auto\", \"type\": \"bar\", \"x\": [\"\\ub514\\uc988\\ub2c8+\", \"\\ub124\\uc774\\ubc84\\uc2dc\\ub9ac\\uc988\\uc628\", \"\\ub137\\ud50c\\ub9ad\\uc2a4\", \"\\ud2f0\\ube59\", \"\\uc653\\ucc60\", \"AppleTV+\", \"\\uc6e8\\uc774\\ube0c\", \"\\uc544\\ub9c8\\uc874\\ud504\\ub77c\\uc784\\ube44\\ub514\\uc624\", \"seezn\", \"\\ucfe0\\ud321\\ud50c\\ub808\\uc774\", \"\\ub77c\\ud504\\ud154\"], \"xaxis\": \"x\", \"y\": [85, 0, 332, 271, 290, 8, 279, 1, 24, 41, 153], \"yaxis\": \"y\"}, {\"alignmentgroup\": \"True\", \"customdata\": [[37.5], [100.0], [34.05885959534028], [76.05677260104906], [59.36721474838067], [51.42857142857143], [75.37714139606238], [27.73109243697479], [83.76288659793815], [50.18796992481203], [48.88]], \"hoverlabel\": {\"namelength\": 0}, \"hovertemplate\": \"\\uad00\\ub78c\\uac00=15\\uc138\\uc774\\uc0c1\\uad00\\ub78c\\uac00<br>provider=%{x}<br>count=%{y}<br>percent=%{customdata[0]}\", \"legendgroup\": \"\\uad00\\ub78c\\uac00=15\\uc138\\uc774\\uc0c1\\uad00\\ub78c\\uac00\", \"marker\": {\"color\": \"#00cc96\"}, \"name\": \"\\uad00\\ub78c\\uac00=15\\uc138\\uc774\\uc0c1\\uad00\\ub78c\\uac00\", \"offsetgroup\": \"\\uad00\\ub78c\\uac00=15\\uc138\\uc774\\uc0c1\\uad00\\ub78c\\uac00\", \"orientation\": \"v\", \"showlegend\": true, \"textposition\": \"auto\", \"type\": \"bar\", \"x\": [\"\\ub514\\uc988\\ub2c8+\", \"\\ub124\\uc774\\ubc84\\uc2dc\\ub9ac\\uc988\\uc628\", \"\\ub137\\ud50c\\ub9ad\\uc2a4\", \"\\ud2f0\\ube59\", \"\\uc653\\ucc60\", \"AppleTV+\", \"\\uc6e8\\uc774\\ube0c\", \"\\uc544\\ub9c8\\uc874\\ud504\\ub77c\\uc784\\ube44\\ub514\\uc624\", \"seezn\", \"\\ucfe0\\ud321\\ud50c\\ub808\\uc774\", \"\\ub77c\\ud504\\ud154\"], \"xaxis\": \"x\", \"y\": [270, 4, 1111, 2465, 2383, 18, 2948, 33, 325, 267, 611], \"yaxis\": \"y\"}, {\"alignmentgroup\": \"True\", \"customdata\": [[12.083333333333334], [0.0], [40.772532188841204], [6.695464362850972], [10.538116591928251], [20.0], [10.534390181539248], [70.58823529411765], [6.701030927835052], [14.285714285714286], [15.84]], \"hoverlabel\": {\"namelength\": 0}, \"hovertemplate\": \"\\uad00\\ub78c\\uac00=\\uccad\\uc18c\\ub144\\uad00\\ub78c\\ubd88\\uac00<br>provider=%{x}<br>count=%{y}<br>percent=%{customdata[0]}\", \"legendgroup\": \"\\uad00\\ub78c\\uac00=\\uccad\\uc18c\\ub144\\uad00\\ub78c\\ubd88\\uac00\", \"marker\": {\"color\": \"#ab63fa\"}, \"name\": \"\\uad00\\ub78c\\uac00=\\uccad\\uc18c\\ub144\\uad00\\ub78c\\ubd88\\uac00\", \"offsetgroup\": \"\\uad00\\ub78c\\uac00=\\uccad\\uc18c\\ub144\\uad00\\ub78c\\ubd88\\uac00\", \"orientation\": \"v\", \"showlegend\": true, \"textposition\": \"auto\", \"type\": \"bar\", \"x\": [\"\\ub514\\uc988\\ub2c8+\", \"\\ub124\\uc774\\ubc84\\uc2dc\\ub9ac\\uc988\\uc628\", \"\\ub137\\ud50c\\ub9ad\\uc2a4\", \"\\ud2f0\\ube59\", \"\\uc653\\ucc60\", \"AppleTV+\", \"\\uc6e8\\uc774\\ube0c\", \"\\uc544\\ub9c8\\uc874\\ud504\\ub77c\\uc784\\ube44\\ub514\\uc624\", \"seezn\", \"\\ucfe0\\ud321\\ud50c\\ub808\\uc774\", \"\\ub77c\\ud504\\ud154\"], \"xaxis\": \"x\", \"y\": [87, 0, 1330, 217, 423, 7, 412, 84, 26, 76, 198], \"yaxis\": \"y\"}],\n",
              "                        {\"barmode\": \"relative\", \"legend\": {\"tracegroupgap\": 0}, \"template\": {\"data\": {\"bar\": [{\"error_x\": {\"color\": \"#2a3f5f\"}, \"error_y\": {\"color\": \"#2a3f5f\"}, \"marker\": {\"line\": {\"color\": \"#E5ECF6\", \"width\": 0.5}}, \"type\": \"bar\"}], \"barpolar\": [{\"marker\": {\"line\": {\"color\": \"#E5ECF6\", \"width\": 0.5}}, \"type\": \"barpolar\"}], \"carpet\": [{\"aaxis\": {\"endlinecolor\": \"#2a3f5f\", \"gridcolor\": \"white\", \"linecolor\": \"white\", \"minorgridcolor\": \"white\", \"startlinecolor\": \"#2a3f5f\"}, \"baxis\": {\"endlinecolor\": \"#2a3f5f\", \"gridcolor\": \"white\", \"linecolor\": \"white\", \"minorgridcolor\": \"white\", \"startlinecolor\": \"#2a3f5f\"}, \"type\": \"carpet\"}], \"choropleth\": [{\"colorbar\": {\"outlinewidth\": 0, \"ticks\": \"\"}, \"type\": \"choropleth\"}], \"contour\": [{\"colorbar\": {\"outlinewidth\": 0, \"ticks\": \"\"}, \"colorscale\": [[0.0, \"#0d0887\"], [0.1111111111111111, \"#46039f\"], [0.2222222222222222, \"#7201a8\"], [0.3333333333333333, \"#9c179e\"], [0.4444444444444444, \"#bd3786\"], [0.5555555555555556, \"#d8576b\"], [0.6666666666666666, \"#ed7953\"], [0.7777777777777778, \"#fb9f3a\"], [0.8888888888888888, \"#fdca26\"], [1.0, \"#f0f921\"]], \"type\": \"contour\"}], \"contourcarpet\": [{\"colorbar\": {\"outlinewidth\": 0, \"ticks\": \"\"}, \"type\": \"contourcarpet\"}], \"heatmap\": [{\"colorbar\": {\"outlinewidth\": 0, \"ticks\": \"\"}, \"colorscale\": [[0.0, \"#0d0887\"], [0.1111111111111111, \"#46039f\"], [0.2222222222222222, \"#7201a8\"], [0.3333333333333333, \"#9c179e\"], [0.4444444444444444, \"#bd3786\"], [0.5555555555555556, \"#d8576b\"], [0.6666666666666666, \"#ed7953\"], [0.7777777777777778, \"#fb9f3a\"], [0.8888888888888888, \"#fdca26\"], [1.0, \"#f0f921\"]], \"type\": \"heatmap\"}], \"heatmapgl\": [{\"colorbar\": {\"outlinewidth\": 0, \"ticks\": \"\"}, \"colorscale\": [[0.0, \"#0d0887\"], [0.1111111111111111, \"#46039f\"], [0.2222222222222222, \"#7201a8\"], [0.3333333333333333, \"#9c179e\"], [0.4444444444444444, \"#bd3786\"], [0.5555555555555556, \"#d8576b\"], [0.6666666666666666, \"#ed7953\"], [0.7777777777777778, \"#fb9f3a\"], [0.8888888888888888, \"#fdca26\"], [1.0, \"#f0f921\"]], \"type\": \"heatmapgl\"}], \"histogram\": [{\"marker\": {\"colorbar\": {\"outlinewidth\": 0, \"ticks\": \"\"}}, \"type\": \"histogram\"}], \"histogram2d\": [{\"colorbar\": {\"outlinewidth\": 0, \"ticks\": \"\"}, \"colorscale\": [[0.0, \"#0d0887\"], [0.1111111111111111, \"#46039f\"], [0.2222222222222222, \"#7201a8\"], [0.3333333333333333, \"#9c179e\"], [0.4444444444444444, \"#bd3786\"], [0.5555555555555556, \"#d8576b\"], [0.6666666666666666, \"#ed7953\"], [0.7777777777777778, \"#fb9f3a\"], [0.8888888888888888, \"#fdca26\"], [1.0, \"#f0f921\"]], \"type\": \"histogram2d\"}], \"histogram2dcontour\": [{\"colorbar\": {\"outlinewidth\": 0, \"ticks\": \"\"}, \"colorscale\": [[0.0, \"#0d0887\"], [0.1111111111111111, \"#46039f\"], [0.2222222222222222, \"#7201a8\"], [0.3333333333333333, \"#9c179e\"], [0.4444444444444444, \"#bd3786\"], [0.5555555555555556, \"#d8576b\"], [0.6666666666666666, \"#ed7953\"], [0.7777777777777778, \"#fb9f3a\"], [0.8888888888888888, \"#fdca26\"], [1.0, \"#f0f921\"]], \"type\": \"histogram2dcontour\"}], \"mesh3d\": [{\"colorbar\": {\"outlinewidth\": 0, \"ticks\": \"\"}, \"type\": \"mesh3d\"}], \"parcoords\": [{\"line\": {\"colorbar\": {\"outlinewidth\": 0, \"ticks\": \"\"}}, \"type\": \"parcoords\"}], \"pie\": [{\"automargin\": true, \"type\": \"pie\"}], \"scatter\": [{\"marker\": {\"colorbar\": {\"outlinewidth\": 0, \"ticks\": \"\"}}, \"type\": \"scatter\"}], \"scatter3d\": [{\"line\": {\"colorbar\": {\"outlinewidth\": 0, \"ticks\": \"\"}}, \"marker\": {\"colorbar\": {\"outlinewidth\": 0, \"ticks\": \"\"}}, \"type\": \"scatter3d\"}], \"scattercarpet\": [{\"marker\": {\"colorbar\": {\"outlinewidth\": 0, \"ticks\": \"\"}}, \"type\": \"scattercarpet\"}], \"scattergeo\": [{\"marker\": {\"colorbar\": {\"outlinewidth\": 0, \"ticks\": \"\"}}, \"type\": \"scattergeo\"}], \"scattergl\": [{\"marker\": {\"colorbar\": {\"outlinewidth\": 0, \"ticks\": \"\"}}, \"type\": \"scattergl\"}], \"scattermapbox\": [{\"marker\": {\"colorbar\": {\"outlinewidth\": 0, \"ticks\": \"\"}}, \"type\": \"scattermapbox\"}], \"scatterpolar\": [{\"marker\": {\"colorbar\": {\"outlinewidth\": 0, \"ticks\": \"\"}}, \"type\": \"scatterpolar\"}], \"scatterpolargl\": [{\"marker\": {\"colorbar\": {\"outlinewidth\": 0, \"ticks\": \"\"}}, \"type\": \"scatterpolargl\"}], \"scatterternary\": [{\"marker\": {\"colorbar\": {\"outlinewidth\": 0, \"ticks\": \"\"}}, \"type\": \"scatterternary\"}], \"surface\": [{\"colorbar\": {\"outlinewidth\": 0, \"ticks\": \"\"}, \"colorscale\": [[0.0, \"#0d0887\"], [0.1111111111111111, \"#46039f\"], [0.2222222222222222, \"#7201a8\"], [0.3333333333333333, \"#9c179e\"], [0.4444444444444444, \"#bd3786\"], [0.5555555555555556, \"#d8576b\"], [0.6666666666666666, \"#ed7953\"], [0.7777777777777778, \"#fb9f3a\"], [0.8888888888888888, \"#fdca26\"], [1.0, \"#f0f921\"]], \"type\": \"surface\"}], \"table\": [{\"cells\": {\"fill\": {\"color\": \"#EBF0F8\"}, \"line\": {\"color\": \"white\"}}, \"header\": {\"fill\": {\"color\": \"#C8D4E3\"}, \"line\": {\"color\": \"white\"}}, \"type\": \"table\"}]}, \"layout\": {\"annotationdefaults\": {\"arrowcolor\": \"#2a3f5f\", \"arrowhead\": 0, \"arrowwidth\": 1}, \"coloraxis\": {\"colorbar\": {\"outlinewidth\": 0, \"ticks\": \"\"}}, \"colorscale\": {\"diverging\": [[0, \"#8e0152\"], [0.1, \"#c51b7d\"], [0.2, \"#de77ae\"], [0.3, \"#f1b6da\"], [0.4, \"#fde0ef\"], [0.5, \"#f7f7f7\"], [0.6, \"#e6f5d0\"], [0.7, \"#b8e186\"], [0.8, \"#7fbc41\"], [0.9, \"#4d9221\"], [1, \"#276419\"]], \"sequential\": [[0.0, \"#0d0887\"], [0.1111111111111111, \"#46039f\"], [0.2222222222222222, \"#7201a8\"], [0.3333333333333333, \"#9c179e\"], [0.4444444444444444, \"#bd3786\"], [0.5555555555555556, \"#d8576b\"], [0.6666666666666666, \"#ed7953\"], [0.7777777777777778, \"#fb9f3a\"], [0.8888888888888888, \"#fdca26\"], [1.0, \"#f0f921\"]], \"sequentialminus\": [[0.0, \"#0d0887\"], [0.1111111111111111, \"#46039f\"], [0.2222222222222222, \"#7201a8\"], [0.3333333333333333, \"#9c179e\"], [0.4444444444444444, \"#bd3786\"], [0.5555555555555556, \"#d8576b\"], [0.6666666666666666, \"#ed7953\"], [0.7777777777777778, \"#fb9f3a\"], [0.8888888888888888, \"#fdca26\"], [1.0, \"#f0f921\"]]}, \"colorway\": [\"#636efa\", \"#EF553B\", \"#00cc96\", \"#ab63fa\", \"#FFA15A\", \"#19d3f3\", \"#FF6692\", \"#B6E880\", \"#FF97FF\", \"#FECB52\"], \"font\": {\"color\": \"#2a3f5f\"}, \"geo\": {\"bgcolor\": \"white\", \"lakecolor\": \"white\", \"landcolor\": \"#E5ECF6\", \"showlakes\": true, \"showland\": true, \"subunitcolor\": \"white\"}, \"hoverlabel\": {\"align\": \"left\"}, \"hovermode\": \"closest\", \"mapbox\": {\"style\": \"light\"}, \"paper_bgcolor\": \"white\", \"plot_bgcolor\": \"#E5ECF6\", \"polar\": {\"angularaxis\": {\"gridcolor\": \"white\", \"linecolor\": \"white\", \"ticks\": \"\"}, \"bgcolor\": \"#E5ECF6\", \"radialaxis\": {\"gridcolor\": \"white\", \"linecolor\": \"white\", \"ticks\": \"\"}}, \"scene\": {\"xaxis\": {\"backgroundcolor\": \"#E5ECF6\", \"gridcolor\": \"white\", \"gridwidth\": 2, \"linecolor\": \"white\", \"showbackground\": true, \"ticks\": \"\", \"zerolinecolor\": \"white\"}, \"yaxis\": {\"backgroundcolor\": \"#E5ECF6\", \"gridcolor\": \"white\", \"gridwidth\": 2, \"linecolor\": \"white\", \"showbackground\": true, \"ticks\": \"\", \"zerolinecolor\": \"white\"}, \"zaxis\": {\"backgroundcolor\": \"#E5ECF6\", \"gridcolor\": \"white\", \"gridwidth\": 2, \"linecolor\": \"white\", \"showbackground\": true, \"ticks\": \"\", \"zerolinecolor\": \"white\"}}, \"shapedefaults\": {\"line\": {\"color\": \"#2a3f5f\"}}, \"ternary\": {\"aaxis\": {\"gridcolor\": \"white\", \"linecolor\": \"white\", \"ticks\": \"\"}, \"baxis\": {\"gridcolor\": \"white\", \"linecolor\": \"white\", \"ticks\": \"\"}, \"bgcolor\": \"#E5ECF6\", \"caxis\": {\"gridcolor\": \"white\", \"linecolor\": \"white\", \"ticks\": \"\"}}, \"title\": {\"x\": 0.05}, \"xaxis\": {\"automargin\": true, \"gridcolor\": \"white\", \"linecolor\": \"white\", \"ticks\": \"\", \"title\": {\"standoff\": 15}, \"zerolinecolor\": \"white\", \"zerolinewidth\": 2}, \"yaxis\": {\"automargin\": true, \"gridcolor\": \"white\", \"linecolor\": \"white\", \"ticks\": \"\", \"title\": {\"standoff\": 15}, \"zerolinecolor\": \"white\", \"zerolinewidth\": 2}}}, \"title\": {\"text\": \"\\ucf58\\ud150\\uce20 \\uad00\\ub78c\\uac00\"}, \"xaxis\": {\"anchor\": \"y\", \"domain\": [0.0, 1.0], \"title\": {\"text\": \"provider\"}}, \"yaxis\": {\"anchor\": \"x\", \"domain\": [0.0, 1.0], \"title\": {\"text\": \"count\"}}},\n",
              "                        {\"responsive\": true}\n",
              "                    ).then(function(){\n",
              "                            \n",
              "var gd = document.getElementById('54957616-df96-4e8a-b237-17191da3965d');\n",
              "var x = new MutationObserver(function (mutations, observer) {{\n",
              "        var display = window.getComputedStyle(gd).display;\n",
              "        if (!display || display === 'none') {{\n",
              "            console.log([gd, 'removed!']);\n",
              "            Plotly.purge(gd);\n",
              "            observer.disconnect();\n",
              "        }}\n",
              "}});\n",
              "\n",
              "// Listen for the removal of the full notebook cells\n",
              "var notebookContainer = gd.closest('#notebook-container');\n",
              "if (notebookContainer) {{\n",
              "    x.observe(notebookContainer, {childList: true});\n",
              "}}\n",
              "\n",
              "// Listen for the clearing of the current output cell\n",
              "var outputEl = gd.closest('.output');\n",
              "if (outputEl) {{\n",
              "    x.observe(outputEl, {childList: true});\n",
              "}}\n",
              "\n",
              "                        })\n",
              "                };\n",
              "                \n",
              "            </script>\n",
              "        </div>\n",
              "</body>\n",
              "</html>"
            ]
          },
          "metadata": {}
        }
      ]
    },
    {
      "cell_type": "markdown",
      "source": [
        "###**각 플랫폼 별 콘텐츠 제작 년도**\n",
        "- 2021을 기준으로 최신 콘텐츠가 많은지 오래된 콘텐츠가 많은지 파악"
      ],
      "metadata": {
        "id": "VRh4rYdUkN5F"
      }
    },
    {
      "cell_type": "code",
      "source": [
        "#year가 NaN인 항목 제거\n",
        "year_d=tv_data\n",
        "print('제거 이전:',len(year_d))\n",
        "year_d = year_d.dropna(subset = ['year'], how = 'any', axis=0)\n",
        "print('제거 이후:',len(year_d))"
      ],
      "metadata": {
        "colab": {
          "base_uri": "https://localhost:8080/"
        },
        "id": "l9ojAqseHbPe",
        "outputId": "daed50cb-f93b-4170-aa8a-9ab6d5f4bda7"
      },
      "execution_count": null,
      "outputs": [
        {
          "output_type": "stream",
          "name": "stdout",
          "text": [
            "제거 이전: 11428\n",
            "제거 이후: 11410\n"
          ]
        }
      ]
    },
    {
      "cell_type": "code",
      "source": [
        "#시각화 라이브러리 호출\n",
        "import plotly.express as px\n",
        "\n",
        "#신규 데이터프레임\n",
        "df3= pd.DataFrame(columns=['provider','제작년도','count','percent'])\n",
        "\n",
        "for i in provider_list:\n",
        "  d=year_d.loc[year_d[\"provider\"].str.contains(i)]\n",
        "  df3.loc[len(df3)]=[i,'2021 이전',len(d[d['year']<2021]),len(d[d['year']<2021])*100/len(d)]\n",
        "  df3.loc[len(df3)]=[i,'2021 이후',len(d[d['year']>=2021]),len(d[d['year']>=2021])*100/len(d)]\n",
        "\n",
        "#시각화 \n",
        "fig = px.bar(df3, x=\"provider\", y=\"count\",hover_data=['percent'], color=\"제작년도\", title=\"근 1년 내 콘텐츠 비율\")\n",
        "fig.show()"
      ],
      "metadata": {
        "colab": {
          "base_uri": "https://localhost:8080/",
          "height": 542
        },
        "id": "oOwRqLb1IVig",
        "outputId": "81581eb8-6287-4229-d543-c0890637c5ca"
      },
      "execution_count": null,
      "outputs": [
        {
          "output_type": "display_data",
          "data": {
            "text/html": [
              "<html>\n",
              "<head><meta charset=\"utf-8\" /></head>\n",
              "<body>\n",
              "    <div>\n",
              "            <script src=\"https://cdnjs.cloudflare.com/ajax/libs/mathjax/2.7.5/MathJax.js?config=TeX-AMS-MML_SVG\"></script><script type=\"text/javascript\">if (window.MathJax) {MathJax.Hub.Config({SVG: {font: \"STIX-Web\"}});}</script>\n",
              "                <script type=\"text/javascript\">window.PlotlyConfig = {MathJaxConfig: 'local'};</script>\n",
              "        <script src=\"https://cdn.plot.ly/plotly-latest.min.js\"></script>    \n",
              "            <div id=\"2edb6dc9-c5b8-4c9b-bc21-2a243d0e3bd4\" class=\"plotly-graph-div\" style=\"height:525px; width:100%;\"></div>\n",
              "            <script type=\"text/javascript\">\n",
              "                \n",
              "                    window.PLOTLYENV=window.PLOTLYENV || {};\n",
              "                    \n",
              "                if (document.getElementById(\"2edb6dc9-c5b8-4c9b-bc21-2a243d0e3bd4\")) {\n",
              "                    Plotly.newPlot(\n",
              "                        '2edb6dc9-c5b8-4c9b-bc21-2a243d0e3bd4',\n",
              "                        [{\"alignmentgroup\": \"True\", \"customdata\": [[93.7413073713491], [100.0], [86.71350030543678], [87.62015729682493], [91.50279193979121], [37.5], [92.69649334945586], [96.0431654676259], [65.46762589928058], [92.43697478991596], [87.98751950078002]], \"hoverlabel\": {\"namelength\": 0}, \"hovertemplate\": \"\\uc81c\\uc791\\ub144\\ub3c4=2021 \\uc774\\uc804<br>provider=%{x}<br>count=%{y}<br>percent=%{customdata[0]}\", \"legendgroup\": \"\\uc81c\\uc791\\ub144\\ub3c4=2021 \\uc774\\uc804\", \"marker\": {\"color\": \"#636efa\"}, \"name\": \"\\uc81c\\uc791\\ub144\\ub3c4=2021 \\uc774\\uc804\", \"offsetgroup\": \"\\uc81c\\uc791\\ub144\\ub3c4=2021 \\uc774\\uc804\", \"orientation\": \"v\", \"showlegend\": true, \"textposition\": \"auto\", \"type\": \"bar\", \"x\": [\"\\ub514\\uc988\\ub2c8+\", \"\\ub124\\uc774\\ubc84\\uc2dc\\ub9ac\\uc988\\uc628\", \"\\ub137\\ud50c\\ub9ad\\uc2a4\", \"\\ud2f0\\ube59\", \"\\uc653\\ucc60\", \"AppleTV+\", \"\\uc6e8\\uc774\\ube0c\", \"\\uc544\\ub9c8\\uc874\\ud504\\ub77c\\uc784\\ube44\\ub514\\uc624\", \"seezn\", \"\\ucfe0\\ud321\\ud50c\\ub808\\uc774\", \"\\ub77c\\ud504\\ud154\"], \"xaxis\": \"x\", \"y\": [674, 4, 2839, 3008, 3769, 15, 3833, 267, 273, 550, 1128], \"yaxis\": \"y\"}, {\"alignmentgroup\": \"True\", \"customdata\": [[6.258692628650904], [0.0], [13.286499694563226], [12.379842703175065], [8.497208060208788], [62.5], [7.3035066505441355], [3.9568345323741005], [34.53237410071942], [7.563025210084033], [12.012480499219969]], \"hoverlabel\": {\"namelength\": 0}, \"hovertemplate\": \"\\uc81c\\uc791\\ub144\\ub3c4=2021 \\uc774\\ud6c4<br>provider=%{x}<br>count=%{y}<br>percent=%{customdata[0]}\", \"legendgroup\": \"\\uc81c\\uc791\\ub144\\ub3c4=2021 \\uc774\\ud6c4\", \"marker\": {\"color\": \"#EF553B\"}, \"name\": \"\\uc81c\\uc791\\ub144\\ub3c4=2021 \\uc774\\ud6c4\", \"offsetgroup\": \"\\uc81c\\uc791\\ub144\\ub3c4=2021 \\uc774\\ud6c4\", \"orientation\": \"v\", \"showlegend\": true, \"textposition\": \"auto\", \"type\": \"bar\", \"x\": [\"\\ub514\\uc988\\ub2c8+\", \"\\ub124\\uc774\\ubc84\\uc2dc\\ub9ac\\uc988\\uc628\", \"\\ub137\\ud50c\\ub9ad\\uc2a4\", \"\\ud2f0\\ube59\", \"\\uc653\\ucc60\", \"AppleTV+\", \"\\uc6e8\\uc774\\ube0c\", \"\\uc544\\ub9c8\\uc874\\ud504\\ub77c\\uc784\\ube44\\ub514\\uc624\", \"seezn\", \"\\ucfe0\\ud321\\ud50c\\ub808\\uc774\", \"\\ub77c\\ud504\\ud154\"], \"xaxis\": \"x\", \"y\": [45, 0, 435, 425, 350, 25, 302, 11, 144, 45, 154], \"yaxis\": \"y\"}],\n",
              "                        {\"barmode\": \"relative\", \"legend\": {\"tracegroupgap\": 0}, \"template\": {\"data\": {\"bar\": [{\"error_x\": {\"color\": \"#2a3f5f\"}, \"error_y\": {\"color\": \"#2a3f5f\"}, \"marker\": {\"line\": {\"color\": \"#E5ECF6\", \"width\": 0.5}}, \"type\": \"bar\"}], \"barpolar\": [{\"marker\": {\"line\": {\"color\": \"#E5ECF6\", \"width\": 0.5}}, \"type\": \"barpolar\"}], \"carpet\": [{\"aaxis\": {\"endlinecolor\": \"#2a3f5f\", \"gridcolor\": \"white\", \"linecolor\": \"white\", \"minorgridcolor\": \"white\", \"startlinecolor\": \"#2a3f5f\"}, \"baxis\": {\"endlinecolor\": \"#2a3f5f\", \"gridcolor\": \"white\", \"linecolor\": \"white\", \"minorgridcolor\": \"white\", \"startlinecolor\": \"#2a3f5f\"}, \"type\": \"carpet\"}], \"choropleth\": [{\"colorbar\": {\"outlinewidth\": 0, \"ticks\": \"\"}, \"type\": \"choropleth\"}], \"contour\": [{\"colorbar\": {\"outlinewidth\": 0, \"ticks\": \"\"}, \"colorscale\": [[0.0, \"#0d0887\"], [0.1111111111111111, \"#46039f\"], [0.2222222222222222, \"#7201a8\"], [0.3333333333333333, \"#9c179e\"], [0.4444444444444444, \"#bd3786\"], [0.5555555555555556, \"#d8576b\"], [0.6666666666666666, \"#ed7953\"], [0.7777777777777778, \"#fb9f3a\"], [0.8888888888888888, \"#fdca26\"], [1.0, \"#f0f921\"]], \"type\": \"contour\"}], \"contourcarpet\": [{\"colorbar\": {\"outlinewidth\": 0, \"ticks\": \"\"}, \"type\": \"contourcarpet\"}], \"heatmap\": [{\"colorbar\": {\"outlinewidth\": 0, \"ticks\": \"\"}, \"colorscale\": [[0.0, \"#0d0887\"], [0.1111111111111111, \"#46039f\"], [0.2222222222222222, \"#7201a8\"], [0.3333333333333333, \"#9c179e\"], [0.4444444444444444, \"#bd3786\"], [0.5555555555555556, \"#d8576b\"], [0.6666666666666666, \"#ed7953\"], [0.7777777777777778, \"#fb9f3a\"], [0.8888888888888888, \"#fdca26\"], [1.0, \"#f0f921\"]], \"type\": \"heatmap\"}], \"heatmapgl\": [{\"colorbar\": {\"outlinewidth\": 0, \"ticks\": \"\"}, \"colorscale\": [[0.0, \"#0d0887\"], [0.1111111111111111, \"#46039f\"], [0.2222222222222222, \"#7201a8\"], [0.3333333333333333, \"#9c179e\"], [0.4444444444444444, \"#bd3786\"], [0.5555555555555556, \"#d8576b\"], [0.6666666666666666, \"#ed7953\"], [0.7777777777777778, \"#fb9f3a\"], [0.8888888888888888, \"#fdca26\"], [1.0, \"#f0f921\"]], \"type\": \"heatmapgl\"}], \"histogram\": [{\"marker\": {\"colorbar\": {\"outlinewidth\": 0, \"ticks\": \"\"}}, \"type\": \"histogram\"}], \"histogram2d\": [{\"colorbar\": {\"outlinewidth\": 0, \"ticks\": \"\"}, \"colorscale\": [[0.0, \"#0d0887\"], [0.1111111111111111, \"#46039f\"], [0.2222222222222222, \"#7201a8\"], [0.3333333333333333, \"#9c179e\"], [0.4444444444444444, \"#bd3786\"], [0.5555555555555556, \"#d8576b\"], [0.6666666666666666, \"#ed7953\"], [0.7777777777777778, \"#fb9f3a\"], [0.8888888888888888, \"#fdca26\"], [1.0, \"#f0f921\"]], \"type\": \"histogram2d\"}], \"histogram2dcontour\": [{\"colorbar\": {\"outlinewidth\": 0, \"ticks\": \"\"}, \"colorscale\": [[0.0, \"#0d0887\"], [0.1111111111111111, \"#46039f\"], [0.2222222222222222, \"#7201a8\"], [0.3333333333333333, \"#9c179e\"], [0.4444444444444444, \"#bd3786\"], [0.5555555555555556, \"#d8576b\"], [0.6666666666666666, \"#ed7953\"], [0.7777777777777778, \"#fb9f3a\"], [0.8888888888888888, \"#fdca26\"], [1.0, \"#f0f921\"]], \"type\": \"histogram2dcontour\"}], \"mesh3d\": [{\"colorbar\": {\"outlinewidth\": 0, \"ticks\": \"\"}, \"type\": \"mesh3d\"}], \"parcoords\": [{\"line\": {\"colorbar\": {\"outlinewidth\": 0, \"ticks\": \"\"}}, \"type\": \"parcoords\"}], \"pie\": [{\"automargin\": true, \"type\": \"pie\"}], \"scatter\": [{\"marker\": {\"colorbar\": {\"outlinewidth\": 0, \"ticks\": \"\"}}, \"type\": \"scatter\"}], \"scatter3d\": [{\"line\": {\"colorbar\": {\"outlinewidth\": 0, \"ticks\": \"\"}}, \"marker\": {\"colorbar\": {\"outlinewidth\": 0, \"ticks\": \"\"}}, \"type\": \"scatter3d\"}], \"scattercarpet\": [{\"marker\": {\"colorbar\": {\"outlinewidth\": 0, \"ticks\": \"\"}}, \"type\": \"scattercarpet\"}], \"scattergeo\": [{\"marker\": {\"colorbar\": {\"outlinewidth\": 0, \"ticks\": \"\"}}, \"type\": \"scattergeo\"}], \"scattergl\": [{\"marker\": {\"colorbar\": {\"outlinewidth\": 0, \"ticks\": \"\"}}, \"type\": \"scattergl\"}], \"scattermapbox\": [{\"marker\": {\"colorbar\": {\"outlinewidth\": 0, \"ticks\": \"\"}}, \"type\": \"scattermapbox\"}], \"scatterpolar\": [{\"marker\": {\"colorbar\": {\"outlinewidth\": 0, \"ticks\": \"\"}}, \"type\": \"scatterpolar\"}], \"scatterpolargl\": [{\"marker\": {\"colorbar\": {\"outlinewidth\": 0, \"ticks\": \"\"}}, \"type\": \"scatterpolargl\"}], \"scatterternary\": [{\"marker\": {\"colorbar\": {\"outlinewidth\": 0, \"ticks\": \"\"}}, \"type\": \"scatterternary\"}], \"surface\": [{\"colorbar\": {\"outlinewidth\": 0, \"ticks\": \"\"}, \"colorscale\": [[0.0, \"#0d0887\"], [0.1111111111111111, \"#46039f\"], [0.2222222222222222, \"#7201a8\"], [0.3333333333333333, \"#9c179e\"], [0.4444444444444444, \"#bd3786\"], [0.5555555555555556, \"#d8576b\"], [0.6666666666666666, \"#ed7953\"], [0.7777777777777778, \"#fb9f3a\"], [0.8888888888888888, \"#fdca26\"], [1.0, \"#f0f921\"]], \"type\": \"surface\"}], \"table\": [{\"cells\": {\"fill\": {\"color\": \"#EBF0F8\"}, \"line\": {\"color\": \"white\"}}, \"header\": {\"fill\": {\"color\": \"#C8D4E3\"}, \"line\": {\"color\": \"white\"}}, \"type\": \"table\"}]}, \"layout\": {\"annotationdefaults\": {\"arrowcolor\": \"#2a3f5f\", \"arrowhead\": 0, \"arrowwidth\": 1}, \"coloraxis\": {\"colorbar\": {\"outlinewidth\": 0, \"ticks\": \"\"}}, \"colorscale\": {\"diverging\": [[0, \"#8e0152\"], [0.1, \"#c51b7d\"], [0.2, \"#de77ae\"], [0.3, \"#f1b6da\"], [0.4, \"#fde0ef\"], [0.5, \"#f7f7f7\"], [0.6, \"#e6f5d0\"], [0.7, \"#b8e186\"], [0.8, \"#7fbc41\"], [0.9, \"#4d9221\"], [1, \"#276419\"]], \"sequential\": [[0.0, \"#0d0887\"], [0.1111111111111111, \"#46039f\"], [0.2222222222222222, \"#7201a8\"], [0.3333333333333333, \"#9c179e\"], [0.4444444444444444, \"#bd3786\"], [0.5555555555555556, \"#d8576b\"], [0.6666666666666666, \"#ed7953\"], [0.7777777777777778, \"#fb9f3a\"], [0.8888888888888888, \"#fdca26\"], [1.0, \"#f0f921\"]], \"sequentialminus\": [[0.0, \"#0d0887\"], [0.1111111111111111, \"#46039f\"], [0.2222222222222222, \"#7201a8\"], [0.3333333333333333, \"#9c179e\"], [0.4444444444444444, \"#bd3786\"], [0.5555555555555556, \"#d8576b\"], [0.6666666666666666, \"#ed7953\"], [0.7777777777777778, \"#fb9f3a\"], [0.8888888888888888, \"#fdca26\"], [1.0, \"#f0f921\"]]}, \"colorway\": [\"#636efa\", \"#EF553B\", \"#00cc96\", \"#ab63fa\", \"#FFA15A\", \"#19d3f3\", \"#FF6692\", \"#B6E880\", \"#FF97FF\", \"#FECB52\"], \"font\": {\"color\": \"#2a3f5f\"}, \"geo\": {\"bgcolor\": \"white\", \"lakecolor\": \"white\", \"landcolor\": \"#E5ECF6\", \"showlakes\": true, \"showland\": true, \"subunitcolor\": \"white\"}, \"hoverlabel\": {\"align\": \"left\"}, \"hovermode\": \"closest\", \"mapbox\": {\"style\": \"light\"}, \"paper_bgcolor\": \"white\", \"plot_bgcolor\": \"#E5ECF6\", \"polar\": {\"angularaxis\": {\"gridcolor\": \"white\", \"linecolor\": \"white\", \"ticks\": \"\"}, \"bgcolor\": \"#E5ECF6\", \"radialaxis\": {\"gridcolor\": \"white\", \"linecolor\": \"white\", \"ticks\": \"\"}}, \"scene\": {\"xaxis\": {\"backgroundcolor\": \"#E5ECF6\", \"gridcolor\": \"white\", \"gridwidth\": 2, \"linecolor\": \"white\", \"showbackground\": true, \"ticks\": \"\", \"zerolinecolor\": \"white\"}, \"yaxis\": {\"backgroundcolor\": \"#E5ECF6\", \"gridcolor\": \"white\", \"gridwidth\": 2, \"linecolor\": \"white\", \"showbackground\": true, \"ticks\": \"\", \"zerolinecolor\": \"white\"}, \"zaxis\": {\"backgroundcolor\": \"#E5ECF6\", \"gridcolor\": \"white\", \"gridwidth\": 2, \"linecolor\": \"white\", \"showbackground\": true, \"ticks\": \"\", \"zerolinecolor\": \"white\"}}, \"shapedefaults\": {\"line\": {\"color\": \"#2a3f5f\"}}, \"ternary\": {\"aaxis\": {\"gridcolor\": \"white\", \"linecolor\": \"white\", \"ticks\": \"\"}, \"baxis\": {\"gridcolor\": \"white\", \"linecolor\": \"white\", \"ticks\": \"\"}, \"bgcolor\": \"#E5ECF6\", \"caxis\": {\"gridcolor\": \"white\", \"linecolor\": \"white\", \"ticks\": \"\"}}, \"title\": {\"x\": 0.05}, \"xaxis\": {\"automargin\": true, \"gridcolor\": \"white\", \"linecolor\": \"white\", \"ticks\": \"\", \"title\": {\"standoff\": 15}, \"zerolinecolor\": \"white\", \"zerolinewidth\": 2}, \"yaxis\": {\"automargin\": true, \"gridcolor\": \"white\", \"linecolor\": \"white\", \"ticks\": \"\", \"title\": {\"standoff\": 15}, \"zerolinecolor\": \"white\", \"zerolinewidth\": 2}}}, \"title\": {\"text\": \"\\uadfc 1\\ub144 \\ub0b4 \\ucf58\\ud150\\uce20 \\ube44\\uc728\"}, \"xaxis\": {\"anchor\": \"y\", \"domain\": [0.0, 1.0], \"title\": {\"text\": \"provider\"}}, \"yaxis\": {\"anchor\": \"x\", \"domain\": [0.0, 1.0], \"title\": {\"text\": \"count\"}}},\n",
              "                        {\"responsive\": true}\n",
              "                    ).then(function(){\n",
              "                            \n",
              "var gd = document.getElementById('2edb6dc9-c5b8-4c9b-bc21-2a243d0e3bd4');\n",
              "var x = new MutationObserver(function (mutations, observer) {{\n",
              "        var display = window.getComputedStyle(gd).display;\n",
              "        if (!display || display === 'none') {{\n",
              "            console.log([gd, 'removed!']);\n",
              "            Plotly.purge(gd);\n",
              "            observer.disconnect();\n",
              "        }}\n",
              "}});\n",
              "\n",
              "// Listen for the removal of the full notebook cells\n",
              "var notebookContainer = gd.closest('#notebook-container');\n",
              "if (notebookContainer) {{\n",
              "    x.observe(notebookContainer, {childList: true});\n",
              "}}\n",
              "\n",
              "// Listen for the clearing of the current output cell\n",
              "var outputEl = gd.closest('.output');\n",
              "if (outputEl) {{\n",
              "    x.observe(outputEl, {childList: true});\n",
              "}}\n",
              "\n",
              "                        })\n",
              "                };\n",
              "                \n",
              "            </script>\n",
              "        </div>\n",
              "</body>\n",
              "</html>"
            ]
          },
          "metadata": {}
        }
      ]
    },
    {
      "cell_type": "markdown",
      "source": [
        "###**플랫폼 별 콘텐츠 제작 국가**\n",
        "- 해외/국내 콘텐츠 비율 파악"
      ],
      "metadata": {
        "id": "w54YJpco8WkC"
      }
    },
    {
      "cell_type": "code",
      "source": [
        "#country가 NaN인 항목 제거\n",
        "country=tv_data\n",
        "print('제거 이전:',len(country))\n",
        "country = country.dropna(subset = ['country'], how = 'any', axis=0)\n",
        "print('제거 이후:',len(country))"
      ],
      "metadata": {
        "colab": {
          "base_uri": "https://localhost:8080/"
        },
        "id": "m3gYLPnadNVi",
        "outputId": "0c71a500-6411-4751-b529-c9caf89156e3"
      },
      "execution_count": null,
      "outputs": [
        {
          "output_type": "stream",
          "name": "stdout",
          "text": [
            "제거 이전: 11428\n",
            "제거 이후: 11428\n"
          ]
        }
      ]
    },
    {
      "cell_type": "code",
      "source": [
        "#데이터에 적힌 country 목록\n",
        "\n",
        "country_list=[]\n",
        "li=country['country'].apply(lambda x: x.split(','))\n",
        "for i in li:\n",
        "    if i not in country_list:\n",
        "      country_list+=i\n",
        "country_list=list(set(country_list))\n",
        "country_list.remove('')\n",
        "print(country_list)"
      ],
      "metadata": {
        "colab": {
          "base_uri": "https://localhost:8080/"
        },
        "id": "ZunzBBy_KpMf",
        "outputId": "93e32fbb-c386-41ab-8718-1a59dbd814f9"
      },
      "execution_count": null,
      "outputs": [
        {
          "output_type": "stream",
          "name": "stdout",
          "text": [
            "['크로아티아', '캐나다', '핀란드', '나이지리아', '이스라엘', '벨기에', '대만', '말레이시아', '러시아', '터키', '독일', '칠레', '뉴질랜드', '영국', '그리스', '덴마크', '필리핀', '체코', '호주', '아일랜드', '스웨덴', '북한', '일본', '중국', '태국', '키즈', '네덜란드', '오스트리아', '세네갈', '남아프리카공화국', '미국', '베트남', '아랍에미리트연합', '스위스', '아르헨티나', '브라질', '콜롬비아', '인도', '요르단', '스페인', '홍콩', '싱가포르', '과테말라', '레바논', '폴란드', '우크라이나', '룩셈부르크', '포르투갈', '한국', '루마니아', '노르웨이', '사우디아라비아', '헝가리', '이탈리아', '아이슬란드', '프랑스', '멕시코', '이집트']\n"
          ]
        }
      ]
    },
    {
      "cell_type": "code",
      "source": [
        "#국내/해외로 구분\n",
        "\n",
        "#시각화 라이브러리 호출\n",
        "import plotly.express as px\n",
        "\n",
        "#신규 데이터프레임\n",
        "df4= pd.DataFrame(columns=['provider','국내/해외','count','percent'])\n",
        "for i in provider_list:\n",
        "  d=tv_data.loc[tv_data['provider'].str.contains(i)]\n",
        "  ko=len(d[d['country'].str.contains('한국')])\n",
        "  n_ko=len(d[d['country'].str.contains('한국')==False])\n",
        "  df4.loc[len(df4)]=[i,'국내',ko,ko*100/len(d)]\n",
        "  df4.loc[len(df4)]=[i,'해외',n_ko,n_ko*100/len(d)]\n",
        "\n",
        "#시각화 \n",
        "fig = px.bar(df4, x=\"provider\", y=\"count\",hover_data=['percent'], color=\"국내/해외\", title=\"국내/해외\")\n",
        "fig.show()"
      ],
      "metadata": {
        "colab": {
          "base_uri": "https://localhost:8080/",
          "height": 542
        },
        "id": "bekvOtCedkNg",
        "outputId": "52a52c74-fe93-479f-d14b-46fec38d719b"
      },
      "execution_count": null,
      "outputs": [
        {
          "output_type": "display_data",
          "data": {
            "text/html": [
              "<html>\n",
              "<head><meta charset=\"utf-8\" /></head>\n",
              "<body>\n",
              "    <div>\n",
              "            <script src=\"https://cdnjs.cloudflare.com/ajax/libs/mathjax/2.7.5/MathJax.js?config=TeX-AMS-MML_SVG\"></script><script type=\"text/javascript\">if (window.MathJax) {MathJax.Hub.Config({SVG: {font: \"STIX-Web\"}});}</script>\n",
              "                <script type=\"text/javascript\">window.PlotlyConfig = {MathJaxConfig: 'local'};</script>\n",
              "        <script src=\"https://cdn.plot.ly/plotly-latest.min.js\"></script>    \n",
              "            <div id=\"b8e6a5a2-26e8-497b-a30c-3408d345b6f2\" class=\"plotly-graph-div\" style=\"height:525px; width:100%;\"></div>\n",
              "            <script type=\"text/javascript\">\n",
              "                \n",
              "                    window.PLOTLYENV=window.PLOTLYENV || {};\n",
              "                    \n",
              "                if (document.getElementById(\"b8e6a5a2-26e8-497b-a30c-3408d345b6f2\")) {\n",
              "                    Plotly.newPlot(\n",
              "                        'b8e6a5a2-26e8-497b-a30c-3408d345b6f2',\n",
              "                        [{\"alignmentgroup\": \"True\", \"customdata\": [[3.3333333333333335], [100.0], [9.740458015267176], [54.027333527188134], [41.70305676855895], [2.5], [40.38182696955051], [0.0], [66.66666666666667], [42.18487394957983], [11.206225680933851]], \"hoverlabel\": {\"namelength\": 0}, \"hovertemplate\": \"\\uad6d\\ub0b4/\\ud574\\uc678=\\uad6d\\ub0b4<br>provider=%{x}<br>count=%{y}<br>percent=%{customdata[0]}\", \"legendgroup\": \"\\uad6d\\ub0b4/\\ud574\\uc678=\\uad6d\\ub0b4\", \"marker\": {\"color\": \"#636efa\"}, \"name\": \"\\uad6d\\ub0b4/\\ud574\\uc678=\\uad6d\\ub0b4\", \"offsetgroup\": \"\\uad6d\\ub0b4/\\ud574\\uc678=\\uad6d\\ub0b4\", \"orientation\": \"v\", \"showlegend\": true, \"textposition\": \"auto\", \"type\": \"bar\", \"x\": [\"\\ub514\\uc988\\ub2c8+\", \"\\ub124\\uc774\\ubc84\\uc2dc\\ub9ac\\uc988\\uc628\", \"\\ub137\\ud50c\\ub9ad\\uc2a4\", \"\\ud2f0\\ube59\", \"\\uc653\\ucc60\", \"AppleTV+\", \"\\uc6e8\\uc774\\ube0c\", \"\\uc544\\ub9c8\\uc874\\ud504\\ub77c\\uc784\\ube44\\ub514\\uc624\", \"seezn\", \"\\ucfe0\\ud321\\ud50c\\ub808\\uc774\", \"\\ub77c\\ud504\\ud154\"], \"xaxis\": \"x\", \"y\": [24, 4, 319, 1858, 1719, 1, 1671, 0, 278, 251, 144], \"yaxis\": \"y\"}, {\"alignmentgroup\": \"True\", \"customdata\": [[96.66666666666667], [0.0], [90.25954198473282], [45.972666472811866], [58.29694323144105], [97.5], [59.61817303044949], [100.0], [33.333333333333336], [57.81512605042017], [88.79377431906615]], \"hoverlabel\": {\"namelength\": 0}, \"hovertemplate\": \"\\uad6d\\ub0b4/\\ud574\\uc678=\\ud574\\uc678<br>provider=%{x}<br>count=%{y}<br>percent=%{customdata[0]}\", \"legendgroup\": \"\\uad6d\\ub0b4/\\ud574\\uc678=\\ud574\\uc678\", \"marker\": {\"color\": \"#EF553B\"}, \"name\": \"\\uad6d\\ub0b4/\\ud574\\uc678=\\ud574\\uc678\", \"offsetgroup\": \"\\uad6d\\ub0b4/\\ud574\\uc678=\\ud574\\uc678\", \"orientation\": \"v\", \"showlegend\": true, \"textposition\": \"auto\", \"type\": \"bar\", \"x\": [\"\\ub514\\uc988\\ub2c8+\", \"\\ub124\\uc774\\ubc84\\uc2dc\\ub9ac\\uc988\\uc628\", \"\\ub137\\ud50c\\ub9ad\\uc2a4\", \"\\ud2f0\\ube59\", \"\\uc653\\ucc60\", \"AppleTV+\", \"\\uc6e8\\uc774\\ube0c\", \"\\uc544\\ub9c8\\uc874\\ud504\\ub77c\\uc784\\ube44\\ub514\\uc624\", \"seezn\", \"\\ucfe0\\ud321\\ud50c\\ub808\\uc774\", \"\\ub77c\\ud504\\ud154\"], \"xaxis\": \"x\", \"y\": [696, 0, 2956, 1581, 2403, 39, 2467, 279, 139, 344, 1141], \"yaxis\": \"y\"}],\n",
              "                        {\"barmode\": \"relative\", \"legend\": {\"tracegroupgap\": 0}, \"template\": {\"data\": {\"bar\": [{\"error_x\": {\"color\": \"#2a3f5f\"}, \"error_y\": {\"color\": \"#2a3f5f\"}, \"marker\": {\"line\": {\"color\": \"#E5ECF6\", \"width\": 0.5}}, \"type\": \"bar\"}], \"barpolar\": [{\"marker\": {\"line\": {\"color\": \"#E5ECF6\", \"width\": 0.5}}, \"type\": \"barpolar\"}], \"carpet\": [{\"aaxis\": {\"endlinecolor\": \"#2a3f5f\", \"gridcolor\": \"white\", \"linecolor\": \"white\", \"minorgridcolor\": \"white\", \"startlinecolor\": \"#2a3f5f\"}, \"baxis\": {\"endlinecolor\": \"#2a3f5f\", \"gridcolor\": \"white\", \"linecolor\": \"white\", \"minorgridcolor\": \"white\", \"startlinecolor\": \"#2a3f5f\"}, \"type\": \"carpet\"}], \"choropleth\": [{\"colorbar\": {\"outlinewidth\": 0, \"ticks\": \"\"}, \"type\": \"choropleth\"}], \"contour\": [{\"colorbar\": {\"outlinewidth\": 0, \"ticks\": \"\"}, \"colorscale\": [[0.0, \"#0d0887\"], [0.1111111111111111, \"#46039f\"], [0.2222222222222222, \"#7201a8\"], [0.3333333333333333, \"#9c179e\"], [0.4444444444444444, \"#bd3786\"], [0.5555555555555556, \"#d8576b\"], [0.6666666666666666, \"#ed7953\"], [0.7777777777777778, \"#fb9f3a\"], [0.8888888888888888, \"#fdca26\"], [1.0, \"#f0f921\"]], \"type\": \"contour\"}], \"contourcarpet\": [{\"colorbar\": {\"outlinewidth\": 0, \"ticks\": \"\"}, \"type\": \"contourcarpet\"}], \"heatmap\": [{\"colorbar\": {\"outlinewidth\": 0, \"ticks\": \"\"}, \"colorscale\": [[0.0, \"#0d0887\"], [0.1111111111111111, \"#46039f\"], [0.2222222222222222, \"#7201a8\"], [0.3333333333333333, \"#9c179e\"], [0.4444444444444444, \"#bd3786\"], [0.5555555555555556, \"#d8576b\"], [0.6666666666666666, \"#ed7953\"], [0.7777777777777778, \"#fb9f3a\"], [0.8888888888888888, \"#fdca26\"], [1.0, \"#f0f921\"]], \"type\": \"heatmap\"}], \"heatmapgl\": [{\"colorbar\": {\"outlinewidth\": 0, \"ticks\": \"\"}, \"colorscale\": [[0.0, \"#0d0887\"], [0.1111111111111111, \"#46039f\"], [0.2222222222222222, \"#7201a8\"], [0.3333333333333333, \"#9c179e\"], [0.4444444444444444, \"#bd3786\"], [0.5555555555555556, \"#d8576b\"], [0.6666666666666666, \"#ed7953\"], [0.7777777777777778, \"#fb9f3a\"], [0.8888888888888888, \"#fdca26\"], [1.0, \"#f0f921\"]], \"type\": \"heatmapgl\"}], \"histogram\": [{\"marker\": {\"colorbar\": {\"outlinewidth\": 0, \"ticks\": \"\"}}, \"type\": \"histogram\"}], \"histogram2d\": [{\"colorbar\": {\"outlinewidth\": 0, \"ticks\": \"\"}, \"colorscale\": [[0.0, \"#0d0887\"], [0.1111111111111111, \"#46039f\"], [0.2222222222222222, \"#7201a8\"], [0.3333333333333333, \"#9c179e\"], [0.4444444444444444, \"#bd3786\"], [0.5555555555555556, \"#d8576b\"], [0.6666666666666666, \"#ed7953\"], [0.7777777777777778, \"#fb9f3a\"], [0.8888888888888888, \"#fdca26\"], [1.0, \"#f0f921\"]], \"type\": \"histogram2d\"}], \"histogram2dcontour\": [{\"colorbar\": {\"outlinewidth\": 0, \"ticks\": \"\"}, \"colorscale\": [[0.0, \"#0d0887\"], [0.1111111111111111, \"#46039f\"], [0.2222222222222222, \"#7201a8\"], [0.3333333333333333, \"#9c179e\"], [0.4444444444444444, \"#bd3786\"], [0.5555555555555556, \"#d8576b\"], [0.6666666666666666, \"#ed7953\"], [0.7777777777777778, \"#fb9f3a\"], [0.8888888888888888, \"#fdca26\"], [1.0, \"#f0f921\"]], \"type\": \"histogram2dcontour\"}], \"mesh3d\": [{\"colorbar\": {\"outlinewidth\": 0, \"ticks\": \"\"}, \"type\": \"mesh3d\"}], \"parcoords\": [{\"line\": {\"colorbar\": {\"outlinewidth\": 0, \"ticks\": \"\"}}, \"type\": \"parcoords\"}], \"pie\": [{\"automargin\": true, \"type\": \"pie\"}], \"scatter\": [{\"marker\": {\"colorbar\": {\"outlinewidth\": 0, \"ticks\": \"\"}}, \"type\": \"scatter\"}], \"scatter3d\": [{\"line\": {\"colorbar\": {\"outlinewidth\": 0, \"ticks\": \"\"}}, \"marker\": {\"colorbar\": {\"outlinewidth\": 0, \"ticks\": \"\"}}, \"type\": \"scatter3d\"}], \"scattercarpet\": [{\"marker\": {\"colorbar\": {\"outlinewidth\": 0, \"ticks\": \"\"}}, \"type\": \"scattercarpet\"}], \"scattergeo\": [{\"marker\": {\"colorbar\": {\"outlinewidth\": 0, \"ticks\": \"\"}}, \"type\": \"scattergeo\"}], \"scattergl\": [{\"marker\": {\"colorbar\": {\"outlinewidth\": 0, \"ticks\": \"\"}}, \"type\": \"scattergl\"}], \"scattermapbox\": [{\"marker\": {\"colorbar\": {\"outlinewidth\": 0, \"ticks\": \"\"}}, \"type\": \"scattermapbox\"}], \"scatterpolar\": [{\"marker\": {\"colorbar\": {\"outlinewidth\": 0, \"ticks\": \"\"}}, \"type\": \"scatterpolar\"}], \"scatterpolargl\": [{\"marker\": {\"colorbar\": {\"outlinewidth\": 0, \"ticks\": \"\"}}, \"type\": \"scatterpolargl\"}], \"scatterternary\": [{\"marker\": {\"colorbar\": {\"outlinewidth\": 0, \"ticks\": \"\"}}, \"type\": \"scatterternary\"}], \"surface\": [{\"colorbar\": {\"outlinewidth\": 0, \"ticks\": \"\"}, \"colorscale\": [[0.0, \"#0d0887\"], [0.1111111111111111, \"#46039f\"], [0.2222222222222222, \"#7201a8\"], [0.3333333333333333, \"#9c179e\"], [0.4444444444444444, \"#bd3786\"], [0.5555555555555556, \"#d8576b\"], [0.6666666666666666, \"#ed7953\"], [0.7777777777777778, \"#fb9f3a\"], [0.8888888888888888, \"#fdca26\"], [1.0, \"#f0f921\"]], \"type\": \"surface\"}], \"table\": [{\"cells\": {\"fill\": {\"color\": \"#EBF0F8\"}, \"line\": {\"color\": \"white\"}}, \"header\": {\"fill\": {\"color\": \"#C8D4E3\"}, \"line\": {\"color\": \"white\"}}, \"type\": \"table\"}]}, \"layout\": {\"annotationdefaults\": {\"arrowcolor\": \"#2a3f5f\", \"arrowhead\": 0, \"arrowwidth\": 1}, \"coloraxis\": {\"colorbar\": {\"outlinewidth\": 0, \"ticks\": \"\"}}, \"colorscale\": {\"diverging\": [[0, \"#8e0152\"], [0.1, \"#c51b7d\"], [0.2, \"#de77ae\"], [0.3, \"#f1b6da\"], [0.4, \"#fde0ef\"], [0.5, \"#f7f7f7\"], [0.6, \"#e6f5d0\"], [0.7, \"#b8e186\"], [0.8, \"#7fbc41\"], [0.9, \"#4d9221\"], [1, \"#276419\"]], \"sequential\": [[0.0, \"#0d0887\"], [0.1111111111111111, \"#46039f\"], [0.2222222222222222, \"#7201a8\"], [0.3333333333333333, \"#9c179e\"], [0.4444444444444444, \"#bd3786\"], [0.5555555555555556, \"#d8576b\"], [0.6666666666666666, \"#ed7953\"], [0.7777777777777778, \"#fb9f3a\"], [0.8888888888888888, \"#fdca26\"], [1.0, \"#f0f921\"]], \"sequentialminus\": [[0.0, \"#0d0887\"], [0.1111111111111111, \"#46039f\"], [0.2222222222222222, \"#7201a8\"], [0.3333333333333333, \"#9c179e\"], [0.4444444444444444, \"#bd3786\"], [0.5555555555555556, \"#d8576b\"], [0.6666666666666666, \"#ed7953\"], [0.7777777777777778, \"#fb9f3a\"], [0.8888888888888888, \"#fdca26\"], [1.0, \"#f0f921\"]]}, \"colorway\": [\"#636efa\", \"#EF553B\", \"#00cc96\", \"#ab63fa\", \"#FFA15A\", \"#19d3f3\", \"#FF6692\", \"#B6E880\", \"#FF97FF\", \"#FECB52\"], \"font\": {\"color\": \"#2a3f5f\"}, \"geo\": {\"bgcolor\": \"white\", \"lakecolor\": \"white\", \"landcolor\": \"#E5ECF6\", \"showlakes\": true, \"showland\": true, \"subunitcolor\": \"white\"}, \"hoverlabel\": {\"align\": \"left\"}, \"hovermode\": \"closest\", \"mapbox\": {\"style\": \"light\"}, \"paper_bgcolor\": \"white\", \"plot_bgcolor\": \"#E5ECF6\", \"polar\": {\"angularaxis\": {\"gridcolor\": \"white\", \"linecolor\": \"white\", \"ticks\": \"\"}, \"bgcolor\": \"#E5ECF6\", \"radialaxis\": {\"gridcolor\": \"white\", \"linecolor\": \"white\", \"ticks\": \"\"}}, \"scene\": {\"xaxis\": {\"backgroundcolor\": \"#E5ECF6\", \"gridcolor\": \"white\", \"gridwidth\": 2, \"linecolor\": \"white\", \"showbackground\": true, \"ticks\": \"\", \"zerolinecolor\": \"white\"}, \"yaxis\": {\"backgroundcolor\": \"#E5ECF6\", \"gridcolor\": \"white\", \"gridwidth\": 2, \"linecolor\": \"white\", \"showbackground\": true, \"ticks\": \"\", \"zerolinecolor\": \"white\"}, \"zaxis\": {\"backgroundcolor\": \"#E5ECF6\", \"gridcolor\": \"white\", \"gridwidth\": 2, \"linecolor\": \"white\", \"showbackground\": true, \"ticks\": \"\", \"zerolinecolor\": \"white\"}}, \"shapedefaults\": {\"line\": {\"color\": \"#2a3f5f\"}}, \"ternary\": {\"aaxis\": {\"gridcolor\": \"white\", \"linecolor\": \"white\", \"ticks\": \"\"}, \"baxis\": {\"gridcolor\": \"white\", \"linecolor\": \"white\", \"ticks\": \"\"}, \"bgcolor\": \"#E5ECF6\", \"caxis\": {\"gridcolor\": \"white\", \"linecolor\": \"white\", \"ticks\": \"\"}}, \"title\": {\"x\": 0.05}, \"xaxis\": {\"automargin\": true, \"gridcolor\": \"white\", \"linecolor\": \"white\", \"ticks\": \"\", \"title\": {\"standoff\": 15}, \"zerolinecolor\": \"white\", \"zerolinewidth\": 2}, \"yaxis\": {\"automargin\": true, \"gridcolor\": \"white\", \"linecolor\": \"white\", \"ticks\": \"\", \"title\": {\"standoff\": 15}, \"zerolinecolor\": \"white\", \"zerolinewidth\": 2}}}, \"title\": {\"text\": \"\\uad6d\\ub0b4/\\ud574\\uc678\"}, \"xaxis\": {\"anchor\": \"y\", \"domain\": [0.0, 1.0], \"title\": {\"text\": \"provider\"}}, \"yaxis\": {\"anchor\": \"x\", \"domain\": [0.0, 1.0], \"title\": {\"text\": \"count\"}}},\n",
              "                        {\"responsive\": true}\n",
              "                    ).then(function(){\n",
              "                            \n",
              "var gd = document.getElementById('b8e6a5a2-26e8-497b-a30c-3408d345b6f2');\n",
              "var x = new MutationObserver(function (mutations, observer) {{\n",
              "        var display = window.getComputedStyle(gd).display;\n",
              "        if (!display || display === 'none') {{\n",
              "            console.log([gd, 'removed!']);\n",
              "            Plotly.purge(gd);\n",
              "            observer.disconnect();\n",
              "        }}\n",
              "}});\n",
              "\n",
              "// Listen for the removal of the full notebook cells\n",
              "var notebookContainer = gd.closest('#notebook-container');\n",
              "if (notebookContainer) {{\n",
              "    x.observe(notebookContainer, {childList: true});\n",
              "}}\n",
              "\n",
              "// Listen for the clearing of the current output cell\n",
              "var outputEl = gd.closest('.output');\n",
              "if (outputEl) {{\n",
              "    x.observe(outputEl, {childList: true});\n",
              "}}\n",
              "\n",
              "                        })\n",
              "                };\n",
              "                \n",
              "            </script>\n",
              "        </div>\n",
              "</body>\n",
              "</html>"
            ]
          },
          "metadata": {}
        }
      ]
    },
    {
      "cell_type": "markdown",
      "source": [
        "###**각 플랫폼 별 인기 장르**\n",
        "- 플랫폼 별 인기 장르(전체)\n",
        "- 영상매체 기준(애니메이션,다큐멘터리 등)\n",
        "- 장르 기준(판타지,sf등)"
      ],
      "metadata": {
        "id": "aXJfljjQiGGy"
      }
    },
    {
      "cell_type": "code",
      "source": [
        "#genre가 NaN인 항목 제거\n",
        "genre=tv_data\n",
        "print('제거 이전:',len(genre))\n",
        "country = country.dropna(subset = ['genre'], how = 'any', axis=0)\n",
        "print('제거 이후:',len(genre))"
      ],
      "metadata": {
        "colab": {
          "base_uri": "https://localhost:8080/"
        },
        "id": "fJrJKhtCs0zH",
        "outputId": "9b788c29-9675-46ca-aa50-b6b8f5636f7f"
      },
      "execution_count": null,
      "outputs": [
        {
          "output_type": "stream",
          "name": "stdout",
          "text": [
            "제거 이전: 11428\n",
            "제거 이후: 11428\n"
          ]
        }
      ]
    },
    {
      "cell_type": "code",
      "source": [
        "#데이터에 적힌 genre 목록\n",
        "genre_list=[]\n",
        "li=genre['genre'].apply(lambda x: x.split(','))\n",
        "for i in li:\n",
        "    if i not in genre_list:\n",
        "      genre_list+=i\n",
        "genre_list=list(set(genre_list))\n",
        "genre_list.remove('')\n",
        "print(genre_list)"
      ],
      "metadata": {
        "colab": {
          "base_uri": "https://localhost:8080/"
        },
        "id": "-k3Fj59QsZNB",
        "outputId": "eae8fb35-0f32-40f7-8383-0656a7ec6015"
      },
      "execution_count": null,
      "outputs": [
        {
          "output_type": "stream",
          "name": "stdout",
          "text": [
            "['판타지', '미정', '기타', '공연', 'SF', '액션', '음악', '가족', '서부극', '다큐멘터리', '코미디', '전쟁', '스릴러', '예능', '멜로/로맨스', '공포', '애니메이션', '서사', '서스펜스', '뮤지컬', '시사/교양', '미스터리', '드라마', '어드벤처', '범죄']\n"
          ]
        }
      ]
    },
    {
      "cell_type": "code",
      "source": [
        "#시각화 라이브러리 호출\n",
        "import plotly.express as px\n",
        "\n",
        "#신규 데이터프레임\n",
        "df5= pd.DataFrame(columns=['provider','장르','count','percent'])\n",
        "for i in provider_list:\n",
        "  d=genre.loc[genre['provider'].str.contains(i)]\n",
        "  for i2 in genre_list[1:]:\n",
        "    g=len(d[d['genre'].str.contains(i2)])\n",
        "    df5.loc[len(df5)]=[i,i2,g,g*100/len(d)]\n",
        "\n",
        "#시각화 \n",
        "fig = px.bar(df5, x=\"provider\", y=\"count\",hover_data=['percent'], color=\"장르\", title=\"플랫폼 별 인기 장르(전체)\")\n",
        "fig.show()"
      ],
      "metadata": {
        "colab": {
          "base_uri": "https://localhost:8080/",
          "height": 542
        },
        "id": "tBFfL-lpuV76",
        "outputId": "a6e53417-147a-46ff-e36a-147ebe9c2856"
      },
      "execution_count": null,
      "outputs": [
        {
          "output_type": "display_data",
          "data": {
            "text/html": [
              "<html>\n",
              "<head><meta charset=\"utf-8\" /></head>\n",
              "<body>\n",
              "    <div>\n",
              "            <script src=\"https://cdnjs.cloudflare.com/ajax/libs/mathjax/2.7.5/MathJax.js?config=TeX-AMS-MML_SVG\"></script><script type=\"text/javascript\">if (window.MathJax) {MathJax.Hub.Config({SVG: {font: \"STIX-Web\"}});}</script>\n",
              "                <script type=\"text/javascript\">window.PlotlyConfig = {MathJaxConfig: 'local'};</script>\n",
              "        <script src=\"https://cdn.plot.ly/plotly-latest.min.js\"></script>    \n",
              "            <div id=\"d06cbd10-db9e-4e25-9763-f8935450cc03\" class=\"plotly-graph-div\" style=\"height:525px; width:100%;\"></div>\n",
              "            <script type=\"text/javascript\">\n",
              "                \n",
              "                    window.PLOTLYENV=window.PLOTLYENV || {};\n",
              "                    \n",
              "                if (document.getElementById(\"d06cbd10-db9e-4e25-9763-f8935450cc03\")) {\n",
              "                    Plotly.newPlot(\n",
              "                        'd06cbd10-db9e-4e25-9763-f8935450cc03',\n",
              "                        [{\"alignmentgroup\": \"True\", \"customdata\": [[0.0], [0.0], [0.366412213740458], [5.001453911020645], [2.4987869966035903], [12.5], [5.147414209763171], [56.98924731182796], [6.954436450839329], [10.588235294117647], [2.6459143968871595]], \"hoverlabel\": {\"namelength\": 0}, \"hovertemplate\": \"\\uc7a5\\ub974=\\ubbf8\\uc815<br>provider=%{x}<br>count=%{y}<br>percent=%{customdata[0]}\", \"legendgroup\": \"\\uc7a5\\ub974=\\ubbf8\\uc815\", \"marker\": {\"color\": \"#636efa\"}, \"name\": \"\\uc7a5\\ub974=\\ubbf8\\uc815\", \"offsetgroup\": \"\\uc7a5\\ub974=\\ubbf8\\uc815\", \"orientation\": \"v\", \"showlegend\": true, \"textposition\": \"auto\", \"type\": \"bar\", \"x\": [\"\\ub514\\uc988\\ub2c8+\", \"\\ub124\\uc774\\ubc84\\uc2dc\\ub9ac\\uc988\\uc628\", \"\\ub137\\ud50c\\ub9ad\\uc2a4\", \"\\ud2f0\\ube59\", \"\\uc653\\ucc60\", \"AppleTV+\", \"\\uc6e8\\uc774\\ube0c\", \"\\uc544\\ub9c8\\uc874\\ud504\\ub77c\\uc784\\ube44\\ub514\\uc624\", \"seezn\", \"\\ucfe0\\ud321\\ud50c\\ub808\\uc774\", \"\\ub77c\\ud504\\ud154\"], \"xaxis\": \"x\", \"y\": [0, 0, 12, 172, 103, 5, 213, 159, 29, 63, 34], \"yaxis\": \"y\"}, {\"alignmentgroup\": \"True\", \"customdata\": [[0.0], [0.0], [0.030534351145038167], [0.7560337307356789], [0.121300339640951], [0.0], [0.3383276945384244], [0.35842293906810035], [0.0], [0.0], [0.07782101167315175]], \"hoverlabel\": {\"namelength\": 0}, \"hovertemplate\": \"\\uc7a5\\ub974=\\uae30\\ud0c0<br>provider=%{x}<br>count=%{y}<br>percent=%{customdata[0]}\", \"legendgroup\": \"\\uc7a5\\ub974=\\uae30\\ud0c0\", \"marker\": {\"color\": \"#EF553B\"}, \"name\": \"\\uc7a5\\ub974=\\uae30\\ud0c0\", \"offsetgroup\": \"\\uc7a5\\ub974=\\uae30\\ud0c0\", \"orientation\": \"v\", \"showlegend\": true, \"textposition\": \"auto\", \"type\": \"bar\", \"x\": [\"\\ub514\\uc988\\ub2c8+\", \"\\ub124\\uc774\\ubc84\\uc2dc\\ub9ac\\uc988\\uc628\", \"\\ub137\\ud50c\\ub9ad\\uc2a4\", \"\\ud2f0\\ube59\", \"\\uc653\\ucc60\", \"AppleTV+\", \"\\uc6e8\\uc774\\ube0c\", \"\\uc544\\ub9c8\\uc874\\ud504\\ub77c\\uc784\\ube44\\ub514\\uc624\", \"seezn\", \"\\ucfe0\\ud321\\ud50c\\ub808\\uc774\", \"\\ub77c\\ud504\\ud154\"], \"xaxis\": \"x\", \"y\": [0, 0, 1, 26, 5, 0, 14, 1, 0, 0, 1], \"yaxis\": \"y\"}, {\"alignmentgroup\": \"True\", \"customdata\": [[0.1388888888888889], [0.0], [0.0], [0.02907822041291073], [0.048520135856380396], [0.0], [0.0], [0.0], [0.0], [0.0], [0.0]], \"hoverlabel\": {\"namelength\": 0}, \"hovertemplate\": \"\\uc7a5\\ub974=\\uacf5\\uc5f0<br>provider=%{x}<br>count=%{y}<br>percent=%{customdata[0]}\", \"legendgroup\": \"\\uc7a5\\ub974=\\uacf5\\uc5f0\", \"marker\": {\"color\": \"#00cc96\"}, \"name\": \"\\uc7a5\\ub974=\\uacf5\\uc5f0\", \"offsetgroup\": \"\\uc7a5\\ub974=\\uacf5\\uc5f0\", \"orientation\": \"v\", \"showlegend\": true, \"textposition\": \"auto\", \"type\": \"bar\", \"x\": [\"\\ub514\\uc988\\ub2c8+\", \"\\ub124\\uc774\\ubc84\\uc2dc\\ub9ac\\uc988\\uc628\", \"\\ub137\\ud50c\\ub9ad\\uc2a4\", \"\\ud2f0\\ube59\", \"\\uc653\\ucc60\", \"AppleTV+\", \"\\uc6e8\\uc774\\ube0c\", \"\\uc544\\ub9c8\\uc874\\ud504\\ub77c\\uc784\\ube44\\ub514\\uc624\", \"seezn\", \"\\ucfe0\\ud321\\ud50c\\ub808\\uc774\", \"\\ub77c\\ud504\\ud154\"], \"xaxis\": \"x\", \"y\": [1, 0, 0, 1, 2, 0, 0, 0, 0, 0, 0], \"yaxis\": \"y\"}, {\"alignmentgroup\": \"True\", \"customdata\": [[7.5], [0.0], [3.6030534351145036], [0.319860424542018], [1.2615235322658904], [12.5], [1.5466408893185113], [6.093189964157706], [4.556354916067146], [6.554621848739496], [0.5447470817120622]], \"hoverlabel\": {\"namelength\": 0}, \"hovertemplate\": \"\\uc7a5\\ub974=SF<br>provider=%{x}<br>count=%{y}<br>percent=%{customdata[0]}\", \"legendgroup\": \"\\uc7a5\\ub974=SF\", \"marker\": {\"color\": \"#ab63fa\"}, \"name\": \"\\uc7a5\\ub974=SF\", \"offsetgroup\": \"\\uc7a5\\ub974=SF\", \"orientation\": \"v\", \"showlegend\": true, \"textposition\": \"auto\", \"type\": \"bar\", \"x\": [\"\\ub514\\uc988\\ub2c8+\", \"\\ub124\\uc774\\ubc84\\uc2dc\\ub9ac\\uc988\\uc628\", \"\\ub137\\ud50c\\ub9ad\\uc2a4\", \"\\ud2f0\\ube59\", \"\\uc653\\ucc60\", \"AppleTV+\", \"\\uc6e8\\uc774\\ube0c\", \"\\uc544\\ub9c8\\uc874\\ud504\\ub77c\\uc784\\ube44\\ub514\\uc624\", \"seezn\", \"\\ucfe0\\ud321\\ud50c\\ub808\\uc774\", \"\\ub77c\\ud504\\ud154\"], \"xaxis\": \"x\", \"y\": [54, 0, 118, 11, 52, 5, 64, 17, 19, 39, 7], \"yaxis\": \"y\"}, {\"alignmentgroup\": \"True\", \"customdata\": [[16.944444444444443], [0.0], [10.442748091603054], [2.3844140738586797], [4.2212518195050945], [7.5], [3.9149347510874817], [11.11111111111111], [2.3980815347721824], [6.890756302521009], [2.3346303501945527]], \"hoverlabel\": {\"namelength\": 0}, \"hovertemplate\": \"\\uc7a5\\ub974=\\uc561\\uc158<br>provider=%{x}<br>count=%{y}<br>percent=%{customdata[0]}\", \"legendgroup\": \"\\uc7a5\\ub974=\\uc561\\uc158\", \"marker\": {\"color\": \"#FFA15A\"}, \"name\": \"\\uc7a5\\ub974=\\uc561\\uc158\", \"offsetgroup\": \"\\uc7a5\\ub974=\\uc561\\uc158\", \"orientation\": \"v\", \"showlegend\": true, \"textposition\": \"auto\", \"type\": \"bar\", \"x\": [\"\\ub514\\uc988\\ub2c8+\", \"\\ub124\\uc774\\ubc84\\uc2dc\\ub9ac\\uc988\\uc628\", \"\\ub137\\ud50c\\ub9ad\\uc2a4\", \"\\ud2f0\\ube59\", \"\\uc653\\ucc60\", \"AppleTV+\", \"\\uc6e8\\uc774\\ube0c\", \"\\uc544\\ub9c8\\uc874\\ud504\\ub77c\\uc784\\ube44\\ub514\\uc624\", \"seezn\", \"\\ucfe0\\ud321\\ud50c\\ub808\\uc774\", \"\\ub77c\\ud504\\ud154\"], \"xaxis\": \"x\", \"y\": [122, 0, 342, 82, 174, 3, 162, 31, 10, 41, 30], \"yaxis\": \"y\"}, {\"alignmentgroup\": \"True\", \"customdata\": [[1.3888888888888888], [0.0], [0.42748091603053434], [0.02907822041291073], [0.38816108685104317], [2.5], [0.04833252779120348], [1.4336917562724014], [0.0], [0.0], [0.07782101167315175]], \"hoverlabel\": {\"namelength\": 0}, \"hovertemplate\": \"\\uc7a5\\ub974=\\uc74c\\uc545<br>provider=%{x}<br>count=%{y}<br>percent=%{customdata[0]}\", \"legendgroup\": \"\\uc7a5\\ub974=\\uc74c\\uc545\", \"marker\": {\"color\": \"#19d3f3\"}, \"name\": \"\\uc7a5\\ub974=\\uc74c\\uc545\", \"offsetgroup\": \"\\uc7a5\\ub974=\\uc74c\\uc545\", \"orientation\": \"v\", \"showlegend\": true, \"textposition\": \"auto\", \"type\": \"bar\", \"x\": [\"\\ub514\\uc988\\ub2c8+\", \"\\ub124\\uc774\\ubc84\\uc2dc\\ub9ac\\uc988\\uc628\", \"\\ub137\\ud50c\\ub9ad\\uc2a4\", \"\\ud2f0\\ube59\", \"\\uc653\\ucc60\", \"AppleTV+\", \"\\uc6e8\\uc774\\ube0c\", \"\\uc544\\ub9c8\\uc874\\ud504\\ub77c\\uc784\\ube44\\ub514\\uc624\", \"seezn\", \"\\ucfe0\\ud321\\ud50c\\ub808\\uc774\", \"\\ub77c\\ud504\\ud154\"], \"xaxis\": \"x\", \"y\": [10, 0, 14, 1, 16, 1, 2, 4, 0, 0, 1], \"yaxis\": \"y\"}, {\"alignmentgroup\": \"True\", \"customdata\": [[6.388888888888889], [0.0], [2.931297709923664], [0.23262576330328583], [0.38816108685104317], [0.0], [0.55582406959884], [0.0], [0.7194244604316546], [1.0084033613445378], [0.07782101167315175]], \"hoverlabel\": {\"namelength\": 0}, \"hovertemplate\": \"\\uc7a5\\ub974=\\uac00\\uc871<br>provider=%{x}<br>count=%{y}<br>percent=%{customdata[0]}\", \"legendgroup\": \"\\uc7a5\\ub974=\\uac00\\uc871\", \"marker\": {\"color\": \"#FF6692\"}, \"name\": \"\\uc7a5\\ub974=\\uac00\\uc871\", \"offsetgroup\": \"\\uc7a5\\ub974=\\uac00\\uc871\", \"orientation\": \"v\", \"showlegend\": true, \"textposition\": \"auto\", \"type\": \"bar\", \"x\": [\"\\ub514\\uc988\\ub2c8+\", \"\\ub124\\uc774\\ubc84\\uc2dc\\ub9ac\\uc988\\uc628\", \"\\ub137\\ud50c\\ub9ad\\uc2a4\", \"\\ud2f0\\ube59\", \"\\uc653\\ucc60\", \"AppleTV+\", \"\\uc6e8\\uc774\\ube0c\", \"\\uc544\\ub9c8\\uc874\\ud504\\ub77c\\uc784\\ube44\\ub514\\uc624\", \"seezn\", \"\\ucfe0\\ud321\\ud50c\\ub808\\uc774\", \"\\ub77c\\ud504\\ud154\"], \"xaxis\": \"x\", \"y\": [46, 0, 96, 8, 16, 0, 23, 0, 3, 6, 1], \"yaxis\": \"y\"}, {\"alignmentgroup\": \"True\", \"customdata\": [[0.0], [0.0], [0.030534351145038167], [0.0], [0.024260067928190198], [0.0], [0.0], [0.0], [0.0], [0.0], [0.0]], \"hoverlabel\": {\"namelength\": 0}, \"hovertemplate\": \"\\uc7a5\\ub974=\\uc11c\\ubd80\\uadf9<br>provider=%{x}<br>count=%{y}<br>percent=%{customdata[0]}\", \"legendgroup\": \"\\uc7a5\\ub974=\\uc11c\\ubd80\\uadf9\", \"marker\": {\"color\": \"#B6E880\"}, \"name\": \"\\uc7a5\\ub974=\\uc11c\\ubd80\\uadf9\", \"offsetgroup\": \"\\uc7a5\\ub974=\\uc11c\\ubd80\\uadf9\", \"orientation\": \"v\", \"showlegend\": true, \"textposition\": \"auto\", \"type\": \"bar\", \"x\": [\"\\ub514\\uc988\\ub2c8+\", \"\\ub124\\uc774\\ubc84\\uc2dc\\ub9ac\\uc988\\uc628\", \"\\ub137\\ud50c\\ub9ad\\uc2a4\", \"\\ud2f0\\ube59\", \"\\uc653\\ucc60\", \"AppleTV+\", \"\\uc6e8\\uc774\\ube0c\", \"\\uc544\\ub9c8\\uc874\\ud504\\ub77c\\uc784\\ube44\\ub514\\uc624\", \"seezn\", \"\\ucfe0\\ud321\\ud50c\\ub808\\uc774\", \"\\ub77c\\ud504\\ud154\"], \"xaxis\": \"x\", \"y\": [0, 0, 1, 0, 1, 0, 0, 0, 0, 0, 0], \"yaxis\": \"y\"}, {\"alignmentgroup\": \"True\", \"customdata\": [[13.61111111111111], [0.0], [9.221374045801527], [1.3666763594068043], [10.359049005337216], [2.5], [0.6766553890768487], [6.093189964157706], [0.23980815347721823], [9.747899159663865], [0.0]], \"hoverlabel\": {\"namelength\": 0}, \"hovertemplate\": \"\\uc7a5\\ub974=\\ub2e4\\ud050\\uba58\\ud130\\ub9ac<br>provider=%{x}<br>count=%{y}<br>percent=%{customdata[0]}\", \"legendgroup\": \"\\uc7a5\\ub974=\\ub2e4\\ud050\\uba58\\ud130\\ub9ac\", \"marker\": {\"color\": \"#FF97FF\"}, \"name\": \"\\uc7a5\\ub974=\\ub2e4\\ud050\\uba58\\ud130\\ub9ac\", \"offsetgroup\": \"\\uc7a5\\ub974=\\ub2e4\\ud050\\uba58\\ud130\\ub9ac\", \"orientation\": \"v\", \"showlegend\": true, \"textposition\": \"auto\", \"type\": \"bar\", \"x\": [\"\\ub514\\uc988\\ub2c8+\", \"\\ub124\\uc774\\ubc84\\uc2dc\\ub9ac\\uc988\\uc628\", \"\\ub137\\ud50c\\ub9ad\\uc2a4\", \"\\ud2f0\\ube59\", \"\\uc653\\ucc60\", \"AppleTV+\", \"\\uc6e8\\uc774\\ube0c\", \"\\uc544\\ub9c8\\uc874\\ud504\\ub77c\\uc784\\ube44\\ub514\\uc624\", \"seezn\", \"\\ucfe0\\ud321\\ud50c\\ub808\\uc774\", \"\\ub77c\\ud504\\ud154\"], \"xaxis\": \"x\", \"y\": [98, 0, 302, 47, 427, 1, 28, 17, 1, 58, 0], \"yaxis\": \"y\"}, {\"alignmentgroup\": \"True\", \"customdata\": [[29.02777777777778], [0.0], [25.557251908396946], [3.1695260250072694], [6.525958272683163], [40.0], [5.582406959884002], [13.620071684587813], [5.275779376498801], [7.73109243697479], [0.622568093385214]], \"hoverlabel\": {\"namelength\": 0}, \"hovertemplate\": \"\\uc7a5\\ub974=\\ucf54\\ubbf8\\ub514<br>provider=%{x}<br>count=%{y}<br>percent=%{customdata[0]}\", \"legendgroup\": \"\\uc7a5\\ub974=\\ucf54\\ubbf8\\ub514\", \"marker\": {\"color\": \"#FECB52\"}, \"name\": \"\\uc7a5\\ub974=\\ucf54\\ubbf8\\ub514\", \"offsetgroup\": \"\\uc7a5\\ub974=\\ucf54\\ubbf8\\ub514\", \"orientation\": \"v\", \"showlegend\": true, \"textposition\": \"auto\", \"type\": \"bar\", \"x\": [\"\\ub514\\uc988\\ub2c8+\", \"\\ub124\\uc774\\ubc84\\uc2dc\\ub9ac\\uc988\\uc628\", \"\\ub137\\ud50c\\ub9ad\\uc2a4\", \"\\ud2f0\\ube59\", \"\\uc653\\ucc60\", \"AppleTV+\", \"\\uc6e8\\uc774\\ube0c\", \"\\uc544\\ub9c8\\uc874\\ud504\\ub77c\\uc784\\ube44\\ub514\\uc624\", \"seezn\", \"\\ucfe0\\ud321\\ud50c\\ub808\\uc774\", \"\\ub77c\\ud504\\ud154\"], \"xaxis\": \"x\", \"y\": [209, 0, 837, 109, 269, 16, 231, 38, 22, 46, 8], \"yaxis\": \"y\"}, {\"alignmentgroup\": \"True\", \"customdata\": [[0.0], [0.0], [0.183206106870229], [0.23262576330328583], [0.41242115477923336], [0.0], [0.55582406959884], [0.0], [0.9592326139088729], [0.6722689075630253], [0.311284046692607]], \"hoverlabel\": {\"namelength\": 0}, \"hovertemplate\": \"\\uc7a5\\ub974=\\uc804\\uc7c1<br>provider=%{x}<br>count=%{y}<br>percent=%{customdata[0]}\", \"legendgroup\": \"\\uc7a5\\ub974=\\uc804\\uc7c1\", \"marker\": {\"color\": \"#636efa\"}, \"name\": \"\\uc7a5\\ub974=\\uc804\\uc7c1\", \"offsetgroup\": \"\\uc7a5\\ub974=\\uc804\\uc7c1\", \"orientation\": \"v\", \"showlegend\": true, \"textposition\": \"auto\", \"type\": \"bar\", \"x\": [\"\\ub514\\uc988\\ub2c8+\", \"\\ub124\\uc774\\ubc84\\uc2dc\\ub9ac\\uc988\\uc628\", \"\\ub137\\ud50c\\ub9ad\\uc2a4\", \"\\ud2f0\\ube59\", \"\\uc653\\ucc60\", \"AppleTV+\", \"\\uc6e8\\uc774\\ube0c\", \"\\uc544\\ub9c8\\uc874\\ud504\\ub77c\\uc784\\ube44\\ub514\\uc624\", \"seezn\", \"\\ucfe0\\ud321\\ud50c\\ub808\\uc774\", \"\\ub77c\\ud504\\ud154\"], \"xaxis\": \"x\", \"y\": [0, 0, 6, 8, 17, 0, 23, 0, 4, 4, 4], \"yaxis\": \"y\"}, {\"alignmentgroup\": \"True\", \"customdata\": [[6.944444444444445], [0.0], [4.793893129770993], [1.0177377144518756], [1.5526443474041727], [12.5], [1.9574673755437408], [10.75268817204301], [1.6786570743405276], [2.689075630252101], [0.1556420233463035]], \"hoverlabel\": {\"namelength\": 0}, \"hovertemplate\": \"\\uc7a5\\ub974=\\uc2a4\\ub9b4\\ub7ec<br>provider=%{x}<br>count=%{y}<br>percent=%{customdata[0]}\", \"legendgroup\": \"\\uc7a5\\ub974=\\uc2a4\\ub9b4\\ub7ec\", \"marker\": {\"color\": \"#EF553B\"}, \"name\": \"\\uc7a5\\ub974=\\uc2a4\\ub9b4\\ub7ec\", \"offsetgroup\": \"\\uc7a5\\ub974=\\uc2a4\\ub9b4\\ub7ec\", \"orientation\": \"v\", \"showlegend\": true, \"textposition\": \"auto\", \"type\": \"bar\", \"x\": [\"\\ub514\\uc988\\ub2c8+\", \"\\ub124\\uc774\\ubc84\\uc2dc\\ub9ac\\uc988\\uc628\", \"\\ub137\\ud50c\\ub9ad\\uc2a4\", \"\\ud2f0\\ube59\", \"\\uc653\\ucc60\", \"AppleTV+\", \"\\uc6e8\\uc774\\ube0c\", \"\\uc544\\ub9c8\\uc874\\ud504\\ub77c\\uc784\\ube44\\ub514\\uc624\", \"seezn\", \"\\ucfe0\\ud321\\ud50c\\ub808\\uc774\", \"\\ub77c\\ud504\\ud154\"], \"xaxis\": \"x\", \"y\": [50, 0, 157, 35, 64, 5, 81, 30, 7, 16, 2], \"yaxis\": \"y\"}, {\"alignmentgroup\": \"True\", \"customdata\": [[3.4722222222222223], [0.0], [9.801526717557252], [35.41727246292527], [15.162542455118874], [0.0], [14.838086031899469], [1.4336917562724014], [25.65947242206235], [8.067226890756302], [0.0]], \"hoverlabel\": {\"namelength\": 0}, \"hovertemplate\": \"\\uc7a5\\ub974=\\uc608\\ub2a5<br>provider=%{x}<br>count=%{y}<br>percent=%{customdata[0]}\", \"legendgroup\": \"\\uc7a5\\ub974=\\uc608\\ub2a5\", \"marker\": {\"color\": \"#00cc96\"}, \"name\": \"\\uc7a5\\ub974=\\uc608\\ub2a5\", \"offsetgroup\": \"\\uc7a5\\ub974=\\uc608\\ub2a5\", \"orientation\": \"v\", \"showlegend\": true, \"textposition\": \"auto\", \"type\": \"bar\", \"x\": [\"\\ub514\\uc988\\ub2c8+\", \"\\ub124\\uc774\\ubc84\\uc2dc\\ub9ac\\uc988\\uc628\", \"\\ub137\\ud50c\\ub9ad\\uc2a4\", \"\\ud2f0\\ube59\", \"\\uc653\\ucc60\", \"AppleTV+\", \"\\uc6e8\\uc774\\ube0c\", \"\\uc544\\ub9c8\\uc874\\ud504\\ub77c\\uc784\\ube44\\ub514\\uc624\", \"seezn\", \"\\ucfe0\\ud321\\ud50c\\ub808\\uc774\", \"\\ub77c\\ud504\\ud154\"], \"xaxis\": \"x\", \"y\": [25, 0, 321, 1218, 625, 0, 614, 4, 107, 48, 0], \"yaxis\": \"y\"}, {\"alignmentgroup\": \"True\", \"customdata\": [[7.361111111111111], [0.0], [5.6183206106870225], [8.37452747891829], [9.606986899563319], [2.5], [10.198163363943934], [2.5089605734767026], [13.66906474820144], [8.907563025210084], [0.5447470817120622]], \"hoverlabel\": {\"namelength\": 0}, \"hovertemplate\": \"\\uc7a5\\ub974=\\uba5c\\ub85c/\\ub85c\\ub9e8\\uc2a4<br>provider=%{x}<br>count=%{y}<br>percent=%{customdata[0]}\", \"legendgroup\": \"\\uc7a5\\ub974=\\uba5c\\ub85c/\\ub85c\\ub9e8\\uc2a4\", \"marker\": {\"color\": \"#ab63fa\"}, \"name\": \"\\uc7a5\\ub974=\\uba5c\\ub85c/\\ub85c\\ub9e8\\uc2a4\", \"offsetgroup\": \"\\uc7a5\\ub974=\\uba5c\\ub85c/\\ub85c\\ub9e8\\uc2a4\", \"orientation\": \"v\", \"showlegend\": true, \"textposition\": \"auto\", \"type\": \"bar\", \"x\": [\"\\ub514\\uc988\\ub2c8+\", \"\\ub124\\uc774\\ubc84\\uc2dc\\ub9ac\\uc988\\uc628\", \"\\ub137\\ud50c\\ub9ad\\uc2a4\", \"\\ud2f0\\ube59\", \"\\uc653\\ucc60\", \"AppleTV+\", \"\\uc6e8\\uc774\\ube0c\", \"\\uc544\\ub9c8\\uc874\\ud504\\ub77c\\uc784\\ube44\\ub514\\uc624\", \"seezn\", \"\\ucfe0\\ud321\\ud50c\\ub808\\uc774\", \"\\ub77c\\ud504\\ud154\"], \"xaxis\": \"x\", \"y\": [53, 0, 184, 288, 396, 1, 422, 7, 57, 53, 7], \"yaxis\": \"y\"}, {\"alignmentgroup\": \"True\", \"customdata\": [[3.1944444444444446], [0.0], [2.717557251908397], [0.08723466123873219], [0.6550218340611353], [10.0], [0.7974867085548574], [7.526881720430108], [0.23980815347721823], [1.5126050420168067], [0.07782101167315175]], \"hoverlabel\": {\"namelength\": 0}, \"hovertemplate\": \"\\uc7a5\\ub974=\\uacf5\\ud3ec<br>provider=%{x}<br>count=%{y}<br>percent=%{customdata[0]}\", \"legendgroup\": \"\\uc7a5\\ub974=\\uacf5\\ud3ec\", \"marker\": {\"color\": \"#FFA15A\"}, \"name\": \"\\uc7a5\\ub974=\\uacf5\\ud3ec\", \"offsetgroup\": \"\\uc7a5\\ub974=\\uacf5\\ud3ec\", \"orientation\": \"v\", \"showlegend\": true, \"textposition\": \"auto\", \"type\": \"bar\", \"x\": [\"\\ub514\\uc988\\ub2c8+\", \"\\ub124\\uc774\\ubc84\\uc2dc\\ub9ac\\uc988\\uc628\", \"\\ub137\\ud50c\\ub9ad\\uc2a4\", \"\\ud2f0\\ube59\", \"\\uc653\\ucc60\", \"AppleTV+\", \"\\uc6e8\\uc774\\ube0c\", \"\\uc544\\ub9c8\\uc874\\ud504\\ub77c\\uc784\\ube44\\ub514\\uc624\", \"seezn\", \"\\ucfe0\\ud321\\ud50c\\ub808\\uc774\", \"\\ub77c\\ud504\\ud154\"], \"xaxis\": \"x\", \"y\": [23, 0, 89, 3, 27, 4, 33, 21, 1, 9, 1], \"yaxis\": \"y\"}, {\"alignmentgroup\": \"True\", \"customdata\": [[28.61111111111111], [0.0], [22.870229007633586], [22.448386158767082], [26.758854924793788], [7.5], [17.76220396326728], [13.978494623655914], [1.6786570743405276], [26.218487394957982], [99.22178988326849]], \"hoverlabel\": {\"namelength\": 0}, \"hovertemplate\": \"\\uc7a5\\ub974=\\uc560\\ub2c8\\uba54\\uc774\\uc158<br>provider=%{x}<br>count=%{y}<br>percent=%{customdata[0]}\", \"legendgroup\": \"\\uc7a5\\ub974=\\uc560\\ub2c8\\uba54\\uc774\\uc158\", \"marker\": {\"color\": \"#19d3f3\"}, \"name\": \"\\uc7a5\\ub974=\\uc560\\ub2c8\\uba54\\uc774\\uc158\", \"offsetgroup\": \"\\uc7a5\\ub974=\\uc560\\ub2c8\\uba54\\uc774\\uc158\", \"orientation\": \"v\", \"showlegend\": true, \"textposition\": \"auto\", \"type\": \"bar\", \"x\": [\"\\ub514\\uc988\\ub2c8+\", \"\\ub124\\uc774\\ubc84\\uc2dc\\ub9ac\\uc988\\uc628\", \"\\ub137\\ud50c\\ub9ad\\uc2a4\", \"\\ud2f0\\ube59\", \"\\uc653\\ucc60\", \"AppleTV+\", \"\\uc6e8\\uc774\\ube0c\", \"\\uc544\\ub9c8\\uc874\\ud504\\ub77c\\uc784\\ube44\\ub514\\uc624\", \"seezn\", \"\\ucfe0\\ud321\\ud50c\\ub808\\uc774\", \"\\ub77c\\ud504\\ud154\"], \"xaxis\": \"x\", \"y\": [206, 0, 749, 772, 1103, 3, 735, 39, 7, 156, 1275], \"yaxis\": \"y\"}, {\"alignmentgroup\": \"True\", \"customdata\": [[0.0], [0.0], [0.0916030534351145], [0.37801686536783946], [0.38816108685104317], [0.0], [0.43499275012083133], [0.0], [0.23980815347721823], [0.16806722689075632], [0.0]], \"hoverlabel\": {\"namelength\": 0}, \"hovertemplate\": \"\\uc7a5\\ub974=\\uc11c\\uc0ac<br>provider=%{x}<br>count=%{y}<br>percent=%{customdata[0]}\", \"legendgroup\": \"\\uc7a5\\ub974=\\uc11c\\uc0ac\", \"marker\": {\"color\": \"#FF6692\"}, \"name\": \"\\uc7a5\\ub974=\\uc11c\\uc0ac\", \"offsetgroup\": \"\\uc7a5\\ub974=\\uc11c\\uc0ac\", \"orientation\": \"v\", \"showlegend\": true, \"textposition\": \"auto\", \"type\": \"bar\", \"x\": [\"\\ub514\\uc988\\ub2c8+\", \"\\ub124\\uc774\\ubc84\\uc2dc\\ub9ac\\uc988\\uc628\", \"\\ub137\\ud50c\\ub9ad\\uc2a4\", \"\\ud2f0\\ube59\", \"\\uc653\\ucc60\", \"AppleTV+\", \"\\uc6e8\\uc774\\ube0c\", \"\\uc544\\ub9c8\\uc874\\ud504\\ub77c\\uc784\\ube44\\ub514\\uc624\", \"seezn\", \"\\ucfe0\\ud321\\ud50c\\ub808\\uc774\", \"\\ub77c\\ud504\\ud154\"], \"xaxis\": \"x\", \"y\": [0, 0, 3, 13, 16, 0, 18, 0, 1, 1, 0], \"yaxis\": \"y\"}, {\"alignmentgroup\": \"True\", \"customdata\": [[0.0], [0.0], [0.0], [0.05815644082582146], [0.048520135856380396], [0.0], [0.04833252779120348], [1.075268817204301], [0.23980815347721823], [0.33613445378151263], [0.0]], \"hoverlabel\": {\"namelength\": 0}, \"hovertemplate\": \"\\uc7a5\\ub974=\\uc11c\\uc2a4\\ud39c\\uc2a4<br>provider=%{x}<br>count=%{y}<br>percent=%{customdata[0]}\", \"legendgroup\": \"\\uc7a5\\ub974=\\uc11c\\uc2a4\\ud39c\\uc2a4\", \"marker\": {\"color\": \"#B6E880\"}, \"name\": \"\\uc7a5\\ub974=\\uc11c\\uc2a4\\ud39c\\uc2a4\", \"offsetgroup\": \"\\uc7a5\\ub974=\\uc11c\\uc2a4\\ud39c\\uc2a4\", \"orientation\": \"v\", \"showlegend\": true, \"textposition\": \"auto\", \"type\": \"bar\", \"x\": [\"\\ub514\\uc988\\ub2c8+\", \"\\ub124\\uc774\\ubc84\\uc2dc\\ub9ac\\uc988\\uc628\", \"\\ub137\\ud50c\\ub9ad\\uc2a4\", \"\\ud2f0\\ube59\", \"\\uc653\\ucc60\", \"AppleTV+\", \"\\uc6e8\\uc774\\ube0c\", \"\\uc544\\ub9c8\\uc874\\ud504\\ub77c\\uc784\\ube44\\ub514\\uc624\", \"seezn\", \"\\ucfe0\\ud321\\ud50c\\ub808\\uc774\", \"\\ub77c\\ud504\\ud154\"], \"xaxis\": \"x\", \"y\": [0, 0, 0, 2, 2, 0, 2, 3, 1, 2, 0], \"yaxis\": \"y\"}, {\"alignmentgroup\": \"True\", \"customdata\": [[0.2777777777777778], [0.0], [0.3053435114503817], [0.0], [0.0], [0.0], [0.0], [0.0], [0.0], [0.16806722689075632], [0.0]], \"hoverlabel\": {\"namelength\": 0}, \"hovertemplate\": \"\\uc7a5\\ub974=\\ubba4\\uc9c0\\uceec<br>provider=%{x}<br>count=%{y}<br>percent=%{customdata[0]}\", \"legendgroup\": \"\\uc7a5\\ub974=\\ubba4\\uc9c0\\uceec\", \"marker\": {\"color\": \"#FF97FF\"}, \"name\": \"\\uc7a5\\ub974=\\ubba4\\uc9c0\\uceec\", \"offsetgroup\": \"\\uc7a5\\ub974=\\ubba4\\uc9c0\\uceec\", \"orientation\": \"v\", \"showlegend\": true, \"textposition\": \"auto\", \"type\": \"bar\", \"x\": [\"\\ub514\\uc988\\ub2c8+\", \"\\ub124\\uc774\\ubc84\\uc2dc\\ub9ac\\uc988\\uc628\", \"\\ub137\\ud50c\\ub9ad\\uc2a4\", \"\\ud2f0\\ube59\", \"\\uc653\\ucc60\", \"AppleTV+\", \"\\uc6e8\\uc774\\ube0c\", \"\\uc544\\ub9c8\\uc874\\ud504\\ub77c\\uc784\\ube44\\ub514\\uc624\", \"seezn\", \"\\ucfe0\\ud321\\ud50c\\ub808\\uc774\", \"\\ub77c\\ud504\\ud154\"], \"xaxis\": \"x\", \"y\": [2, 0, 10, 0, 0, 0, 0, 0, 0, 1, 0], \"yaxis\": \"y\"}, {\"alignmentgroup\": \"True\", \"customdata\": [[0.0], [0.0], [0.0916030534351145], [2.936900261703984], [2.4987869966035903], [0.0], [0.6041565973900435], [0.0], [2.6378896882494005], [1.5126050420168067], [0.0]], \"hoverlabel\": {\"namelength\": 0}, \"hovertemplate\": \"\\uc7a5\\ub974=\\uc2dc\\uc0ac/\\uad50\\uc591<br>provider=%{x}<br>count=%{y}<br>percent=%{customdata[0]}\", \"legendgroup\": \"\\uc7a5\\ub974=\\uc2dc\\uc0ac/\\uad50\\uc591\", \"marker\": {\"color\": \"#FECB52\"}, \"name\": \"\\uc7a5\\ub974=\\uc2dc\\uc0ac/\\uad50\\uc591\", \"offsetgroup\": \"\\uc7a5\\ub974=\\uc2dc\\uc0ac/\\uad50\\uc591\", \"orientation\": \"v\", \"showlegend\": true, \"textposition\": \"auto\", \"type\": \"bar\", \"x\": [\"\\ub514\\uc988\\ub2c8+\", \"\\ub124\\uc774\\ubc84\\uc2dc\\ub9ac\\uc988\\uc628\", \"\\ub137\\ud50c\\ub9ad\\uc2a4\", \"\\ud2f0\\ube59\", \"\\uc653\\ucc60\", \"AppleTV+\", \"\\uc6e8\\uc774\\ube0c\", \"\\uc544\\ub9c8\\uc874\\ud504\\ub77c\\uc784\\ube44\\ub514\\uc624\", \"seezn\", \"\\ucfe0\\ud321\\ud50c\\ub808\\uc774\", \"\\ub77c\\ud504\\ud154\"], \"xaxis\": \"x\", \"y\": [0, 0, 3, 101, 103, 0, 25, 0, 11, 9, 0], \"yaxis\": \"y\"}, {\"alignmentgroup\": \"True\", \"customdata\": [[8.194444444444445], [0.0], [3.6030534351145036], [1.6574585635359116], [3.3721494420184377], [15.0], [4.712421459642339], [10.75268817204301], [2.3980815347721824], [5.378151260504202], [0.07782101167315175]], \"hoverlabel\": {\"namelength\": 0}, \"hovertemplate\": \"\\uc7a5\\ub974=\\ubbf8\\uc2a4\\ud130\\ub9ac<br>provider=%{x}<br>count=%{y}<br>percent=%{customdata[0]}\", \"legendgroup\": \"\\uc7a5\\ub974=\\ubbf8\\uc2a4\\ud130\\ub9ac\", \"marker\": {\"color\": \"#636efa\"}, \"name\": \"\\uc7a5\\ub974=\\ubbf8\\uc2a4\\ud130\\ub9ac\", \"offsetgroup\": \"\\uc7a5\\ub974=\\ubbf8\\uc2a4\\ud130\\ub9ac\", \"orientation\": \"v\", \"showlegend\": true, \"textposition\": \"auto\", \"type\": \"bar\", \"x\": [\"\\ub514\\uc988\\ub2c8+\", \"\\ub124\\uc774\\ubc84\\uc2dc\\ub9ac\\uc988\\uc628\", \"\\ub137\\ud50c\\ub9ad\\uc2a4\", \"\\ud2f0\\ube59\", \"\\uc653\\ucc60\", \"AppleTV+\", \"\\uc6e8\\uc774\\ube0c\", \"\\uc544\\ub9c8\\uc874\\ud504\\ub77c\\uc784\\ube44\\ub514\\uc624\", \"seezn\", \"\\ucfe0\\ud321\\ud50c\\ub808\\uc774\", \"\\ub77c\\ud504\\ud154\"], \"xaxis\": \"x\", \"y\": [59, 0, 118, 57, 139, 6, 195, 30, 10, 32, 1], \"yaxis\": \"y\"}, {\"alignmentgroup\": \"True\", \"customdata\": [[42.361111111111114], [100.0], [39.87786259541985], [36.26054085489968], [41.38767588549248], [82.5], [62.5181246979217], [65.59139784946237], [64.26858513189448], [49.075630252100844], [1.4007782101167314]], \"hoverlabel\": {\"namelength\": 0}, \"hovertemplate\": \"\\uc7a5\\ub974=\\ub4dc\\ub77c\\ub9c8<br>provider=%{x}<br>count=%{y}<br>percent=%{customdata[0]}\", \"legendgroup\": \"\\uc7a5\\ub974=\\ub4dc\\ub77c\\ub9c8\", \"marker\": {\"color\": \"#EF553B\"}, \"name\": \"\\uc7a5\\ub974=\\ub4dc\\ub77c\\ub9c8\", \"offsetgroup\": \"\\uc7a5\\ub974=\\ub4dc\\ub77c\\ub9c8\", \"orientation\": \"v\", \"showlegend\": true, \"textposition\": \"auto\", \"type\": \"bar\", \"x\": [\"\\ub514\\uc988\\ub2c8+\", \"\\ub124\\uc774\\ubc84\\uc2dc\\ub9ac\\uc988\\uc628\", \"\\ub137\\ud50c\\ub9ad\\uc2a4\", \"\\ud2f0\\ube59\", \"\\uc653\\ucc60\", \"AppleTV+\", \"\\uc6e8\\uc774\\ube0c\", \"\\uc544\\ub9c8\\uc874\\ud504\\ub77c\\uc784\\ube44\\ub514\\uc624\", \"seezn\", \"\\ucfe0\\ud321\\ud50c\\ub808\\uc774\", \"\\ub77c\\ud504\\ud154\"], \"xaxis\": \"x\", \"y\": [305, 4, 1306, 1247, 1706, 33, 2587, 183, 268, 292, 18], \"yaxis\": \"y\"}, {\"alignmentgroup\": \"True\", \"customdata\": [[9.86111111111111], [0.0], [6.99236641221374], [0.7269555103227683], [1.6739446870451238], [5.0], [1.401643305944901], [5.734767025089606], [0.7194244604316546], [3.865546218487395], [0.622568093385214]], \"hoverlabel\": {\"namelength\": 0}, \"hovertemplate\": \"\\uc7a5\\ub974=\\uc5b4\\ub4dc\\ubca4\\ucc98<br>provider=%{x}<br>count=%{y}<br>percent=%{customdata[0]}\", \"legendgroup\": \"\\uc7a5\\ub974=\\uc5b4\\ub4dc\\ubca4\\ucc98\", \"marker\": {\"color\": \"#00cc96\"}, \"name\": \"\\uc7a5\\ub974=\\uc5b4\\ub4dc\\ubca4\\ucc98\", \"offsetgroup\": \"\\uc7a5\\ub974=\\uc5b4\\ub4dc\\ubca4\\ucc98\", \"orientation\": \"v\", \"showlegend\": true, \"textposition\": \"auto\", \"type\": \"bar\", \"x\": [\"\\ub514\\uc988\\ub2c8+\", \"\\ub124\\uc774\\ubc84\\uc2dc\\ub9ac\\uc988\\uc628\", \"\\ub137\\ud50c\\ub9ad\\uc2a4\", \"\\ud2f0\\ube59\", \"\\uc653\\ucc60\", \"AppleTV+\", \"\\uc6e8\\uc774\\ube0c\", \"\\uc544\\ub9c8\\uc874\\ud504\\ub77c\\uc784\\ube44\\ub514\\uc624\", \"seezn\", \"\\ucfe0\\ud321\\ud50c\\ub808\\uc774\", \"\\ub77c\\ud504\\ud154\"], \"xaxis\": \"x\", \"y\": [71, 0, 229, 25, 69, 2, 58, 16, 3, 23, 8], \"yaxis\": \"y\"}, {\"alignmentgroup\": \"True\", \"customdata\": [[11.38888888888889], [0.0], [11.297709923664122], [2.2099447513812156], [4.172731683648714], [10.0], [5.074915418076365], [16.487455197132615], [2.6378896882494005], [8.571428571428571], [0.07782101167315175]], \"hoverlabel\": {\"namelength\": 0}, \"hovertemplate\": \"\\uc7a5\\ub974=\\ubc94\\uc8c4<br>provider=%{x}<br>count=%{y}<br>percent=%{customdata[0]}\", \"legendgroup\": \"\\uc7a5\\ub974=\\ubc94\\uc8c4\", \"marker\": {\"color\": \"#ab63fa\"}, \"name\": \"\\uc7a5\\ub974=\\ubc94\\uc8c4\", \"offsetgroup\": \"\\uc7a5\\ub974=\\ubc94\\uc8c4\", \"orientation\": \"v\", \"showlegend\": true, \"textposition\": \"auto\", \"type\": \"bar\", \"x\": [\"\\ub514\\uc988\\ub2c8+\", \"\\ub124\\uc774\\ubc84\\uc2dc\\ub9ac\\uc988\\uc628\", \"\\ub137\\ud50c\\ub9ad\\uc2a4\", \"\\ud2f0\\ube59\", \"\\uc653\\ucc60\", \"AppleTV+\", \"\\uc6e8\\uc774\\ube0c\", \"\\uc544\\ub9c8\\uc874\\ud504\\ub77c\\uc784\\ube44\\ub514\\uc624\", \"seezn\", \"\\ucfe0\\ud321\\ud50c\\ub808\\uc774\", \"\\ub77c\\ud504\\ud154\"], \"xaxis\": \"x\", \"y\": [82, 0, 370, 76, 172, 4, 210, 46, 11, 51, 1], \"yaxis\": \"y\"}],\n",
              "                        {\"barmode\": \"relative\", \"legend\": {\"tracegroupgap\": 0}, \"template\": {\"data\": {\"bar\": [{\"error_x\": {\"color\": \"#2a3f5f\"}, \"error_y\": {\"color\": \"#2a3f5f\"}, \"marker\": {\"line\": {\"color\": \"#E5ECF6\", \"width\": 0.5}}, \"type\": \"bar\"}], \"barpolar\": [{\"marker\": {\"line\": {\"color\": \"#E5ECF6\", \"width\": 0.5}}, \"type\": \"barpolar\"}], \"carpet\": [{\"aaxis\": {\"endlinecolor\": \"#2a3f5f\", \"gridcolor\": \"white\", \"linecolor\": \"white\", \"minorgridcolor\": \"white\", \"startlinecolor\": \"#2a3f5f\"}, \"baxis\": {\"endlinecolor\": \"#2a3f5f\", \"gridcolor\": \"white\", \"linecolor\": \"white\", \"minorgridcolor\": \"white\", \"startlinecolor\": \"#2a3f5f\"}, \"type\": \"carpet\"}], \"choropleth\": [{\"colorbar\": {\"outlinewidth\": 0, \"ticks\": \"\"}, \"type\": \"choropleth\"}], \"contour\": [{\"colorbar\": {\"outlinewidth\": 0, \"ticks\": \"\"}, \"colorscale\": [[0.0, \"#0d0887\"], [0.1111111111111111, \"#46039f\"], [0.2222222222222222, \"#7201a8\"], [0.3333333333333333, \"#9c179e\"], [0.4444444444444444, \"#bd3786\"], [0.5555555555555556, \"#d8576b\"], [0.6666666666666666, \"#ed7953\"], [0.7777777777777778, \"#fb9f3a\"], [0.8888888888888888, \"#fdca26\"], [1.0, \"#f0f921\"]], \"type\": \"contour\"}], \"contourcarpet\": [{\"colorbar\": {\"outlinewidth\": 0, \"ticks\": \"\"}, \"type\": \"contourcarpet\"}], \"heatmap\": [{\"colorbar\": {\"outlinewidth\": 0, \"ticks\": \"\"}, \"colorscale\": [[0.0, \"#0d0887\"], [0.1111111111111111, \"#46039f\"], [0.2222222222222222, \"#7201a8\"], [0.3333333333333333, \"#9c179e\"], [0.4444444444444444, \"#bd3786\"], [0.5555555555555556, \"#d8576b\"], [0.6666666666666666, \"#ed7953\"], [0.7777777777777778, \"#fb9f3a\"], [0.8888888888888888, \"#fdca26\"], [1.0, \"#f0f921\"]], \"type\": \"heatmap\"}], \"heatmapgl\": [{\"colorbar\": {\"outlinewidth\": 0, \"ticks\": \"\"}, \"colorscale\": [[0.0, \"#0d0887\"], [0.1111111111111111, \"#46039f\"], [0.2222222222222222, \"#7201a8\"], [0.3333333333333333, \"#9c179e\"], [0.4444444444444444, \"#bd3786\"], [0.5555555555555556, \"#d8576b\"], [0.6666666666666666, \"#ed7953\"], [0.7777777777777778, \"#fb9f3a\"], [0.8888888888888888, \"#fdca26\"], [1.0, \"#f0f921\"]], \"type\": \"heatmapgl\"}], \"histogram\": [{\"marker\": {\"colorbar\": {\"outlinewidth\": 0, \"ticks\": \"\"}}, \"type\": \"histogram\"}], \"histogram2d\": [{\"colorbar\": {\"outlinewidth\": 0, \"ticks\": \"\"}, \"colorscale\": [[0.0, \"#0d0887\"], [0.1111111111111111, \"#46039f\"], [0.2222222222222222, \"#7201a8\"], [0.3333333333333333, \"#9c179e\"], [0.4444444444444444, \"#bd3786\"], [0.5555555555555556, \"#d8576b\"], [0.6666666666666666, \"#ed7953\"], [0.7777777777777778, \"#fb9f3a\"], [0.8888888888888888, \"#fdca26\"], [1.0, \"#f0f921\"]], \"type\": \"histogram2d\"}], \"histogram2dcontour\": [{\"colorbar\": {\"outlinewidth\": 0, \"ticks\": \"\"}, \"colorscale\": [[0.0, \"#0d0887\"], [0.1111111111111111, \"#46039f\"], [0.2222222222222222, \"#7201a8\"], [0.3333333333333333, \"#9c179e\"], [0.4444444444444444, \"#bd3786\"], [0.5555555555555556, \"#d8576b\"], [0.6666666666666666, \"#ed7953\"], [0.7777777777777778, \"#fb9f3a\"], [0.8888888888888888, \"#fdca26\"], [1.0, \"#f0f921\"]], \"type\": \"histogram2dcontour\"}], \"mesh3d\": [{\"colorbar\": {\"outlinewidth\": 0, \"ticks\": \"\"}, \"type\": \"mesh3d\"}], \"parcoords\": [{\"line\": {\"colorbar\": {\"outlinewidth\": 0, \"ticks\": \"\"}}, \"type\": \"parcoords\"}], \"pie\": [{\"automargin\": true, \"type\": \"pie\"}], \"scatter\": [{\"marker\": {\"colorbar\": {\"outlinewidth\": 0, \"ticks\": \"\"}}, \"type\": \"scatter\"}], \"scatter3d\": [{\"line\": {\"colorbar\": {\"outlinewidth\": 0, \"ticks\": \"\"}}, \"marker\": {\"colorbar\": {\"outlinewidth\": 0, \"ticks\": \"\"}}, \"type\": \"scatter3d\"}], \"scattercarpet\": [{\"marker\": {\"colorbar\": {\"outlinewidth\": 0, \"ticks\": \"\"}}, \"type\": \"scattercarpet\"}], \"scattergeo\": [{\"marker\": {\"colorbar\": {\"outlinewidth\": 0, \"ticks\": \"\"}}, \"type\": \"scattergeo\"}], \"scattergl\": [{\"marker\": {\"colorbar\": {\"outlinewidth\": 0, \"ticks\": \"\"}}, \"type\": \"scattergl\"}], \"scattermapbox\": [{\"marker\": {\"colorbar\": {\"outlinewidth\": 0, \"ticks\": \"\"}}, \"type\": \"scattermapbox\"}], \"scatterpolar\": [{\"marker\": {\"colorbar\": {\"outlinewidth\": 0, \"ticks\": \"\"}}, \"type\": \"scatterpolar\"}], \"scatterpolargl\": [{\"marker\": {\"colorbar\": {\"outlinewidth\": 0, \"ticks\": \"\"}}, \"type\": \"scatterpolargl\"}], \"scatterternary\": [{\"marker\": {\"colorbar\": {\"outlinewidth\": 0, \"ticks\": \"\"}}, \"type\": \"scatterternary\"}], \"surface\": [{\"colorbar\": {\"outlinewidth\": 0, \"ticks\": \"\"}, \"colorscale\": [[0.0, \"#0d0887\"], [0.1111111111111111, \"#46039f\"], [0.2222222222222222, \"#7201a8\"], [0.3333333333333333, \"#9c179e\"], [0.4444444444444444, \"#bd3786\"], [0.5555555555555556, \"#d8576b\"], [0.6666666666666666, \"#ed7953\"], [0.7777777777777778, \"#fb9f3a\"], [0.8888888888888888, \"#fdca26\"], [1.0, \"#f0f921\"]], \"type\": \"surface\"}], \"table\": [{\"cells\": {\"fill\": {\"color\": \"#EBF0F8\"}, \"line\": {\"color\": \"white\"}}, \"header\": {\"fill\": {\"color\": \"#C8D4E3\"}, \"line\": {\"color\": \"white\"}}, \"type\": \"table\"}]}, \"layout\": {\"annotationdefaults\": {\"arrowcolor\": \"#2a3f5f\", \"arrowhead\": 0, \"arrowwidth\": 1}, \"coloraxis\": {\"colorbar\": {\"outlinewidth\": 0, \"ticks\": \"\"}}, \"colorscale\": {\"diverging\": [[0, \"#8e0152\"], [0.1, \"#c51b7d\"], [0.2, \"#de77ae\"], [0.3, \"#f1b6da\"], [0.4, \"#fde0ef\"], [0.5, \"#f7f7f7\"], [0.6, \"#e6f5d0\"], [0.7, \"#b8e186\"], [0.8, \"#7fbc41\"], [0.9, \"#4d9221\"], [1, \"#276419\"]], \"sequential\": [[0.0, \"#0d0887\"], [0.1111111111111111, \"#46039f\"], [0.2222222222222222, \"#7201a8\"], [0.3333333333333333, \"#9c179e\"], [0.4444444444444444, \"#bd3786\"], [0.5555555555555556, \"#d8576b\"], [0.6666666666666666, \"#ed7953\"], [0.7777777777777778, \"#fb9f3a\"], [0.8888888888888888, \"#fdca26\"], [1.0, \"#f0f921\"]], \"sequentialminus\": [[0.0, \"#0d0887\"], [0.1111111111111111, \"#46039f\"], [0.2222222222222222, \"#7201a8\"], [0.3333333333333333, \"#9c179e\"], [0.4444444444444444, \"#bd3786\"], [0.5555555555555556, \"#d8576b\"], [0.6666666666666666, \"#ed7953\"], [0.7777777777777778, \"#fb9f3a\"], [0.8888888888888888, \"#fdca26\"], [1.0, \"#f0f921\"]]}, \"colorway\": [\"#636efa\", \"#EF553B\", \"#00cc96\", \"#ab63fa\", \"#FFA15A\", \"#19d3f3\", \"#FF6692\", \"#B6E880\", \"#FF97FF\", \"#FECB52\"], \"font\": {\"color\": \"#2a3f5f\"}, \"geo\": {\"bgcolor\": \"white\", \"lakecolor\": \"white\", \"landcolor\": \"#E5ECF6\", \"showlakes\": true, \"showland\": true, \"subunitcolor\": \"white\"}, \"hoverlabel\": {\"align\": \"left\"}, \"hovermode\": \"closest\", \"mapbox\": {\"style\": \"light\"}, \"paper_bgcolor\": \"white\", \"plot_bgcolor\": \"#E5ECF6\", \"polar\": {\"angularaxis\": {\"gridcolor\": \"white\", \"linecolor\": \"white\", \"ticks\": \"\"}, \"bgcolor\": \"#E5ECF6\", \"radialaxis\": {\"gridcolor\": \"white\", \"linecolor\": \"white\", \"ticks\": \"\"}}, \"scene\": {\"xaxis\": {\"backgroundcolor\": \"#E5ECF6\", \"gridcolor\": \"white\", \"gridwidth\": 2, \"linecolor\": \"white\", \"showbackground\": true, \"ticks\": \"\", \"zerolinecolor\": \"white\"}, \"yaxis\": {\"backgroundcolor\": \"#E5ECF6\", \"gridcolor\": \"white\", \"gridwidth\": 2, \"linecolor\": \"white\", \"showbackground\": true, \"ticks\": \"\", \"zerolinecolor\": \"white\"}, \"zaxis\": {\"backgroundcolor\": \"#E5ECF6\", \"gridcolor\": \"white\", \"gridwidth\": 2, \"linecolor\": \"white\", \"showbackground\": true, \"ticks\": \"\", \"zerolinecolor\": \"white\"}}, \"shapedefaults\": {\"line\": {\"color\": \"#2a3f5f\"}}, \"ternary\": {\"aaxis\": {\"gridcolor\": \"white\", \"linecolor\": \"white\", \"ticks\": \"\"}, \"baxis\": {\"gridcolor\": \"white\", \"linecolor\": \"white\", \"ticks\": \"\"}, \"bgcolor\": \"#E5ECF6\", \"caxis\": {\"gridcolor\": \"white\", \"linecolor\": \"white\", \"ticks\": \"\"}}, \"title\": {\"x\": 0.05}, \"xaxis\": {\"automargin\": true, \"gridcolor\": \"white\", \"linecolor\": \"white\", \"ticks\": \"\", \"title\": {\"standoff\": 15}, \"zerolinecolor\": \"white\", \"zerolinewidth\": 2}, \"yaxis\": {\"automargin\": true, \"gridcolor\": \"white\", \"linecolor\": \"white\", \"ticks\": \"\", \"title\": {\"standoff\": 15}, \"zerolinecolor\": \"white\", \"zerolinewidth\": 2}}}, \"title\": {\"text\": \"\\ud50c\\ub7ab\\ud3fc \\ubcc4 \\uc778\\uae30 \\uc7a5\\ub974(\\uc804\\uccb4)\"}, \"xaxis\": {\"anchor\": \"y\", \"domain\": [0.0, 1.0], \"title\": {\"text\": \"provider\"}}, \"yaxis\": {\"anchor\": \"x\", \"domain\": [0.0, 1.0], \"title\": {\"text\": \"count\"}}},\n",
              "                        {\"responsive\": true}\n",
              "                    ).then(function(){\n",
              "                            \n",
              "var gd = document.getElementById('d06cbd10-db9e-4e25-9763-f8935450cc03');\n",
              "var x = new MutationObserver(function (mutations, observer) {{\n",
              "        var display = window.getComputedStyle(gd).display;\n",
              "        if (!display || display === 'none') {{\n",
              "            console.log([gd, 'removed!']);\n",
              "            Plotly.purge(gd);\n",
              "            observer.disconnect();\n",
              "        }}\n",
              "}});\n",
              "\n",
              "// Listen for the removal of the full notebook cells\n",
              "var notebookContainer = gd.closest('#notebook-container');\n",
              "if (notebookContainer) {{\n",
              "    x.observe(notebookContainer, {childList: true});\n",
              "}}\n",
              "\n",
              "// Listen for the clearing of the current output cell\n",
              "var outputEl = gd.closest('.output');\n",
              "if (outputEl) {{\n",
              "    x.observe(outputEl, {childList: true});\n",
              "}}\n",
              "\n",
              "                        })\n",
              "                };\n",
              "                \n",
              "            </script>\n",
              "        </div>\n",
              "</body>\n",
              "</html>"
            ]
          },
          "metadata": {}
        }
      ]
    },
    {
      "cell_type": "code",
      "source": [
        "#[애니메이션,다큐멘터리,미정,시사/교양,드라마,예능,공연]을 제외한 장르별 비중\n",
        "\n",
        "li=['애니메이션','다큐멘터리','미정','기타','시사/교양','예능','공연','드라마']\n",
        "df5_2=df5.loc[df5['장르'].isin(li)==False]\n",
        "\n",
        "\"\"\"각 플랫폼 별로 시각화=[아마존프라임비디오,디즈니+,웨이브,넷플릭스,쿠팡플레이,왓챠,seezn,티빙]만\n",
        "라프텔은 99퍼가 애니메이션이라 제외\n",
        "appletv와 네이버시리즈온은 데이터 양이 적어 제외시킴\"\"\"\n",
        "\n",
        "#라이브러리 호출\n",
        "import plotly.graph_objects as go\n",
        "from plotly.subplots import make_subplots\n",
        "\n",
        "ama=df5_2.loc[df5_2['provider'].str.contains('아마존프라임비디오')]\n",
        "di=df5_2.loc[df5_2['provider'].str.contains('디즈니+')]\n",
        "wave=df5_2.loc[df5_2['provider'].str.contains('웨이브')]\n",
        "net=df5_2.loc[df5_2['provider'].str.contains('넷플릭스')]\n",
        "coo=df5_2.loc[df5_2['provider'].str.contains('쿠팡플레이')]\n",
        "wat=df5_2.loc[df5_2['provider'].str.contains('왓챠')]\n",
        "see=df5_2.loc[df5_2['provider'].str.contains('seezn')]\n",
        "ti=df5_2.loc[df5_2['provider'].str.contains('티빙')]\n",
        "\n",
        "# 서브플롯\n",
        "specs = [[{'type':'domain'}, {'type':'domain'},{'type':'domain'}, {'type':'domain'}],[{'type':'domain'}, {'type':'domain'},{'type':'domain'}, {'type':'domain'}]]\n",
        "fig = make_subplots(rows=2, cols=4, specs=specs)\n",
        "\n",
        "fig.add_trace(go.Pie(labels=ama['장르'], values=ama['count'], name=\"아마존\"),1, 1)\n",
        "fig.add_trace(go.Pie(labels=di['장르'], values=di['count'], name=\"디즈니+\"),1, 2)\n",
        "fig.add_trace(go.Pie(labels=wave['장르'], values=wave['count'], name=\"웨이브\"),1, 3)\n",
        "fig.add_trace(go.Pie(labels=net['장르'], values=net['count'], name=\"넷플릭스\"),1, 4)\n",
        "fig.add_trace(go.Pie(labels=coo['장르'], values=coo['count'], name=\"쿠팡플레이\"),2, 1)\n",
        "fig.add_trace(go.Pie(labels=wat['장르'], values=wat['count'], name=\"왓챠\"),2, 2)\n",
        "fig.add_trace(go.Pie(labels=see['장르'], values=see['count'], name=\"seezn\"),2, 3)\n",
        "fig.add_trace(go.Pie(labels=ti['장르'], values=ti['count'], name=\"티빙\"),2, 4)\n",
        "\n",
        "#도넛모양으로 만들기\n",
        "fig.update_traces(hole=.4, hoverinfo=\"label+percent+name\",textinfo='none')\n",
        "\n",
        "fig.update_layout(\n",
        "    title_text='장르별 분류',\n",
        "    # Add annotations in the center of the donut pies.\n",
        "    annotations=[dict(text='아마존', x=0.09, y=0.8, font_size=11, showarrow=False),\n",
        "                 dict(text='디즈니+', x=0.371, y=0.8, font_size=11, showarrow=False),\n",
        "                 dict(text='웨이브', x=0.63, y=0.8, font_size=11, showarrow=False),\n",
        "                 dict(text='넷플릭스', x=0.914, y=0.8, font_size=11, showarrow=False),\n",
        "                 dict(text='쿠팡', x=0.09, y=0.19, font_size=11, showarrow=False),\n",
        "                 dict(text='왓챠', x=0.371, y=0.19, font_size=11, showarrow=False),\n",
        "                 dict(text='seezn', x=0.63, y=0.19, font_size=11, showarrow=False),\n",
        "                 dict(text='티빙', x=0.914, y=0.19, font_size=11, showarrow=False)])\n",
        "fig = go.Figure(fig)\n",
        "fig.show()"
      ],
      "metadata": {
        "colab": {
          "base_uri": "https://localhost:8080/",
          "height": 542
        },
        "id": "IYEsVqPBAM64",
        "outputId": "6da50eaf-d875-460a-8934-cf8dd4d5ddb4"
      },
      "execution_count": null,
      "outputs": [
        {
          "output_type": "display_data",
          "data": {
            "text/html": [
              "<html>\n",
              "<head><meta charset=\"utf-8\" /></head>\n",
              "<body>\n",
              "    <div>\n",
              "            <script src=\"https://cdnjs.cloudflare.com/ajax/libs/mathjax/2.7.5/MathJax.js?config=TeX-AMS-MML_SVG\"></script><script type=\"text/javascript\">if (window.MathJax) {MathJax.Hub.Config({SVG: {font: \"STIX-Web\"}});}</script>\n",
              "                <script type=\"text/javascript\">window.PlotlyConfig = {MathJaxConfig: 'local'};</script>\n",
              "        <script src=\"https://cdn.plot.ly/plotly-latest.min.js\"></script>    \n",
              "            <div id=\"e24a84b0-331a-4175-818c-f17c7b29bc65\" class=\"plotly-graph-div\" style=\"height:525px; width:100%;\"></div>\n",
              "            <script type=\"text/javascript\">\n",
              "                \n",
              "                    window.PLOTLYENV=window.PLOTLYENV || {};\n",
              "                    \n",
              "                if (document.getElementById(\"e24a84b0-331a-4175-818c-f17c7b29bc65\")) {\n",
              "                    Plotly.newPlot(\n",
              "                        'e24a84b0-331a-4175-818c-f17c7b29bc65',\n",
              "                        [{\"domain\": {\"x\": [0.0, 0.2125], \"y\": [0.575, 1.0]}, \"hole\": 0.4, \"hoverinfo\": \"label+percent+name\", \"labels\": [\"SF\", \"\\uc561\\uc158\", \"\\uc74c\\uc545\", \"\\uac00\\uc871\", \"\\uc11c\\ubd80\\uadf9\", \"\\ucf54\\ubbf8\\ub514\", \"\\uc804\\uc7c1\", \"\\uc2a4\\ub9b4\\ub7ec\", \"\\uba5c\\ub85c/\\ub85c\\ub9e8\\uc2a4\", \"\\uacf5\\ud3ec\", \"\\uc11c\\uc0ac\", \"\\uc11c\\uc2a4\\ud39c\\uc2a4\", \"\\ubba4\\uc9c0\\uceec\", \"\\ubbf8\\uc2a4\\ud130\\ub9ac\", \"\\uc5b4\\ub4dc\\ubca4\\ucc98\", \"\\ubc94\\uc8c4\"], \"name\": \"\\uc544\\ub9c8\\uc874\", \"textinfo\": \"none\", \"type\": \"pie\", \"values\": [17, 31, 4, 0, 0, 38, 0, 30, 7, 21, 0, 3, 0, 30, 16, 46]}, {\"domain\": {\"x\": [0.2625, 0.475], \"y\": [0.575, 1.0]}, \"hole\": 0.4, \"hoverinfo\": \"label+percent+name\", \"labels\": [\"SF\", \"\\uc561\\uc158\", \"\\uc74c\\uc545\", \"\\uac00\\uc871\", \"\\uc11c\\ubd80\\uadf9\", \"\\ucf54\\ubbf8\\ub514\", \"\\uc804\\uc7c1\", \"\\uc2a4\\ub9b4\\ub7ec\", \"\\uba5c\\ub85c/\\ub85c\\ub9e8\\uc2a4\", \"\\uacf5\\ud3ec\", \"\\uc11c\\uc0ac\", \"\\uc11c\\uc2a4\\ud39c\\uc2a4\", \"\\ubba4\\uc9c0\\uceec\", \"\\ubbf8\\uc2a4\\ud130\\ub9ac\", \"\\uc5b4\\ub4dc\\ubca4\\ucc98\", \"\\ubc94\\uc8c4\"], \"name\": \"\\ub514\\uc988\\ub2c8+\", \"textinfo\": \"none\", \"type\": \"pie\", \"values\": [54, 122, 10, 46, 0, 209, 0, 50, 53, 23, 0, 0, 2, 59, 71, 82]}, {\"domain\": {\"x\": [0.525, 0.7375], \"y\": [0.575, 1.0]}, \"hole\": 0.4, \"hoverinfo\": \"label+percent+name\", \"labels\": [\"SF\", \"\\uc561\\uc158\", \"\\uc74c\\uc545\", \"\\uac00\\uc871\", \"\\uc11c\\ubd80\\uadf9\", \"\\ucf54\\ubbf8\\ub514\", \"\\uc804\\uc7c1\", \"\\uc2a4\\ub9b4\\ub7ec\", \"\\uba5c\\ub85c/\\ub85c\\ub9e8\\uc2a4\", \"\\uacf5\\ud3ec\", \"\\uc11c\\uc0ac\", \"\\uc11c\\uc2a4\\ud39c\\uc2a4\", \"\\ubba4\\uc9c0\\uceec\", \"\\ubbf8\\uc2a4\\ud130\\ub9ac\", \"\\uc5b4\\ub4dc\\ubca4\\ucc98\", \"\\ubc94\\uc8c4\"], \"name\": \"\\uc6e8\\uc774\\ube0c\", \"textinfo\": \"none\", \"type\": \"pie\", \"values\": [64, 162, 2, 23, 0, 231, 23, 81, 422, 33, 18, 2, 0, 195, 58, 210]}, {\"domain\": {\"x\": [0.7875, 1.0], \"y\": [0.575, 1.0]}, \"hole\": 0.4, \"hoverinfo\": \"label+percent+name\", \"labels\": [\"SF\", \"\\uc561\\uc158\", \"\\uc74c\\uc545\", \"\\uac00\\uc871\", \"\\uc11c\\ubd80\\uadf9\", \"\\ucf54\\ubbf8\\ub514\", \"\\uc804\\uc7c1\", \"\\uc2a4\\ub9b4\\ub7ec\", \"\\uba5c\\ub85c/\\ub85c\\ub9e8\\uc2a4\", \"\\uacf5\\ud3ec\", \"\\uc11c\\uc0ac\", \"\\uc11c\\uc2a4\\ud39c\\uc2a4\", \"\\ubba4\\uc9c0\\uceec\", \"\\ubbf8\\uc2a4\\ud130\\ub9ac\", \"\\uc5b4\\ub4dc\\ubca4\\ucc98\", \"\\ubc94\\uc8c4\"], \"name\": \"\\ub137\\ud50c\\ub9ad\\uc2a4\", \"textinfo\": \"none\", \"type\": \"pie\", \"values\": [118, 342, 14, 96, 1, 837, 6, 157, 184, 89, 3, 0, 10, 118, 229, 370]}, {\"domain\": {\"x\": [0.0, 0.2125], \"y\": [0.0, 0.425]}, \"hole\": 0.4, \"hoverinfo\": \"label+percent+name\", \"labels\": [\"SF\", \"\\uc561\\uc158\", \"\\uc74c\\uc545\", \"\\uac00\\uc871\", \"\\uc11c\\ubd80\\uadf9\", \"\\ucf54\\ubbf8\\ub514\", \"\\uc804\\uc7c1\", \"\\uc2a4\\ub9b4\\ub7ec\", \"\\uba5c\\ub85c/\\ub85c\\ub9e8\\uc2a4\", \"\\uacf5\\ud3ec\", \"\\uc11c\\uc0ac\", \"\\uc11c\\uc2a4\\ud39c\\uc2a4\", \"\\ubba4\\uc9c0\\uceec\", \"\\ubbf8\\uc2a4\\ud130\\ub9ac\", \"\\uc5b4\\ub4dc\\ubca4\\ucc98\", \"\\ubc94\\uc8c4\"], \"name\": \"\\ucfe0\\ud321\\ud50c\\ub808\\uc774\", \"textinfo\": \"none\", \"type\": \"pie\", \"values\": [39, 41, 0, 6, 0, 46, 4, 16, 53, 9, 1, 2, 1, 32, 23, 51]}, {\"domain\": {\"x\": [0.2625, 0.475], \"y\": [0.0, 0.425]}, \"hole\": 0.4, \"hoverinfo\": \"label+percent+name\", \"labels\": [\"SF\", \"\\uc561\\uc158\", \"\\uc74c\\uc545\", \"\\uac00\\uc871\", \"\\uc11c\\ubd80\\uadf9\", \"\\ucf54\\ubbf8\\ub514\", \"\\uc804\\uc7c1\", \"\\uc2a4\\ub9b4\\ub7ec\", \"\\uba5c\\ub85c/\\ub85c\\ub9e8\\uc2a4\", \"\\uacf5\\ud3ec\", \"\\uc11c\\uc0ac\", \"\\uc11c\\uc2a4\\ud39c\\uc2a4\", \"\\ubba4\\uc9c0\\uceec\", \"\\ubbf8\\uc2a4\\ud130\\ub9ac\", \"\\uc5b4\\ub4dc\\ubca4\\ucc98\", \"\\ubc94\\uc8c4\"], \"name\": \"\\uc653\\ucc60\", \"textinfo\": \"none\", \"type\": \"pie\", \"values\": [52, 174, 16, 16, 1, 269, 17, 64, 396, 27, 16, 2, 0, 139, 69, 172]}, {\"domain\": {\"x\": [0.525, 0.7375], \"y\": [0.0, 0.425]}, \"hole\": 0.4, \"hoverinfo\": \"label+percent+name\", \"labels\": [\"SF\", \"\\uc561\\uc158\", \"\\uc74c\\uc545\", \"\\uac00\\uc871\", \"\\uc11c\\ubd80\\uadf9\", \"\\ucf54\\ubbf8\\ub514\", \"\\uc804\\uc7c1\", \"\\uc2a4\\ub9b4\\ub7ec\", \"\\uba5c\\ub85c/\\ub85c\\ub9e8\\uc2a4\", \"\\uacf5\\ud3ec\", \"\\uc11c\\uc0ac\", \"\\uc11c\\uc2a4\\ud39c\\uc2a4\", \"\\ubba4\\uc9c0\\uceec\", \"\\ubbf8\\uc2a4\\ud130\\ub9ac\", \"\\uc5b4\\ub4dc\\ubca4\\ucc98\", \"\\ubc94\\uc8c4\"], \"name\": \"seezn\", \"textinfo\": \"none\", \"type\": \"pie\", \"values\": [19, 10, 0, 3, 0, 22, 4, 7, 57, 1, 1, 1, 0, 10, 3, 11]}, {\"domain\": {\"x\": [0.7875, 1.0], \"y\": [0.0, 0.425]}, \"hole\": 0.4, \"hoverinfo\": \"label+percent+name\", \"labels\": [\"SF\", \"\\uc561\\uc158\", \"\\uc74c\\uc545\", \"\\uac00\\uc871\", \"\\uc11c\\ubd80\\uadf9\", \"\\ucf54\\ubbf8\\ub514\", \"\\uc804\\uc7c1\", \"\\uc2a4\\ub9b4\\ub7ec\", \"\\uba5c\\ub85c/\\ub85c\\ub9e8\\uc2a4\", \"\\uacf5\\ud3ec\", \"\\uc11c\\uc0ac\", \"\\uc11c\\uc2a4\\ud39c\\uc2a4\", \"\\ubba4\\uc9c0\\uceec\", \"\\ubbf8\\uc2a4\\ud130\\ub9ac\", \"\\uc5b4\\ub4dc\\ubca4\\ucc98\", \"\\ubc94\\uc8c4\"], \"name\": \"\\ud2f0\\ube59\", \"textinfo\": \"none\", \"type\": \"pie\", \"values\": [11, 82, 1, 8, 0, 109, 8, 35, 288, 3, 13, 2, 0, 57, 25, 76]}],\n",
              "                        {\"annotations\": [{\"font\": {\"size\": 11}, \"showarrow\": false, \"text\": \"\\uc544\\ub9c8\\uc874\", \"x\": 0.09, \"y\": 0.8}, {\"font\": {\"size\": 11}, \"showarrow\": false, \"text\": \"\\ub514\\uc988\\ub2c8+\", \"x\": 0.371, \"y\": 0.8}, {\"font\": {\"size\": 11}, \"showarrow\": false, \"text\": \"\\uc6e8\\uc774\\ube0c\", \"x\": 0.63, \"y\": 0.8}, {\"font\": {\"size\": 11}, \"showarrow\": false, \"text\": \"\\ub137\\ud50c\\ub9ad\\uc2a4\", \"x\": 0.914, \"y\": 0.8}, {\"font\": {\"size\": 11}, \"showarrow\": false, \"text\": \"\\ucfe0\\ud321\", \"x\": 0.09, \"y\": 0.19}, {\"font\": {\"size\": 11}, \"showarrow\": false, \"text\": \"\\uc653\\ucc60\", \"x\": 0.371, \"y\": 0.19}, {\"font\": {\"size\": 11}, \"showarrow\": false, \"text\": \"seezn\", \"x\": 0.63, \"y\": 0.19}, {\"font\": {\"size\": 11}, \"showarrow\": false, \"text\": \"\\ud2f0\\ube59\", \"x\": 0.914, \"y\": 0.19}], \"template\": {\"data\": {\"bar\": [{\"error_x\": {\"color\": \"#2a3f5f\"}, \"error_y\": {\"color\": \"#2a3f5f\"}, \"marker\": {\"line\": {\"color\": \"#E5ECF6\", \"width\": 0.5}}, \"type\": \"bar\"}], \"barpolar\": [{\"marker\": {\"line\": {\"color\": \"#E5ECF6\", \"width\": 0.5}}, \"type\": \"barpolar\"}], \"carpet\": [{\"aaxis\": {\"endlinecolor\": \"#2a3f5f\", \"gridcolor\": \"white\", \"linecolor\": \"white\", \"minorgridcolor\": \"white\", \"startlinecolor\": \"#2a3f5f\"}, \"baxis\": {\"endlinecolor\": \"#2a3f5f\", \"gridcolor\": \"white\", \"linecolor\": \"white\", \"minorgridcolor\": \"white\", \"startlinecolor\": \"#2a3f5f\"}, \"type\": \"carpet\"}], \"choropleth\": [{\"colorbar\": {\"outlinewidth\": 0, \"ticks\": \"\"}, \"type\": \"choropleth\"}], \"contour\": [{\"colorbar\": {\"outlinewidth\": 0, \"ticks\": \"\"}, \"colorscale\": [[0.0, \"#0d0887\"], [0.1111111111111111, \"#46039f\"], [0.2222222222222222, \"#7201a8\"], [0.3333333333333333, \"#9c179e\"], [0.4444444444444444, \"#bd3786\"], [0.5555555555555556, \"#d8576b\"], [0.6666666666666666, \"#ed7953\"], [0.7777777777777778, \"#fb9f3a\"], [0.8888888888888888, \"#fdca26\"], [1.0, \"#f0f921\"]], \"type\": \"contour\"}], \"contourcarpet\": [{\"colorbar\": {\"outlinewidth\": 0, \"ticks\": \"\"}, \"type\": \"contourcarpet\"}], \"heatmap\": [{\"colorbar\": {\"outlinewidth\": 0, \"ticks\": \"\"}, \"colorscale\": [[0.0, \"#0d0887\"], [0.1111111111111111, \"#46039f\"], [0.2222222222222222, \"#7201a8\"], [0.3333333333333333, \"#9c179e\"], [0.4444444444444444, \"#bd3786\"], [0.5555555555555556, \"#d8576b\"], [0.6666666666666666, \"#ed7953\"], [0.7777777777777778, \"#fb9f3a\"], [0.8888888888888888, \"#fdca26\"], [1.0, \"#f0f921\"]], \"type\": \"heatmap\"}], \"heatmapgl\": [{\"colorbar\": {\"outlinewidth\": 0, \"ticks\": \"\"}, \"colorscale\": [[0.0, \"#0d0887\"], [0.1111111111111111, \"#46039f\"], [0.2222222222222222, \"#7201a8\"], [0.3333333333333333, \"#9c179e\"], [0.4444444444444444, \"#bd3786\"], [0.5555555555555556, \"#d8576b\"], [0.6666666666666666, \"#ed7953\"], [0.7777777777777778, \"#fb9f3a\"], [0.8888888888888888, \"#fdca26\"], [1.0, \"#f0f921\"]], \"type\": \"heatmapgl\"}], \"histogram\": [{\"marker\": {\"colorbar\": {\"outlinewidth\": 0, \"ticks\": \"\"}}, \"type\": \"histogram\"}], \"histogram2d\": [{\"colorbar\": {\"outlinewidth\": 0, \"ticks\": \"\"}, \"colorscale\": [[0.0, \"#0d0887\"], [0.1111111111111111, \"#46039f\"], [0.2222222222222222, \"#7201a8\"], [0.3333333333333333, \"#9c179e\"], [0.4444444444444444, \"#bd3786\"], [0.5555555555555556, \"#d8576b\"], [0.6666666666666666, \"#ed7953\"], [0.7777777777777778, \"#fb9f3a\"], [0.8888888888888888, \"#fdca26\"], [1.0, \"#f0f921\"]], \"type\": \"histogram2d\"}], \"histogram2dcontour\": [{\"colorbar\": {\"outlinewidth\": 0, \"ticks\": \"\"}, \"colorscale\": [[0.0, \"#0d0887\"], [0.1111111111111111, \"#46039f\"], [0.2222222222222222, \"#7201a8\"], [0.3333333333333333, \"#9c179e\"], [0.4444444444444444, \"#bd3786\"], [0.5555555555555556, \"#d8576b\"], [0.6666666666666666, \"#ed7953\"], [0.7777777777777778, \"#fb9f3a\"], [0.8888888888888888, \"#fdca26\"], [1.0, \"#f0f921\"]], \"type\": \"histogram2dcontour\"}], \"mesh3d\": [{\"colorbar\": {\"outlinewidth\": 0, \"ticks\": \"\"}, \"type\": \"mesh3d\"}], \"parcoords\": [{\"line\": {\"colorbar\": {\"outlinewidth\": 0, \"ticks\": \"\"}}, \"type\": \"parcoords\"}], \"pie\": [{\"automargin\": true, \"type\": \"pie\"}], \"scatter\": [{\"marker\": {\"colorbar\": {\"outlinewidth\": 0, \"ticks\": \"\"}}, \"type\": \"scatter\"}], \"scatter3d\": [{\"line\": {\"colorbar\": {\"outlinewidth\": 0, \"ticks\": \"\"}}, \"marker\": {\"colorbar\": {\"outlinewidth\": 0, \"ticks\": \"\"}}, \"type\": \"scatter3d\"}], \"scattercarpet\": [{\"marker\": {\"colorbar\": {\"outlinewidth\": 0, \"ticks\": \"\"}}, \"type\": \"scattercarpet\"}], \"scattergeo\": [{\"marker\": {\"colorbar\": {\"outlinewidth\": 0, \"ticks\": \"\"}}, \"type\": \"scattergeo\"}], \"scattergl\": [{\"marker\": {\"colorbar\": {\"outlinewidth\": 0, \"ticks\": \"\"}}, \"type\": \"scattergl\"}], \"scattermapbox\": [{\"marker\": {\"colorbar\": {\"outlinewidth\": 0, \"ticks\": \"\"}}, \"type\": \"scattermapbox\"}], \"scatterpolar\": [{\"marker\": {\"colorbar\": {\"outlinewidth\": 0, \"ticks\": \"\"}}, \"type\": \"scatterpolar\"}], \"scatterpolargl\": [{\"marker\": {\"colorbar\": {\"outlinewidth\": 0, \"ticks\": \"\"}}, \"type\": \"scatterpolargl\"}], \"scatterternary\": [{\"marker\": {\"colorbar\": {\"outlinewidth\": 0, \"ticks\": \"\"}}, \"type\": \"scatterternary\"}], \"surface\": [{\"colorbar\": {\"outlinewidth\": 0, \"ticks\": \"\"}, \"colorscale\": [[0.0, \"#0d0887\"], [0.1111111111111111, \"#46039f\"], [0.2222222222222222, \"#7201a8\"], [0.3333333333333333, \"#9c179e\"], [0.4444444444444444, \"#bd3786\"], [0.5555555555555556, \"#d8576b\"], [0.6666666666666666, \"#ed7953\"], [0.7777777777777778, \"#fb9f3a\"], [0.8888888888888888, \"#fdca26\"], [1.0, \"#f0f921\"]], \"type\": \"surface\"}], \"table\": [{\"cells\": {\"fill\": {\"color\": \"#EBF0F8\"}, \"line\": {\"color\": \"white\"}}, \"header\": {\"fill\": {\"color\": \"#C8D4E3\"}, \"line\": {\"color\": \"white\"}}, \"type\": \"table\"}]}, \"layout\": {\"annotationdefaults\": {\"arrowcolor\": \"#2a3f5f\", \"arrowhead\": 0, \"arrowwidth\": 1}, \"coloraxis\": {\"colorbar\": {\"outlinewidth\": 0, \"ticks\": \"\"}}, \"colorscale\": {\"diverging\": [[0, \"#8e0152\"], [0.1, \"#c51b7d\"], [0.2, \"#de77ae\"], [0.3, \"#f1b6da\"], [0.4, \"#fde0ef\"], [0.5, \"#f7f7f7\"], [0.6, \"#e6f5d0\"], [0.7, \"#b8e186\"], [0.8, \"#7fbc41\"], [0.9, \"#4d9221\"], [1, \"#276419\"]], \"sequential\": [[0.0, \"#0d0887\"], [0.1111111111111111, \"#46039f\"], [0.2222222222222222, \"#7201a8\"], [0.3333333333333333, \"#9c179e\"], [0.4444444444444444, \"#bd3786\"], [0.5555555555555556, \"#d8576b\"], [0.6666666666666666, \"#ed7953\"], [0.7777777777777778, \"#fb9f3a\"], [0.8888888888888888, \"#fdca26\"], [1.0, \"#f0f921\"]], \"sequentialminus\": [[0.0, \"#0d0887\"], [0.1111111111111111, \"#46039f\"], [0.2222222222222222, \"#7201a8\"], [0.3333333333333333, \"#9c179e\"], [0.4444444444444444, \"#bd3786\"], [0.5555555555555556, \"#d8576b\"], [0.6666666666666666, \"#ed7953\"], [0.7777777777777778, \"#fb9f3a\"], [0.8888888888888888, \"#fdca26\"], [1.0, \"#f0f921\"]]}, \"colorway\": [\"#636efa\", \"#EF553B\", \"#00cc96\", \"#ab63fa\", \"#FFA15A\", \"#19d3f3\", \"#FF6692\", \"#B6E880\", \"#FF97FF\", \"#FECB52\"], \"font\": {\"color\": \"#2a3f5f\"}, \"geo\": {\"bgcolor\": \"white\", \"lakecolor\": \"white\", \"landcolor\": \"#E5ECF6\", \"showlakes\": true, \"showland\": true, \"subunitcolor\": \"white\"}, \"hoverlabel\": {\"align\": \"left\"}, \"hovermode\": \"closest\", \"mapbox\": {\"style\": \"light\"}, \"paper_bgcolor\": \"white\", \"plot_bgcolor\": \"#E5ECF6\", \"polar\": {\"angularaxis\": {\"gridcolor\": \"white\", \"linecolor\": \"white\", \"ticks\": \"\"}, \"bgcolor\": \"#E5ECF6\", \"radialaxis\": {\"gridcolor\": \"white\", \"linecolor\": \"white\", \"ticks\": \"\"}}, \"scene\": {\"xaxis\": {\"backgroundcolor\": \"#E5ECF6\", \"gridcolor\": \"white\", \"gridwidth\": 2, \"linecolor\": \"white\", \"showbackground\": true, \"ticks\": \"\", \"zerolinecolor\": \"white\"}, \"yaxis\": {\"backgroundcolor\": \"#E5ECF6\", \"gridcolor\": \"white\", \"gridwidth\": 2, \"linecolor\": \"white\", \"showbackground\": true, \"ticks\": \"\", \"zerolinecolor\": \"white\"}, \"zaxis\": {\"backgroundcolor\": \"#E5ECF6\", \"gridcolor\": \"white\", \"gridwidth\": 2, \"linecolor\": \"white\", \"showbackground\": true, \"ticks\": \"\", \"zerolinecolor\": \"white\"}}, \"shapedefaults\": {\"line\": {\"color\": \"#2a3f5f\"}}, \"ternary\": {\"aaxis\": {\"gridcolor\": \"white\", \"linecolor\": \"white\", \"ticks\": \"\"}, \"baxis\": {\"gridcolor\": \"white\", \"linecolor\": \"white\", \"ticks\": \"\"}, \"bgcolor\": \"#E5ECF6\", \"caxis\": {\"gridcolor\": \"white\", \"linecolor\": \"white\", \"ticks\": \"\"}}, \"title\": {\"x\": 0.05}, \"xaxis\": {\"automargin\": true, \"gridcolor\": \"white\", \"linecolor\": \"white\", \"ticks\": \"\", \"title\": {\"standoff\": 15}, \"zerolinecolor\": \"white\", \"zerolinewidth\": 2}, \"yaxis\": {\"automargin\": true, \"gridcolor\": \"white\", \"linecolor\": \"white\", \"ticks\": \"\", \"title\": {\"standoff\": 15}, \"zerolinecolor\": \"white\", \"zerolinewidth\": 2}}}, \"title\": {\"text\": \"\\uc7a5\\ub974\\ubcc4 \\ubd84\\ub958\"}},\n",
              "                        {\"responsive\": true}\n",
              "                    ).then(function(){\n",
              "                            \n",
              "var gd = document.getElementById('e24a84b0-331a-4175-818c-f17c7b29bc65');\n",
              "var x = new MutationObserver(function (mutations, observer) {{\n",
              "        var display = window.getComputedStyle(gd).display;\n",
              "        if (!display || display === 'none') {{\n",
              "            console.log([gd, 'removed!']);\n",
              "            Plotly.purge(gd);\n",
              "            observer.disconnect();\n",
              "        }}\n",
              "}});\n",
              "\n",
              "// Listen for the removal of the full notebook cells\n",
              "var notebookContainer = gd.closest('#notebook-container');\n",
              "if (notebookContainer) {{\n",
              "    x.observe(notebookContainer, {childList: true});\n",
              "}}\n",
              "\n",
              "// Listen for the clearing of the current output cell\n",
              "var outputEl = gd.closest('.output');\n",
              "if (outputEl) {{\n",
              "    x.observe(outputEl, {childList: true});\n",
              "}}\n",
              "\n",
              "                        })\n",
              "                };\n",
              "                \n",
              "            </script>\n",
              "        </div>\n",
              "</body>\n",
              "</html>"
            ]
          },
          "metadata": {}
        }
      ]
    },
    {
      "cell_type": "code",
      "source": [
        "#영상매체별[애니메이션,다큐멘터리,드라마,예능,공연] 분류\n",
        "\n",
        "li=['애니메이션','다큐멘터리','예능','공연','드라마']\n",
        "df5_3=df5.loc[df5['장르'].isin(li)]\n",
        "\n",
        "\"\"\"각 플랫폼 별로 시각화=[아마존프라임비디오,디즈니+,웨이브,넷플릭스,쿠팡플레이,왓챠,seezn,티빙]만\n",
        "라프텔은 99퍼가 애니메이션이라 제외\n",
        "appletv와 네이버시리즈온은 데이터 양이 적어 제외시킴\"\"\"\n",
        "\n",
        "#라이브러리 호출\n",
        "import plotly.graph_objects as go\n",
        "from plotly.subplots import make_subplots\n",
        "\n",
        "ama=df5_3.loc[df5_3['provider'].str.contains('아마존프라임비디오')]\n",
        "di=df5_3.loc[df5_3['provider'].str.contains('디즈니+')]\n",
        "wave=df5_3.loc[df5_3['provider'].str.contains('웨이브')]\n",
        "net=df5_3.loc[df5_3['provider'].str.contains('넷플릭스')]\n",
        "coo=df5_3.loc[df5_3['provider'].str.contains('쿠팡플레이')]\n",
        "wat=df5_3.loc[df5_3['provider'].str.contains('왓챠')]\n",
        "see=df5_3.loc[df5_3['provider'].str.contains('seezn')]\n",
        "ti=df5_3.loc[df5_3['provider'].str.contains('티빙')]\n",
        "\n",
        "# 서브플롯\n",
        "specs = [[{'type':'domain'}, {'type':'domain'},{'type':'domain'}, {'type':'domain'}],[{'type':'domain'}, {'type':'domain'},{'type':'domain'}, {'type':'domain'}]]\n",
        "fig = make_subplots(rows=2, cols=4, specs=specs)\n",
        "\n",
        "fig.add_trace(go.Pie(labels=ama['장르'], values=ama['count'], name=\"아마존\"),1, 1)\n",
        "fig.add_trace(go.Pie(labels=di['장르'], values=di['count'], name=\"디즈니+\"),1, 2)\n",
        "fig.add_trace(go.Pie(labels=wave['장르'], values=wave['count'], name=\"웨이브\"),1, 3)\n",
        "fig.add_trace(go.Pie(labels=net['장르'], values=net['count'], name=\"넷플릭스\"),1, 4)\n",
        "fig.add_trace(go.Pie(labels=coo['장르'], values=coo['count'], name=\"쿠팡플레이\"),2, 1)\n",
        "fig.add_trace(go.Pie(labels=wat['장르'], values=wat['count'], name=\"왓챠\"),2, 2)\n",
        "fig.add_trace(go.Pie(labels=see['장르'], values=see['count'], name=\"seezn\"),2, 3)\n",
        "fig.add_trace(go.Pie(labels=ti['장르'], values=ti['count'], name=\"티빙\"),2, 4)\n",
        "\n",
        "#도넛모양으로 만들기\n",
        "fig.update_traces(hole=.4, hoverinfo=\"label+percent+name\",textinfo='none')\n",
        "\n",
        "fig.update_layout(\n",
        "    title_text='영상매체',\n",
        "    # Add annotations in the center of the donut pies.\n",
        "    annotations=[dict(text='아마존', x=0.09, y=0.8, font_size=11, showarrow=False),\n",
        "                 dict(text='디즈니+', x=0.371, y=0.8, font_size=11, showarrow=False),\n",
        "                 dict(text='웨이브', x=0.63, y=0.8, font_size=11, showarrow=False),\n",
        "                 dict(text='넷플릭스', x=0.914, y=0.8, font_size=11, showarrow=False),\n",
        "                 dict(text='쿠팡', x=0.09, y=0.19, font_size=11, showarrow=False),\n",
        "                 dict(text='왓챠', x=0.371, y=0.19, font_size=11, showarrow=False),\n",
        "                 dict(text='seezn', x=0.63, y=0.19, font_size=11, showarrow=False),\n",
        "                 dict(text='티빙', x=0.914, y=0.19, font_size=11, showarrow=False)])\n",
        "fig = go.Figure(fig)\n",
        "fig.show()"
      ],
      "metadata": {
        "colab": {
          "base_uri": "https://localhost:8080/",
          "height": 542
        },
        "id": "JYbwdtSyPIFc",
        "outputId": "f57d61c1-da1f-44b2-d693-2696e155ac1e"
      },
      "execution_count": null,
      "outputs": [
        {
          "output_type": "display_data",
          "data": {
            "text/html": [
              "<html>\n",
              "<head><meta charset=\"utf-8\" /></head>\n",
              "<body>\n",
              "    <div>\n",
              "            <script src=\"https://cdnjs.cloudflare.com/ajax/libs/mathjax/2.7.5/MathJax.js?config=TeX-AMS-MML_SVG\"></script><script type=\"text/javascript\">if (window.MathJax) {MathJax.Hub.Config({SVG: {font: \"STIX-Web\"}});}</script>\n",
              "                <script type=\"text/javascript\">window.PlotlyConfig = {MathJaxConfig: 'local'};</script>\n",
              "        <script src=\"https://cdn.plot.ly/plotly-latest.min.js\"></script>    \n",
              "            <div id=\"0ebacd23-7257-44bd-9ea1-e25e8bab6ac0\" class=\"plotly-graph-div\" style=\"height:525px; width:100%;\"></div>\n",
              "            <script type=\"text/javascript\">\n",
              "                \n",
              "                    window.PLOTLYENV=window.PLOTLYENV || {};\n",
              "                    \n",
              "                if (document.getElementById(\"0ebacd23-7257-44bd-9ea1-e25e8bab6ac0\")) {\n",
              "                    Plotly.newPlot(\n",
              "                        '0ebacd23-7257-44bd-9ea1-e25e8bab6ac0',\n",
              "                        [{\"domain\": {\"x\": [0.0, 0.2125], \"y\": [0.575, 1.0]}, \"hole\": 0.4, \"hoverinfo\": \"label+percent+name\", \"labels\": [\"\\uacf5\\uc5f0\", \"\\ub2e4\\ud050\\uba58\\ud130\\ub9ac\", \"\\uc608\\ub2a5\", \"\\uc560\\ub2c8\\uba54\\uc774\\uc158\", \"\\ub4dc\\ub77c\\ub9c8\"], \"name\": \"\\uc544\\ub9c8\\uc874\", \"textinfo\": \"none\", \"type\": \"pie\", \"values\": [0, 17, 4, 39, 183]}, {\"domain\": {\"x\": [0.2625, 0.475], \"y\": [0.575, 1.0]}, \"hole\": 0.4, \"hoverinfo\": \"label+percent+name\", \"labels\": [\"\\uacf5\\uc5f0\", \"\\ub2e4\\ud050\\uba58\\ud130\\ub9ac\", \"\\uc608\\ub2a5\", \"\\uc560\\ub2c8\\uba54\\uc774\\uc158\", \"\\ub4dc\\ub77c\\ub9c8\"], \"name\": \"\\ub514\\uc988\\ub2c8+\", \"textinfo\": \"none\", \"type\": \"pie\", \"values\": [1, 98, 25, 206, 305]}, {\"domain\": {\"x\": [0.525, 0.7375], \"y\": [0.575, 1.0]}, \"hole\": 0.4, \"hoverinfo\": \"label+percent+name\", \"labels\": [\"\\uacf5\\uc5f0\", \"\\ub2e4\\ud050\\uba58\\ud130\\ub9ac\", \"\\uc608\\ub2a5\", \"\\uc560\\ub2c8\\uba54\\uc774\\uc158\", \"\\ub4dc\\ub77c\\ub9c8\"], \"name\": \"\\uc6e8\\uc774\\ube0c\", \"textinfo\": \"none\", \"type\": \"pie\", \"values\": [0, 28, 614, 735, 2587]}, {\"domain\": {\"x\": [0.7875, 1.0], \"y\": [0.575, 1.0]}, \"hole\": 0.4, \"hoverinfo\": \"label+percent+name\", \"labels\": [\"\\uacf5\\uc5f0\", \"\\ub2e4\\ud050\\uba58\\ud130\\ub9ac\", \"\\uc608\\ub2a5\", \"\\uc560\\ub2c8\\uba54\\uc774\\uc158\", \"\\ub4dc\\ub77c\\ub9c8\"], \"name\": \"\\ub137\\ud50c\\ub9ad\\uc2a4\", \"textinfo\": \"none\", \"type\": \"pie\", \"values\": [0, 302, 321, 749, 1306]}, {\"domain\": {\"x\": [0.0, 0.2125], \"y\": [0.0, 0.425]}, \"hole\": 0.4, \"hoverinfo\": \"label+percent+name\", \"labels\": [\"\\uacf5\\uc5f0\", \"\\ub2e4\\ud050\\uba58\\ud130\\ub9ac\", \"\\uc608\\ub2a5\", \"\\uc560\\ub2c8\\uba54\\uc774\\uc158\", \"\\ub4dc\\ub77c\\ub9c8\"], \"name\": \"\\ucfe0\\ud321\\ud50c\\ub808\\uc774\", \"textinfo\": \"none\", \"type\": \"pie\", \"values\": [0, 58, 48, 156, 292]}, {\"domain\": {\"x\": [0.2625, 0.475], \"y\": [0.0, 0.425]}, \"hole\": 0.4, \"hoverinfo\": \"label+percent+name\", \"labels\": [\"\\uacf5\\uc5f0\", \"\\ub2e4\\ud050\\uba58\\ud130\\ub9ac\", \"\\uc608\\ub2a5\", \"\\uc560\\ub2c8\\uba54\\uc774\\uc158\", \"\\ub4dc\\ub77c\\ub9c8\"], \"name\": \"\\uc653\\ucc60\", \"textinfo\": \"none\", \"type\": \"pie\", \"values\": [2, 427, 625, 1103, 1706]}, {\"domain\": {\"x\": [0.525, 0.7375], \"y\": [0.0, 0.425]}, \"hole\": 0.4, \"hoverinfo\": \"label+percent+name\", \"labels\": [\"\\uacf5\\uc5f0\", \"\\ub2e4\\ud050\\uba58\\ud130\\ub9ac\", \"\\uc608\\ub2a5\", \"\\uc560\\ub2c8\\uba54\\uc774\\uc158\", \"\\ub4dc\\ub77c\\ub9c8\"], \"name\": \"seezn\", \"textinfo\": \"none\", \"type\": \"pie\", \"values\": [0, 1, 107, 7, 268]}, {\"domain\": {\"x\": [0.7875, 1.0], \"y\": [0.0, 0.425]}, \"hole\": 0.4, \"hoverinfo\": \"label+percent+name\", \"labels\": [\"\\uacf5\\uc5f0\", \"\\ub2e4\\ud050\\uba58\\ud130\\ub9ac\", \"\\uc608\\ub2a5\", \"\\uc560\\ub2c8\\uba54\\uc774\\uc158\", \"\\ub4dc\\ub77c\\ub9c8\"], \"name\": \"\\ud2f0\\ube59\", \"textinfo\": \"none\", \"type\": \"pie\", \"values\": [1, 47, 1218, 772, 1247]}],\n",
              "                        {\"annotations\": [{\"font\": {\"size\": 11}, \"showarrow\": false, \"text\": \"\\uc544\\ub9c8\\uc874\", \"x\": 0.09, \"y\": 0.8}, {\"font\": {\"size\": 11}, \"showarrow\": false, \"text\": \"\\ub514\\uc988\\ub2c8+\", \"x\": 0.371, \"y\": 0.8}, {\"font\": {\"size\": 11}, \"showarrow\": false, \"text\": \"\\uc6e8\\uc774\\ube0c\", \"x\": 0.63, \"y\": 0.8}, {\"font\": {\"size\": 11}, \"showarrow\": false, \"text\": \"\\ub137\\ud50c\\ub9ad\\uc2a4\", \"x\": 0.914, \"y\": 0.8}, {\"font\": {\"size\": 11}, \"showarrow\": false, \"text\": \"\\ucfe0\\ud321\", \"x\": 0.09, \"y\": 0.19}, {\"font\": {\"size\": 11}, \"showarrow\": false, \"text\": \"\\uc653\\ucc60\", \"x\": 0.371, \"y\": 0.19}, {\"font\": {\"size\": 11}, \"showarrow\": false, \"text\": \"seezn\", \"x\": 0.63, \"y\": 0.19}, {\"font\": {\"size\": 11}, \"showarrow\": false, \"text\": \"\\ud2f0\\ube59\", \"x\": 0.914, \"y\": 0.19}], \"template\": {\"data\": {\"bar\": [{\"error_x\": {\"color\": \"#2a3f5f\"}, \"error_y\": {\"color\": \"#2a3f5f\"}, \"marker\": {\"line\": {\"color\": \"#E5ECF6\", \"width\": 0.5}}, \"type\": \"bar\"}], \"barpolar\": [{\"marker\": {\"line\": {\"color\": \"#E5ECF6\", \"width\": 0.5}}, \"type\": \"barpolar\"}], \"carpet\": [{\"aaxis\": {\"endlinecolor\": \"#2a3f5f\", \"gridcolor\": \"white\", \"linecolor\": \"white\", \"minorgridcolor\": \"white\", \"startlinecolor\": \"#2a3f5f\"}, \"baxis\": {\"endlinecolor\": \"#2a3f5f\", \"gridcolor\": \"white\", \"linecolor\": \"white\", \"minorgridcolor\": \"white\", \"startlinecolor\": \"#2a3f5f\"}, \"type\": \"carpet\"}], \"choropleth\": [{\"colorbar\": {\"outlinewidth\": 0, \"ticks\": \"\"}, \"type\": \"choropleth\"}], \"contour\": [{\"colorbar\": {\"outlinewidth\": 0, \"ticks\": \"\"}, \"colorscale\": [[0.0, \"#0d0887\"], [0.1111111111111111, \"#46039f\"], [0.2222222222222222, \"#7201a8\"], [0.3333333333333333, \"#9c179e\"], [0.4444444444444444, \"#bd3786\"], [0.5555555555555556, \"#d8576b\"], [0.6666666666666666, \"#ed7953\"], [0.7777777777777778, \"#fb9f3a\"], [0.8888888888888888, \"#fdca26\"], [1.0, \"#f0f921\"]], \"type\": \"contour\"}], \"contourcarpet\": [{\"colorbar\": {\"outlinewidth\": 0, \"ticks\": \"\"}, \"type\": \"contourcarpet\"}], \"heatmap\": [{\"colorbar\": {\"outlinewidth\": 0, \"ticks\": \"\"}, \"colorscale\": [[0.0, \"#0d0887\"], [0.1111111111111111, \"#46039f\"], [0.2222222222222222, \"#7201a8\"], [0.3333333333333333, \"#9c179e\"], [0.4444444444444444, \"#bd3786\"], [0.5555555555555556, \"#d8576b\"], [0.6666666666666666, \"#ed7953\"], [0.7777777777777778, \"#fb9f3a\"], [0.8888888888888888, \"#fdca26\"], [1.0, \"#f0f921\"]], \"type\": \"heatmap\"}], \"heatmapgl\": [{\"colorbar\": {\"outlinewidth\": 0, \"ticks\": \"\"}, \"colorscale\": [[0.0, \"#0d0887\"], [0.1111111111111111, \"#46039f\"], [0.2222222222222222, \"#7201a8\"], [0.3333333333333333, \"#9c179e\"], [0.4444444444444444, \"#bd3786\"], [0.5555555555555556, \"#d8576b\"], [0.6666666666666666, \"#ed7953\"], [0.7777777777777778, \"#fb9f3a\"], [0.8888888888888888, \"#fdca26\"], [1.0, \"#f0f921\"]], \"type\": \"heatmapgl\"}], \"histogram\": [{\"marker\": {\"colorbar\": {\"outlinewidth\": 0, \"ticks\": \"\"}}, \"type\": \"histogram\"}], \"histogram2d\": [{\"colorbar\": {\"outlinewidth\": 0, \"ticks\": \"\"}, \"colorscale\": [[0.0, \"#0d0887\"], [0.1111111111111111, \"#46039f\"], [0.2222222222222222, \"#7201a8\"], [0.3333333333333333, \"#9c179e\"], [0.4444444444444444, \"#bd3786\"], [0.5555555555555556, \"#d8576b\"], [0.6666666666666666, \"#ed7953\"], [0.7777777777777778, \"#fb9f3a\"], [0.8888888888888888, \"#fdca26\"], [1.0, \"#f0f921\"]], \"type\": \"histogram2d\"}], \"histogram2dcontour\": [{\"colorbar\": {\"outlinewidth\": 0, \"ticks\": \"\"}, \"colorscale\": [[0.0, \"#0d0887\"], [0.1111111111111111, \"#46039f\"], [0.2222222222222222, \"#7201a8\"], [0.3333333333333333, \"#9c179e\"], [0.4444444444444444, \"#bd3786\"], [0.5555555555555556, \"#d8576b\"], [0.6666666666666666, \"#ed7953\"], [0.7777777777777778, \"#fb9f3a\"], [0.8888888888888888, \"#fdca26\"], [1.0, \"#f0f921\"]], \"type\": \"histogram2dcontour\"}], \"mesh3d\": [{\"colorbar\": {\"outlinewidth\": 0, \"ticks\": \"\"}, \"type\": \"mesh3d\"}], \"parcoords\": [{\"line\": {\"colorbar\": {\"outlinewidth\": 0, \"ticks\": \"\"}}, \"type\": \"parcoords\"}], \"pie\": [{\"automargin\": true, \"type\": \"pie\"}], \"scatter\": [{\"marker\": {\"colorbar\": {\"outlinewidth\": 0, \"ticks\": \"\"}}, \"type\": \"scatter\"}], \"scatter3d\": [{\"line\": {\"colorbar\": {\"outlinewidth\": 0, \"ticks\": \"\"}}, \"marker\": {\"colorbar\": {\"outlinewidth\": 0, \"ticks\": \"\"}}, \"type\": \"scatter3d\"}], \"scattercarpet\": [{\"marker\": {\"colorbar\": {\"outlinewidth\": 0, \"ticks\": \"\"}}, \"type\": \"scattercarpet\"}], \"scattergeo\": [{\"marker\": {\"colorbar\": {\"outlinewidth\": 0, \"ticks\": \"\"}}, \"type\": \"scattergeo\"}], \"scattergl\": [{\"marker\": {\"colorbar\": {\"outlinewidth\": 0, \"ticks\": \"\"}}, \"type\": \"scattergl\"}], \"scattermapbox\": [{\"marker\": {\"colorbar\": {\"outlinewidth\": 0, \"ticks\": \"\"}}, \"type\": \"scattermapbox\"}], \"scatterpolar\": [{\"marker\": {\"colorbar\": {\"outlinewidth\": 0, \"ticks\": \"\"}}, \"type\": \"scatterpolar\"}], \"scatterpolargl\": [{\"marker\": {\"colorbar\": {\"outlinewidth\": 0, \"ticks\": \"\"}}, \"type\": \"scatterpolargl\"}], \"scatterternary\": [{\"marker\": {\"colorbar\": {\"outlinewidth\": 0, \"ticks\": \"\"}}, \"type\": \"scatterternary\"}], \"surface\": [{\"colorbar\": {\"outlinewidth\": 0, \"ticks\": \"\"}, \"colorscale\": [[0.0, \"#0d0887\"], [0.1111111111111111, \"#46039f\"], [0.2222222222222222, \"#7201a8\"], [0.3333333333333333, \"#9c179e\"], [0.4444444444444444, \"#bd3786\"], [0.5555555555555556, \"#d8576b\"], [0.6666666666666666, \"#ed7953\"], [0.7777777777777778, \"#fb9f3a\"], [0.8888888888888888, \"#fdca26\"], [1.0, \"#f0f921\"]], \"type\": \"surface\"}], \"table\": [{\"cells\": {\"fill\": {\"color\": \"#EBF0F8\"}, \"line\": {\"color\": \"white\"}}, \"header\": {\"fill\": {\"color\": \"#C8D4E3\"}, \"line\": {\"color\": \"white\"}}, \"type\": \"table\"}]}, \"layout\": {\"annotationdefaults\": {\"arrowcolor\": \"#2a3f5f\", \"arrowhead\": 0, \"arrowwidth\": 1}, \"coloraxis\": {\"colorbar\": {\"outlinewidth\": 0, \"ticks\": \"\"}}, \"colorscale\": {\"diverging\": [[0, \"#8e0152\"], [0.1, \"#c51b7d\"], [0.2, \"#de77ae\"], [0.3, \"#f1b6da\"], [0.4, \"#fde0ef\"], [0.5, \"#f7f7f7\"], [0.6, \"#e6f5d0\"], [0.7, \"#b8e186\"], [0.8, \"#7fbc41\"], [0.9, \"#4d9221\"], [1, \"#276419\"]], \"sequential\": [[0.0, \"#0d0887\"], [0.1111111111111111, \"#46039f\"], [0.2222222222222222, \"#7201a8\"], [0.3333333333333333, \"#9c179e\"], [0.4444444444444444, \"#bd3786\"], [0.5555555555555556, \"#d8576b\"], [0.6666666666666666, \"#ed7953\"], [0.7777777777777778, \"#fb9f3a\"], [0.8888888888888888, \"#fdca26\"], [1.0, \"#f0f921\"]], \"sequentialminus\": [[0.0, \"#0d0887\"], [0.1111111111111111, \"#46039f\"], [0.2222222222222222, \"#7201a8\"], [0.3333333333333333, \"#9c179e\"], [0.4444444444444444, \"#bd3786\"], [0.5555555555555556, \"#d8576b\"], [0.6666666666666666, \"#ed7953\"], [0.7777777777777778, \"#fb9f3a\"], [0.8888888888888888, \"#fdca26\"], [1.0, \"#f0f921\"]]}, \"colorway\": [\"#636efa\", \"#EF553B\", \"#00cc96\", \"#ab63fa\", \"#FFA15A\", \"#19d3f3\", \"#FF6692\", \"#B6E880\", \"#FF97FF\", \"#FECB52\"], \"font\": {\"color\": \"#2a3f5f\"}, \"geo\": {\"bgcolor\": \"white\", \"lakecolor\": \"white\", \"landcolor\": \"#E5ECF6\", \"showlakes\": true, \"showland\": true, \"subunitcolor\": \"white\"}, \"hoverlabel\": {\"align\": \"left\"}, \"hovermode\": \"closest\", \"mapbox\": {\"style\": \"light\"}, \"paper_bgcolor\": \"white\", \"plot_bgcolor\": \"#E5ECF6\", \"polar\": {\"angularaxis\": {\"gridcolor\": \"white\", \"linecolor\": \"white\", \"ticks\": \"\"}, \"bgcolor\": \"#E5ECF6\", \"radialaxis\": {\"gridcolor\": \"white\", \"linecolor\": \"white\", \"ticks\": \"\"}}, \"scene\": {\"xaxis\": {\"backgroundcolor\": \"#E5ECF6\", \"gridcolor\": \"white\", \"gridwidth\": 2, \"linecolor\": \"white\", \"showbackground\": true, \"ticks\": \"\", \"zerolinecolor\": \"white\"}, \"yaxis\": {\"backgroundcolor\": \"#E5ECF6\", \"gridcolor\": \"white\", \"gridwidth\": 2, \"linecolor\": \"white\", \"showbackground\": true, \"ticks\": \"\", \"zerolinecolor\": \"white\"}, \"zaxis\": {\"backgroundcolor\": \"#E5ECF6\", \"gridcolor\": \"white\", \"gridwidth\": 2, \"linecolor\": \"white\", \"showbackground\": true, \"ticks\": \"\", \"zerolinecolor\": \"white\"}}, \"shapedefaults\": {\"line\": {\"color\": \"#2a3f5f\"}}, \"ternary\": {\"aaxis\": {\"gridcolor\": \"white\", \"linecolor\": \"white\", \"ticks\": \"\"}, \"baxis\": {\"gridcolor\": \"white\", \"linecolor\": \"white\", \"ticks\": \"\"}, \"bgcolor\": \"#E5ECF6\", \"caxis\": {\"gridcolor\": \"white\", \"linecolor\": \"white\", \"ticks\": \"\"}}, \"title\": {\"x\": 0.05}, \"xaxis\": {\"automargin\": true, \"gridcolor\": \"white\", \"linecolor\": \"white\", \"ticks\": \"\", \"title\": {\"standoff\": 15}, \"zerolinecolor\": \"white\", \"zerolinewidth\": 2}, \"yaxis\": {\"automargin\": true, \"gridcolor\": \"white\", \"linecolor\": \"white\", \"ticks\": \"\", \"title\": {\"standoff\": 15}, \"zerolinecolor\": \"white\", \"zerolinewidth\": 2}}}, \"title\": {\"text\": \"\\uc601\\uc0c1\\ub9e4\\uccb4\"}},\n",
              "                        {\"responsive\": true}\n",
              "                    ).then(function(){\n",
              "                            \n",
              "var gd = document.getElementById('0ebacd23-7257-44bd-9ea1-e25e8bab6ac0');\n",
              "var x = new MutationObserver(function (mutations, observer) {{\n",
              "        var display = window.getComputedStyle(gd).display;\n",
              "        if (!display || display === 'none') {{\n",
              "            console.log([gd, 'removed!']);\n",
              "            Plotly.purge(gd);\n",
              "            observer.disconnect();\n",
              "        }}\n",
              "}});\n",
              "\n",
              "// Listen for the removal of the full notebook cells\n",
              "var notebookContainer = gd.closest('#notebook-container');\n",
              "if (notebookContainer) {{\n",
              "    x.observe(notebookContainer, {childList: true});\n",
              "}}\n",
              "\n",
              "// Listen for the clearing of the current output cell\n",
              "var outputEl = gd.closest('.output');\n",
              "if (outputEl) {{\n",
              "    x.observe(outputEl, {childList: true});\n",
              "}}\n",
              "\n",
              "                        })\n",
              "                };\n",
              "                \n",
              "            </script>\n",
              "        </div>\n",
              "</body>\n",
              "</html>"
            ]
          },
          "metadata": {}
        }
      ]
    }
  ]
}