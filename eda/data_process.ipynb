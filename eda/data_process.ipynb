{
  "nbformat": 4,
  "nbformat_minor": 0,
  "metadata": {
    "colab": {
      "name": "data_process.ipynb",
      "private_outputs": true,
      "provenance": [],
      "toc_visible": true,
      "mount_file_id": "1HpjibKW60XfFcpKHBxA5UFAPXc2f-jPb",
      "authorship_tag": "ABX9TyO6jbqu8CutWM31etyuM5DE",
      "include_colab_link": true
    },
    "kernelspec": {
      "name": "python3",
      "display_name": "Python 3"
    },
    "language_info": {
      "name": "python"
    }
  },
  "cells": [
    {
      "cell_type": "markdown",
      "metadata": {
        "id": "view-in-github",
        "colab_type": "text"
      },
      "source": [
        "<a href=\"https://colab.research.google.com/github/world970511/elice_OTT/blob/master/eda/data_process.ipynb\" target=\"_parent\"><img src=\"https://colab.research.google.com/assets/colab-badge.svg\" alt=\"Open In Colab\"/></a>"
      ]
    },
    {
      "cell_type": "code",
      "execution_count": null,
      "metadata": {
        "id": "tLwa-KtUPf2o"
      },
      "outputs": [],
      "source": [
        "import pandas as pd\n",
        "import numpy as np\n",
        "import re\n",
        "import urllib.request"
      ]
    },
    {
      "cell_type": "code",
      "source": [
        "#데이터 다운로드\n",
        "urllib.request.urlretrieve(\"https://raw.githubusercontent.com/world970511/elice_OTT/master/dataset/kinolight_all_data.csv\",\n",
        "                        filename=\"OTT.csv\")\n",
        "data = pd.read_csv('OTT.csv',encoding='utf-8')\n",
        "data.info"
      ],
      "metadata": {
        "id": "qnAbwc7wPyby"
      },
      "execution_count": null,
      "outputs": []
    },
    {
      "cell_type": "code",
      "source": [
        "#중복제거 및 기타 제거\n",
        "for i in ['genre','country','provider']:\n",
        "  data[i]=data[i].apply(lambda x:re.sub(r'\\([^)]*\\)', '',x.replace('[','').replace(']','').replace(\"'\",'').replace(\"'\",'')))\n",
        "  data[i]=data[i].apply(lambda x:re.sub(r' ', '',x))\n",
        "  data[i]=data[i].apply(lambda x: ','.join(set(x.strip().split(','))))\n",
        "\n",
        "for i in ['cast','director']:\n",
        "    data[i]=data[i].apply(lambda x:re.sub(r'\\([^)]*\\)', '',x.replace('[','').replace(']','').replace(\"'\",'').replace(\"'\",'')))\n",
        "    data[i]=data[i].apply(lambda x: x.replace(', ',',').replace(' ,',','))\n",
        "\n",
        "data.head(5)"
      ],
      "metadata": {
        "id": "iFz6jclhP2ed"
      },
      "execution_count": null,
      "outputs": []
    },
    {
      "cell_type": "code",
      "source": [
        "#불필요한 행 제거\n",
        "data= data[data['title']!='title']\n",
        "\n",
        "#년도 정수형으로 변경\n",
        "data['year']=data['year'].astype('float').astype('Int64')\n",
        "\n",
        "#제작미정,시사/교양,기타(장르가 아니라 country로 가있음;;) 정리\n",
        "# 제작미정인 경우 풀릴 예정인 곳과 아닌 곳이 있고 양이 너무 많아서 그냥 장르로 변경함\n",
        "def r_ch(s,i):\n",
        "  li=s.split(',')\n",
        "  if i in li: \n",
        "    li.remove(i)\n",
        "  return ','.join (li)\n",
        "\n",
        "\n",
        "def add_ch(s,i):\n",
        "  li=s.split(' ')\n",
        "  if i not in li: li+=[i]\n",
        "  return ' '.join (li)\n",
        "\n",
        "li=['미정','시사/교양','기타']\n",
        "for i in li:\n",
        "    d=data.loc[data[\"country\"].str.contains(i)]\n",
        "    data=data.loc[data[\"country\"].str.contains(i)==False]\n",
        "\n",
        "    d['country']=d['country'].apply(lambda x:r_ch(x,i))\n",
        "    d['genre']=d['genre'].apply(lambda x:add_ch(x,i))\n",
        "\n",
        "    data=pd.concat([data,d])\n",
        "\n",
        "data"
      ],
      "metadata": {
        "id": "QNIYffhMP51n"
      },
      "execution_count": null,
      "outputs": []
    },
    {
      "cell_type": "code",
      "source": [
        "#독점 및 오리지널 표시 및 필요한 provider데이터 외에 드랍\n",
        "\n",
        "##필요한 provider외에 나머지 드랍\n",
        "remove_provider_list=['네이버시리즈온', 'GooglePlay무비', '씨네폭스','아마존프라임비디오','AppleTV+']\n",
        "\n",
        "#provider 리스트 전환\n",
        "data['provider']=data['provider'].apply(lambda x: x.split(','))\n",
        "\n",
        "def r_p(x,i):\n",
        "  if i in x : \n",
        "    x.remove(i)\n",
        "  return x\n",
        "\n",
        "for i in remove_provider_list:\n",
        "  data['provider']=data['provider'].apply(lambda x:r_p(x,i))\n",
        "\n",
        "data['provider'].dropna()\n",
        "\n",
        "#독점 여부\n",
        "data.loc[:,'origin']=data['provider'].apply(lambda x: True if len(x)==1 else False)\n",
        "\n",
        "#provider 다시 문자열 전환\n",
        "data['provider']=data['provider'].apply(lambda x: ','.join(x))\n",
        "\n",
        "data.to_csv('/content/drive/MyDrive/project/엘리스 OTT 분석/data/all_DATA_ processing.csv',mode='w', index=False)\n",
        "data.head(5)"
      ],
      "metadata": {
        "id": "jNr7Fki6P-8W"
      },
      "execution_count": null,
      "outputs": []
    },
    {
      "cell_type": "code",
      "source": [
        "#이미지 추천 데이터 다운로드\n",
        "urllib.request.urlretrieve(\"https://raw.githubusercontent.com/world970511/elice_OTT/master/dataset/kinolight_img_data.csv\",\n",
        "                        filename=\"OTT_img.csv\")\n",
        "data = pd.read_csv('OTT_img.csv',encoding='utf-8')\n",
        "data.info"
      ],
      "metadata": {
        "id": "SsmTTnsvQfdj"
      },
      "execution_count": null,
      "outputs": []
    },
    {
      "cell_type": "code",
      "source": [
        "#중복제거 및 기타 제거\n",
        "for i in ['genre','country','provider']:\n",
        "  data[i]=data[i].apply(lambda x:re.sub(r'\\([^)]*\\)', '',x.replace('[','').replace(']','').replace(\"'\",'').replace(\"'\",'')))\n",
        "  data[i]=data[i].apply(lambda x:re.sub(r' ', '',x))\n",
        "  data[i]=data[i].apply(lambda x: ','.join(set(x.strip().split(','))))\n",
        "\n",
        "for i in ['cast','director']:\n",
        "    data[i]=data[i].apply(lambda x:re.sub(r'\\([^)]*\\)', '',x.replace('[','').replace(']','').replace(\"'\",'').replace(\"'\",'')))\n",
        "    data[i]=data[i].apply(lambda x: x.replace(', ',',').replace(' ,',','))\n",
        "\n",
        "data.head(5)"
      ],
      "metadata": {
        "id": "OVJjAiBWQqPh"
      },
      "execution_count": null,
      "outputs": []
    },
    {
      "cell_type": "code",
      "source": [
        "#불필요한 행 제거\n",
        "data= data[data['title']!='title']\n",
        "\n",
        "#년도 정수형으로 변경\n",
        "data['year']=data['year'].astype('float').astype('Int64')\n",
        "\n",
        "#제작미정,시사/교양,기타(장르가 아니라 country로 가있음;;) 정리\n",
        "# 제작미정인 경우 풀릴 예정인 곳과 아닌 곳이 있고 양이 너무 많아서 그냥 장르로 변경함\n",
        "def r_ch(s,i):\n",
        "  li=s.split(',')\n",
        "  if i in li: \n",
        "    li.remove(i)\n",
        "  return ','.join (li)\n",
        "\n",
        "\n",
        "def add_ch(s,i):\n",
        "  li=s.split(' ')\n",
        "  if i not in li: li+=[i]\n",
        "  return ' '.join (li)\n",
        "\n",
        "li=['미정','시사/교양','기타']\n",
        "for i in li:\n",
        "    d=data.loc[data[\"country\"].str.contains(i)]\n",
        "    data=data.loc[data[\"country\"].str.contains(i)==False]\n",
        "\n",
        "    d['country']=d['country'].apply(lambda x:r_ch(x,i))\n",
        "    d['genre']=d['genre'].apply(lambda x:add_ch(x,i))\n",
        "\n",
        "    data=pd.concat([data,d])\n",
        "\n",
        "data"
      ],
      "metadata": {
        "id": "CgZcpl-zQu0n"
      },
      "execution_count": null,
      "outputs": []
    },
    {
      "cell_type": "code",
      "source": [
        "#독점 및 오리지널 표시 및 필요한 provider데이터 외에 드랍\n",
        "\n",
        "##필요한 provider외에 나머지 드랍\n",
        "remove_provider_list=['네이버시리즈온', 'GooglePlay무비', '씨네폭스','아마존프라임비디오','AppleTV+']\n",
        "\n",
        "#provider 리스트 전환\n",
        "data['provider']=data['provider'].apply(lambda x: x.split(','))\n",
        "\n",
        "def r_p(x,i):\n",
        "  if i in x : \n",
        "    x.remove(i)\n",
        "  return x\n",
        "\n",
        "for i in remove_provider_list:\n",
        "  data['provider']=data['provider'].apply(lambda x:r_p(x,i))\n",
        "\n",
        "data['provider'].dropna()\n",
        "\n",
        "#독점 여부\n",
        "data.loc[:,'origin']=data['provider'].apply(lambda x: True if len(x)==1 else False)\n",
        "\n",
        "#provider 다시 문자열 전환\n",
        "data['provider']=data['provider'].apply(lambda x: ','.join(x))\n",
        "\n",
        "data.to_csv('/content/drive/MyDrive/project/엘리스 OTT 분석/data/all_img_ processing.csv',mode='w', index=False)\n",
        "data.head(5)"
      ],
      "metadata": {
        "id": "xW2bskQOQ0Ju"
      },
      "execution_count": null,
      "outputs": []
    }
  ]
}