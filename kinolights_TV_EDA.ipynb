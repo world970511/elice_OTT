{
  "nbformat": 4,
  "nbformat_minor": 0,
  "metadata": {
    "colab": {
      "name": "kinolights_TV_EDA",
      "private_outputs": true,
      "provenance": [],
      "collapsed_sections": [],
      "mount_file_id": "1KSk80LTtEfRXxGh-_0_yhfDkAcKP3Uaa",
      "authorship_tag": "ABX9TyPJ1iXR8sTCuUoSmQBI61Vh",
      "include_colab_link": true
    },
    "kernelspec": {
      "name": "python3",
      "display_name": "Python 3"
    },
    "language_info": {
      "name": "python"
    },
    "accelerator": "GPU"
  },
  "cells": [
    {
      "cell_type": "markdown",
      "metadata": {
        "id": "view-in-github",
        "colab_type": "text"
      },
      "source": [
        "<a href=\"https://colab.research.google.com/github/world970511/elice_OTT/blob/master/kinolights_TV_EDA.ipynb\" target=\"_parent\"><img src=\"https://colab.research.google.com/assets/colab-badge.svg\" alt=\"Open In Colab\"/></a>"
      ]
    },
    {
      "cell_type": "markdown",
      "source": [
        "\n",
        "#**OTT 서비스 (TV) 분석**"
      ],
      "metadata": {
        "id": "Yj4cO1WoGJ02"
      }
    },
    {
      "cell_type": "code",
      "execution_count": null,
      "metadata": {
        "id": "1EzInUZhkBhR"
      },
      "outputs": [],
      "source": [
        "import pandas as pd\n",
        "import numpy as np\n",
        "import re\n",
        "import urllib.request"
      ]
    },
    {
      "cell_type": "code",
      "source": [
        "!pip install plotly"
      ],
      "metadata": {
        "id": "xGjm0YrwWqfJ"
      },
      "execution_count": null,
      "outputs": []
    },
    {
      "cell_type": "markdown",
      "source": [
        "##**데이터 전처리**"
      ],
      "metadata": {
        "id": "kmS-lO-kGXV7"
      }
    },
    {
      "cell_type": "code",
      "source": [
        "#데이터 다운로드\n",
        "urllib.request.urlretrieve(\"https://raw.githubusercontent.com/world970511/elice_OTT/master/dataset/kinolight_all_data.csv\",\n",
        "                        filename=\"OTT.csv\")\n",
        "data = pd.read_csv('OTT.csv',encoding='utf-8')\n",
        "tv_data=data.loc[data.kind == 'TV'] # kind가 tv인 것만 사용\n",
        "tv_data.info"
      ],
      "metadata": {
        "id": "ddc2h_f7Gek9"
      },
      "execution_count": null,
      "outputs": []
    },
    {
      "cell_type": "code",
      "source": [
        "#중복제거 및 기타 제거\n",
        "li=['genre','country','cast','director','provider',]\n",
        "\n",
        "for i in li:\n",
        "  tv_data[i]=tv_data[i].apply(lambda x:re.sub(r'\\([^)]*\\)', '',x.replace('[','').replace(']','').replace(\"'\",'').replace(\"'\",'')))\n",
        "  tv_data[i]=tv_data[i].apply(lambda x:re.sub(r' ', '',x))\n",
        "  tv_data[i]=tv_data[i].apply(lambda x: ','.join(set(x.strip().split(','))))\n",
        "\n",
        "tv_data.head(5)"
      ],
      "metadata": {
        "id": "oYCga7FSLE88"
      },
      "execution_count": null,
      "outputs": []
    },
    {
      "cell_type": "code",
      "source": [
        "#불필요한 행 제거\n",
        "tv_data= tv_data[tv_data['title']!='title']\n",
        "\n",
        "#년도 정수형으로 변경\n",
        "tv_data['year']=tv_data['year'].astype('float').astype('Int64')\n",
        "\n",
        "#제작미정,시사/교양,기타(장르가 아니라 country로 가있음;;) 정리\n",
        "# 제작미정인 경우 풀릴 예정인 곳과 아닌 곳이 있고 양이 너무 많아서 그냥 장르로 변경함\n",
        "def r_ch(s,i):\n",
        "  li=s.split(',')\n",
        "  if i in li: \n",
        "    li.remove(i)\n",
        "  return ','.join (li)\n",
        "\n",
        "\n",
        "def add_ch(s,i):\n",
        "  li=s.split(',')\n",
        "  if i not in li: li+=[i]\n",
        "  return ','.join (li)\n",
        "\n",
        "li=['미정','시사/교양','기타']\n",
        "for i in li:\n",
        "    d=tv_data.loc[tv_data[\"country\"].str.contains(i)]\n",
        "    tv_data=tv_data.loc[tv_data[\"country\"].str.contains(i)==False]\n",
        "\n",
        "    d['country']=d['country'].apply(lambda x:r_ch(x,i))\n",
        "    d['genre']=d['genre'].apply(lambda x:add_ch(x,i))\n",
        "\n",
        "    tv_data=pd.concat([tv_data,d])\n",
        "\n",
        "tv_data"
      ],
      "metadata": {
        "id": "cMaLNrWNLFDy"
      },
      "execution_count": null,
      "outputs": []
    },
    {
      "cell_type": "markdown",
      "source": [
        "##**데이터셋**\n",
        "- 키노라이츠(https://m.kinolights.com/) 12월 28일 기준 인기순으로 크롤링한 데이터(tv쇼만)\n",
        "- title, year, kind, KMRB, genre, country, cast, director, runtime(min), provider 으로 구성\n",
        "-provider: '쿠팡플레이', '왓챠', '라프텔', '아마존프라임비디오', '티빙', '웨이브', '넷플릭스', '네이버시리즈온', '디즈니+', 'AppleTV+', 'seezn'\n",
        "- 총 11428개 데이터\n"
      ],
      "metadata": {
        "id": "3BAzbaQmZYYw"
      }
    },
    {
      "cell_type": "code",
      "source": [
        "tv_data.info()\n",
        "#info"
      ],
      "metadata": {
        "id": "sWMaewV6dHJ5"
      },
      "execution_count": null,
      "outputs": []
    },
    {
      "cell_type": "code",
      "source": [
        "tv_data.tail()"
      ],
      "metadata": {
        "id": "Xs6l3kTVkHrz"
      },
      "execution_count": null,
      "outputs": []
    },
    {
      "cell_type": "code",
      "source": [
        "#데이터에 적힌 provider 개수\n",
        "\n",
        "provider_list=[]\n",
        "li=tv_data['provider'].apply(lambda x: x.split(','))\n",
        "for i in li:\n",
        "    if i not in provider_list:\n",
        "      provider_list+=i\n",
        "provider_list=list(set(provider_list))\n",
        "print(provider_list)"
      ],
      "metadata": {
        "id": "4z4lL9HQkwbo"
      },
      "execution_count": null,
      "outputs": []
    },
    {
      "cell_type": "markdown",
      "source": [
        "##**분석**"
      ],
      "metadata": {
        "id": "UA2ftXrPkRR4"
      }
    },
    {
      "cell_type": "markdown",
      "source": [
        "###**각 플랫폼 당 tv콘텐츠 개수**"
      ],
      "metadata": {
        "id": "0l8pDiGrh4V3"
      }
    },
    {
      "cell_type": "code",
      "source": [
        "#독점 및 오리지널 표시\n",
        "\n",
        "tv_data['provider']=tv_data['provider'].apply(lambda x: x.split(','))#provider 리스트 전환\n",
        "tv_data.loc[:,'origin']=tv_data['provider'].apply(lambda x: True if len(x)==1 else False)#독점 여부\n",
        "tv_data['provider']=tv_data['provider'].apply(lambda x: ','.join(x))#provider 다시 문자열 전환"
      ],
      "metadata": {
        "id": "nAXv0MwG6WxH"
      },
      "execution_count": null,
      "outputs": []
    },
    {
      "cell_type": "code",
      "source": [
        "tv_data.info"
      ],
      "metadata": {
        "id": "a0V6g4p2ak_a"
      },
      "execution_count": null,
      "outputs": []
    },
    {
      "cell_type": "code",
      "source": [
        "#개별 플랫폼 관련 데이터 전체 저장\n",
        "for i in provider_list:\n",
        "  tv_data.loc[tv_data[\"provider\"].str.contains(i)].to_csv('/content/drive/MyDrive/project/엘리스 OTT 분석/data/'+i+'_all.csv',mode='w', index=False)"
      ],
      "metadata": {
        "id": "oNkX66DtiCg-"
      },
      "execution_count": null,
      "outputs": []
    },
    {
      "cell_type": "code",
      "source": [
        "#시각화 라이브러리 호출\n",
        "import plotly.express as px\n",
        "\n",
        "#신규 데이터프레임\n",
        "df= pd.DataFrame(columns=['provider','독점/오리지널','count','percent'])\n",
        "for i in provider_list:\n",
        "  d=tv_data.loc[tv_data[\"provider\"].str.contains(i)]\n",
        "  df.loc[len(df)]=[i,False,len(d[d['origin']==False]),len(d[d['origin']==False])*100/len(d)]\n",
        "  df.loc[len(df)]=[i,True,len(d[d['origin']==True]),len(d[d['origin']==True])*100/len(d)]\n",
        "\n",
        "#시각화 \n",
        "fig = px.bar(df, x=\"provider\", y=\"count\",hover_data=['percent'], color=\"독점/오리지널\", title=\"독점/오리지널 표기\")\n",
        "fig.show()"
      ],
      "metadata": {
        "id": "jlFyreoAchi8"
      },
      "execution_count": null,
      "outputs": []
    },
    {
      "cell_type": "markdown",
      "source": [
        "###**각 플랫폼 별 KMRB(관람가)**\n",
        "- 전 연령대 관람가능 콘텐츠/성인용 콘텐츠의 양 파악"
      ],
      "metadata": {
        "id": "gTaysqdz69Bi"
      }
    },
    {
      "cell_type": "code",
      "source": [
        "#KMRB가 NaN인 항목 제거\n",
        "kmrb=tv_data\n",
        "print('제거 이전:',len(kmrb))\n",
        "kmrb = kmrb.dropna(subset = ['KMRB'], how = 'any', axis=0)\n",
        "print('제거 이후:',len(kmrb))"
      ],
      "metadata": {
        "id": "42Jb7nYJ7Njy"
      },
      "execution_count": null,
      "outputs": []
    },
    {
      "cell_type": "code",
      "source": [
        "#kmrb 리스트\n",
        "kmrb_list=[]\n",
        "li=kmrb['KMRB']\n",
        "for i in li:\n",
        "    if i not in kmrb_list:\n",
        "      kmrb_list.append(i)\n",
        "kmrb_list=list(set(kmrb_list))\n",
        "print(kmrb_list)"
      ],
      "metadata": {
        "id": "Qn13Lf3F_fPa"
      },
      "execution_count": null,
      "outputs": []
    },
    {
      "cell_type": "code",
      "source": [
        "#시각화 라이브러리 호출\n",
        "import plotly.express as px\n",
        "\n",
        "#신규 데이터프레임\n",
        "df2= pd.DataFrame(columns=['provider','관람가','count','percent'])\n",
        "\n",
        "for i in provider_list:\n",
        "  d=kmrb.loc[kmrb[\"provider\"].str.contains(i)]\n",
        "  for i2 in kmrb_list:\n",
        "      df2.loc[len(df2)]=[i,i2,len(d[d['KMRB']==i2]),len(d[d['KMRB']==i2])*100/len(d)]\n",
        "\n",
        "#시각화 \n",
        "fig = px.bar(df2, x=\"provider\", y=\"count\",hover_data=['percent'], color=\"관람가\", title=\"콘텐츠 관람가\")\n",
        "fig.show()"
      ],
      "metadata": {
        "id": "HTlqC-FeBXV7"
      },
      "execution_count": null,
      "outputs": []
    },
    {
      "cell_type": "markdown",
      "source": [
        "###**각 플랫폼 별 콘텐츠 제작 년도**\n",
        "- 2021을 기준으로 최신 콘텐츠가 많은지 오래된 콘텐츠가 많은지 파악"
      ],
      "metadata": {
        "id": "VRh4rYdUkN5F"
      }
    },
    {
      "cell_type": "code",
      "source": [
        "#year가 NaN인 항목 제거\n",
        "year_d=tv_data\n",
        "print('제거 이전:',len(year_d))\n",
        "year_d = year_d.dropna(subset = ['year'], how = 'any', axis=0)\n",
        "print('제거 이후:',len(year_d))"
      ],
      "metadata": {
        "id": "l9ojAqseHbPe"
      },
      "execution_count": null,
      "outputs": []
    },
    {
      "cell_type": "code",
      "source": [
        "#시각화 라이브러리 호출\n",
        "import plotly.express as px\n",
        "\n",
        "#신규 데이터프레임\n",
        "df3= pd.DataFrame(columns=['provider','제작년도','count','percent'])\n",
        "\n",
        "for i in provider_list:\n",
        "  d=year_d.loc[year_d[\"provider\"].str.contains(i)]\n",
        "  df3.loc[len(df3)]=[i,'2021 이전',len(d[d['year']<2021]),len(d[d['year']<2021])*100/len(d)]\n",
        "  df3.loc[len(df3)]=[i,'2021 이후',len(d[d['year']>=2021]),len(d[d['year']>=2021])*100/len(d)]\n",
        "\n",
        "#시각화 \n",
        "fig = px.bar(df3, x=\"provider\", y=\"count\",hover_data=['percent'], color=\"제작년도\", title=\"근 1년 내 콘텐츠 비율\")\n",
        "fig.show()"
      ],
      "metadata": {
        "id": "oOwRqLb1IVig"
      },
      "execution_count": null,
      "outputs": []
    },
    {
      "cell_type": "markdown",
      "source": [
        "###**플랫폼 별 콘텐츠 제작 국가**\n",
        "- 해외/국내 콘텐츠 비율 파악"
      ],
      "metadata": {
        "id": "w54YJpco8WkC"
      }
    },
    {
      "cell_type": "code",
      "source": [
        "#country가 NaN인 항목 제거\n",
        "country=tv_data\n",
        "print('제거 이전:',len(country))\n",
        "country = country.dropna(subset = ['country'], how = 'any', axis=0)\n",
        "print('제거 이후:',len(country))"
      ],
      "metadata": {
        "id": "m3gYLPnadNVi"
      },
      "execution_count": null,
      "outputs": []
    },
    {
      "cell_type": "code",
      "source": [
        "#데이터에 적힌 country 목록\n",
        "\n",
        "country_list=[]\n",
        "li=country['country'].apply(lambda x: x.split(','))\n",
        "for i in li:\n",
        "    if i not in country_list:\n",
        "      country_list+=i\n",
        "country_list=list(set(country_list))\n",
        "country_list.remove('')\n",
        "print(country_list)"
      ],
      "metadata": {
        "id": "ZunzBBy_KpMf"
      },
      "execution_count": null,
      "outputs": []
    },
    {
      "cell_type": "code",
      "source": [
        "#국내/해외로 구분\n",
        "\n",
        "#시각화 라이브러리 호출\n",
        "import plotly.express as px\n",
        "\n",
        "#신규 데이터프레임\n",
        "df4= pd.DataFrame(columns=['provider','국내/해외','count','percent'])\n",
        "for i in provider_list:\n",
        "  d=tv_data.loc[tv_data['provider'].str.contains(i)]\n",
        "  ko=len(d[d['country'].str.contains('한국')])\n",
        "  n_ko=len(d[d['country'].str.contains('한국')==False])\n",
        "  df4.loc[len(df4)]=[i,'국내',ko,ko*100/len(d)]\n",
        "  df4.loc[len(df4)]=[i,'해외',n_ko,n_ko*100/len(d)]\n",
        "\n",
        "#시각화 \n",
        "fig = px.bar(df4, x=\"provider\", y=\"count\",hover_data=['percent'], color=\"국내/해외\", title=\"국내/해외\")\n",
        "fig.show()"
      ],
      "metadata": {
        "id": "bekvOtCedkNg"
      },
      "execution_count": null,
      "outputs": []
    },
    {
      "cell_type": "markdown",
      "source": [
        "###**각 플랫폼 별 인기 장르**\n",
        "- 플랫폼 별 인기 장르(전체)\n",
        "-\n",
        "- 애니메이션의 경우 일본 애니메이션/ 서양 애니메이션 구분"
      ],
      "metadata": {
        "id": "aXJfljjQiGGy"
      }
    },
    {
      "cell_type": "code",
      "source": [
        "#genre가 NaN인 항목 제거\n",
        "genre=tv_data\n",
        "print('제거 이전:',len(genre))\n",
        "country = country.dropna(subset = ['genre'], how = 'any', axis=0)\n",
        "print('제거 이후:',len(genre))"
      ],
      "metadata": {
        "id": "fJrJKhtCs0zH"
      },
      "execution_count": null,
      "outputs": []
    },
    {
      "cell_type": "code",
      "source": [
        "#데이터에 적힌 genre 목록\n",
        "genre_list=[]\n",
        "li=genre['genre'].apply(lambda x: x.split(','))\n",
        "for i in li:\n",
        "    if i not in genre_list:\n",
        "      genre_list+=i\n",
        "genre_list=list(set(genre_list))\n",
        "genre_list.remove('')\n",
        "print(genre_list)"
      ],
      "metadata": {
        "id": "-k3Fj59QsZNB"
      },
      "execution_count": null,
      "outputs": []
    },
    {
      "cell_type": "code",
      "source": [
        "#시각화 라이브러리 호출\n",
        "import plotly.express as px\n",
        "\n",
        "#신규 데이터프레임\n",
        "df5= pd.DataFrame(columns=['provider','장르','count','percent'])\n",
        "for i in provider_list:\n",
        "  d=genre.loc[genre['provider'].str.contains(i)]\n",
        "  for i2 in genre_list[1:]:\n",
        "    g=len(d[d['genre'].str.contains(i2)])\n",
        "    df5.loc[len(df5)]=[i,i2,g,g*100/len(d)]\n",
        "\n",
        "#시각화 \n",
        "fig = px.bar(df5, x=\"provider\", y=\"count\",hover_data=['percent'], color=\"장르\", title=\"플랫폼 별 인기 장르(전체)\")\n",
        "fig.show()"
      ],
      "metadata": {
        "id": "tBFfL-lpuV76"
      },
      "execution_count": null,
      "outputs": []
    },
    {
      "cell_type": "code",
      "source": [
        "#[애니메이션,다큐멘터리,미정,시사/교양,드라마,예능,공연]을 제외한 장르별 비중\n",
        "\n",
        "li=['애니메이션','다큐멘터리','미정','기타','시사/교양','예능','공연','드라마']\n",
        "df5_2=df5.loc[df5['장르'].isin(li)==False]\n",
        "\n",
        "\"\"\"각 플랫폼 별로 시각화=[아마존프라임비디오,디즈니+,웨이브,넷플릭스,쿠팡플레이,왓챠,seezn,티빙]만\n",
        "라프텔은 99퍼가 애니메이션이라 제외\n",
        "appletv와 네이버시리즈온은 데이터 양이 적어 제외시킴\"\"\"\n",
        "\n",
        "#라이브러리 호출\n",
        "import plotly.graph_objects as go\n",
        "from plotly.subplots import make_subplots\n",
        "\n",
        "ama=df5_2.loc[df5_2['provider'].str.contains('아마존프라임비디오')]\n",
        "di=df5_2.loc[df5_2['provider'].str.contains('디즈니+')]\n",
        "wave=df5_2.loc[df5_2['provider'].str.contains('웨이브')]\n",
        "net=df5_2.loc[df5_2['provider'].str.contains('넷플릭스')]\n",
        "coo=df5_2.loc[df5_2['provider'].str.contains('쿠팡플레이')]\n",
        "wat=df5_2.loc[df5_2['provider'].str.contains('왓챠')]\n",
        "see=df5_2.loc[df5_2['provider'].str.contains('seezn')]\n",
        "ti=df5_2.loc[df5_2['provider'].str.contains('티빙')]\n",
        "\n",
        "# 서브플롯\n",
        "specs = [[{'type':'domain'}, {'type':'domain'},{'type':'domain'}, {'type':'domain'}],[{'type':'domain'}, {'type':'domain'},{'type':'domain'}, {'type':'domain'}]]\n",
        "fig = make_subplots(rows=2, cols=4, specs=specs)\n",
        "\n",
        "fig.add_trace(go.Pie(labels=ama['장르'], values=ama['count'], name=\"아마존\"),1, 1)\n",
        "fig.add_trace(go.Pie(labels=di['장르'], values=di['count'], name=\"디즈니+\"),1, 2)\n",
        "fig.add_trace(go.Pie(labels=wave['장르'], values=wave['count'], name=\"웨이브\"),1, 3)\n",
        "fig.add_trace(go.Pie(labels=net['장르'], values=net['count'], name=\"넷플릭스\"),1, 4)\n",
        "fig.add_trace(go.Pie(labels=coo['장르'], values=coo['count'], name=\"쿠팡플레이\"),2, 1)\n",
        "fig.add_trace(go.Pie(labels=wat['장르'], values=wat['count'], name=\"왓챠\"),2, 2)\n",
        "fig.add_trace(go.Pie(labels=see['장르'], values=see['count'], name=\"seezn\"),2, 3)\n",
        "fig.add_trace(go.Pie(labels=ti['장르'], values=ti['count'], name=\"티빙\"),2, 4)\n",
        "\n",
        "#도넛모양으로 만들기\n",
        "fig.update_traces(hole=.4, hoverinfo=\"label+percent+name\",textinfo='none')\n",
        "\n",
        "fig.update_layout(\n",
        "    title_text='장르별 분류',\n",
        "    # Add annotations in the center of the donut pies.\n",
        "    annotations=[dict(text='아마존', x=0.09, y=0.8, font_size=11, showarrow=False),\n",
        "                 dict(text='디즈니+', x=0.371, y=0.8, font_size=11, showarrow=False),\n",
        "                 dict(text='웨이브', x=0.63, y=0.8, font_size=11, showarrow=False),\n",
        "                 dict(text='넷플릭스', x=0.914, y=0.8, font_size=11, showarrow=False),\n",
        "                 dict(text='쿠팡', x=0.09, y=0.19, font_size=11, showarrow=False),\n",
        "                 dict(text='왓챠', x=0.371, y=0.19, font_size=11, showarrow=False),\n",
        "                 dict(text='seezn', x=0.63, y=0.19, font_size=11, showarrow=False),\n",
        "                 dict(text='티빙', x=0.914, y=0.19, font_size=11, showarrow=False)])\n",
        "fig = go.Figure(fig)\n",
        "fig.show()"
      ],
      "metadata": {
        "id": "IYEsVqPBAM64"
      },
      "execution_count": null,
      "outputs": []
    },
    {
      "cell_type": "code",
      "source": [
        "#영상매체별[애니메이션,다큐멘터리,드라마,예능,공연] 분류\n",
        "\n",
        "li=['애니메이션','다큐멘터리','예능','공연','드라마']\n",
        "df5_3=df5.loc[df5['장르'].isin(li)]\n",
        "\n",
        "\"\"\"각 플랫폼 별로 시각화=[아마존프라임비디오,디즈니+,웨이브,넷플릭스,쿠팡플레이,왓챠,seezn,티빙]만\n",
        "라프텔은 99퍼가 애니메이션이라 제외\n",
        "appletv와 네이버시리즈온은 데이터 양이 적어 제외시킴\"\"\"\n",
        "\n",
        "#라이브러리 호출\n",
        "import plotly.graph_objects as go\n",
        "from plotly.subplots import make_subplots\n",
        "\n",
        "ama=df5_3.loc[df5_3['provider'].str.contains('아마존프라임비디오')]\n",
        "di=df5_3.loc[df5_3['provider'].str.contains('디즈니+')]\n",
        "wave=df5_3.loc[df5_3['provider'].str.contains('웨이브')]\n",
        "net=df5_3.loc[df5_3['provider'].str.contains('넷플릭스')]\n",
        "coo=df5_3.loc[df5_3['provider'].str.contains('쿠팡플레이')]\n",
        "wat=df5_3.loc[df5_3['provider'].str.contains('왓챠')]\n",
        "see=df5_3.loc[df5_3['provider'].str.contains('seezn')]\n",
        "ti=df5_3.loc[df5_3['provider'].str.contains('티빙')]\n",
        "\n",
        "# 서브플롯\n",
        "specs = [[{'type':'domain'}, {'type':'domain'},{'type':'domain'}, {'type':'domain'}],[{'type':'domain'}, {'type':'domain'},{'type':'domain'}, {'type':'domain'}]]\n",
        "fig = make_subplots(rows=2, cols=4, specs=specs)\n",
        "\n",
        "fig.add_trace(go.Pie(labels=ama['장르'], values=ama['count'], name=\"아마존\"),1, 1)\n",
        "fig.add_trace(go.Pie(labels=di['장르'], values=di['count'], name=\"디즈니+\"),1, 2)\n",
        "fig.add_trace(go.Pie(labels=wave['장르'], values=wave['count'], name=\"웨이브\"),1, 3)\n",
        "fig.add_trace(go.Pie(labels=net['장르'], values=net['count'], name=\"넷플릭스\"),1, 4)\n",
        "fig.add_trace(go.Pie(labels=coo['장르'], values=coo['count'], name=\"쿠팡플레이\"),2, 1)\n",
        "fig.add_trace(go.Pie(labels=wat['장르'], values=wat['count'], name=\"왓챠\"),2, 2)\n",
        "fig.add_trace(go.Pie(labels=see['장르'], values=see['count'], name=\"seezn\"),2, 3)\n",
        "fig.add_trace(go.Pie(labels=ti['장르'], values=ti['count'], name=\"티빙\"),2, 4)\n",
        "\n",
        "#도넛모양으로 만들기\n",
        "fig.update_traces(hole=.4, hoverinfo=\"label+percent+name\",textinfo='none')\n",
        "\n",
        "fig.update_layout(\n",
        "    title_text='영상매체',\n",
        "    # Add annotations in the center of the donut pies.\n",
        "    annotations=[dict(text='아마존', x=0.09, y=0.8, font_size=11, showarrow=False),\n",
        "                 dict(text='디즈니+', x=0.371, y=0.8, font_size=11, showarrow=False),\n",
        "                 dict(text='웨이브', x=0.63, y=0.8, font_size=11, showarrow=False),\n",
        "                 dict(text='넷플릭스', x=0.914, y=0.8, font_size=11, showarrow=False),\n",
        "                 dict(text='쿠팡', x=0.09, y=0.19, font_size=11, showarrow=False),\n",
        "                 dict(text='왓챠', x=0.371, y=0.19, font_size=11, showarrow=False),\n",
        "                 dict(text='seezn', x=0.63, y=0.19, font_size=11, showarrow=False),\n",
        "                 dict(text='티빙', x=0.914, y=0.19, font_size=11, showarrow=False)])\n",
        "fig = go.Figure(fig)\n",
        "fig.show()"
      ],
      "metadata": {
        "id": "JYbwdtSyPIFc"
      },
      "execution_count": null,
      "outputs": []
    }
  ]
}